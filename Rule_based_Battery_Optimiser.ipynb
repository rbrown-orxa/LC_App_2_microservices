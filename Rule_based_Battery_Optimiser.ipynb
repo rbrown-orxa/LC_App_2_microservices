{
 "cells": [
  {
   "cell_type": "markdown",
   "metadata": {},
   "source": [
    "# Rule-based control of the solar home (Python)\n",
    "\n",
    "This is the simplest control scheme of the solar home, implemented in Python. It can be used as an example of how to use the solar home test bench in this language. Rule-based control yields a good baseline performance for comparing more advanced energy management methods.\n",
    "\n",
    "See also:\n",
    "* [Python_rule-based-optim.ipynb](Python_rule-based-optim.ipynb): a slightly more complex rule-based control, with one parameter to be optimized using training data\n",
    "* [Julia_rule-based.ipynb](../julia_rule-based/Julia_rule-based.ipynb): an equivalent example in Julia\n",
    "\n",
    "Pierre Haessig, July 2019"
   ]
  },
  {
   "cell_type": "code",
   "execution_count": 1,
   "metadata": {},
   "outputs": [],
   "source": [
    "import numpy as np\n",
    "import pandas as pd\n",
    "import matplotlib.pyplot as plt\n",
    "%matplotlib inline"
   ]
  },
  {
   "cell_type": "code",
   "execution_count": null,
   "metadata": {},
   "outputs": [],
   "source": []
  },
  {
   "cell_type": "code",
   "execution_count": 4,
   "metadata": {},
   "outputs": [
    {
     "data": {
      "text/plain": [
       "['load_and_generation.pkl']"
      ]
     },
     "execution_count": 4,
     "metadata": {},
     "output_type": "execute_result"
    }
   ],
   "source": [
    "!! ls examples"
   ]
  },
  {
   "cell_type": "code",
   "execution_count": null,
   "metadata": {},
   "outputs": [],
   "source": []
  },
  {
   "cell_type": "code",
   "execution_count": 2,
   "metadata": {},
   "outputs": [
    {
     "data": {
      "text/html": [
       "<div>\n",
       "<style scoped>\n",
       "    .dataframe tbody tr th:only-of-type {\n",
       "        vertical-align: middle;\n",
       "    }\n",
       "\n",
       "    .dataframe tbody tr th {\n",
       "        vertical-align: top;\n",
       "    }\n",
       "\n",
       "    .dataframe thead th {\n",
       "        text-align: right;\n",
       "    }\n",
       "</style>\n",
       "<table border=\"1\" class=\"dataframe\">\n",
       "  <thead>\n",
       "    <tr style=\"text-align: right;\">\n",
       "      <th></th>\n",
       "      <th>17.64_1kWp_generation_kWh</th>\n",
       "      <th>load_kWh</th>\n",
       "      <th>import_kWh</th>\n",
       "      <th>export_kWh</th>\n",
       "    </tr>\n",
       "  </thead>\n",
       "  <tbody>\n",
       "    <tr>\n",
       "      <th>2019-11-04 14:00:00</th>\n",
       "      <td>0.0</td>\n",
       "      <td>3.419485</td>\n",
       "      <td>3.419485</td>\n",
       "      <td>0.0</td>\n",
       "    </tr>\n",
       "  </tbody>\n",
       "</table>\n",
       "</div>"
      ],
      "text/plain": [
       "                     17.64_1kWp_generation_kWh  load_kWh  import_kWh  \\\n",
       "2019-11-04 14:00:00                        0.0  3.419485    3.419485   \n",
       "\n",
       "                     export_kWh  \n",
       "2019-11-04 14:00:00         0.0  "
      ]
     },
     "execution_count": 2,
     "metadata": {},
     "output_type": "execute_result"
    }
   ],
   "source": [
    "imported = pd.read_pickle('ex')\n",
    "imported.sample()"
   ]
  },
  {
   "cell_type": "code",
   "execution_count": 3,
   "metadata": {},
   "outputs": [],
   "source": [
    "P_sun, P_load = imported.iloc[:,0], imported.iloc[:,1]"
   ]
  },
  {
   "cell_type": "code",
   "execution_count": 4,
   "metadata": {},
   "outputs": [
    {
     "data": {
      "text/plain": [
       "'17.64'"
      ]
     },
     "execution_count": 4,
     "metadata": {},
     "output_type": "execute_result"
    }
   ],
   "source": [
    "P_sun.name.split('_')[0]"
   ]
  },
  {
   "cell_type": "code",
   "execution_count": null,
   "metadata": {},
   "outputs": [],
   "source": []
  },
  {
   "cell_type": "markdown",
   "metadata": {},
   "source": [
    "Import solarhome utility module `benchutils`, using `bu` as a short alias."
   ]
  },
  {
   "cell_type": "markdown",
   "metadata": {},
   "source": [
    "## 2. Rule based control\n",
    "\n",
    "control rules:\n",
    "\n",
    "* storage should follow the net load as much as possible: $P_{sto} = -P_{nl} = P_{sun} - P_{load} $\n",
    "* if empty, use grid instead\n",
    "* if full, curtail the excess of production\n",
    "\n",
    "inputs: $P_{sun}$, $P_{load}$ and storage state $E_{sto}$\n",
    "\n",
    "Outputs: $P_{sto}$, $P_{grid}$, $P_{curt}$\n",
    "\n",
    "def: net load: $P_{nl} = P_{load} - P_{sun}$\n",
    "\n",
    "* if $P_{nl}>0$ (load > sun)\n",
    "  * if battery not empty: battery discharge to follow net load $P_{sto} = -P_{nl} <0 $, $P_{grid} = 0$.\n",
    "  * if battery is empty, use the grid instead: $P_{grid} = P_{nl}$\n",
    "* if $P_{nl}<0$ (sun > load)\n",
    "  * if battery not full: battery charges to absorbe net production $P_{sto} = -P_{nl} > 0$, $P_{grid} = 0$.\n",
    "  * if battery is full, curtail the excess of production: $P_{curt} = -P_{nl}$, so that $P_{sun} - P_{curt} = P_{pv} = P_{load}$. $P_{grid} = 0$"
   ]
  },
  {
   "cell_type": "code",
   "execution_count": 6,
   "metadata": {},
   "outputs": [],
   "source": [
    "def control(P_sun, P_load, E_sto, dt, E_rated):\n",
    "    \"\"\"\"\"\n",
    "    P_sun: Generated power from PV (kW)\n",
    "    P_load: Building load demand (kW)\n",
    "    E_sto: Energy stored in the battery (kWh)\n",
    "    dt: Derivate of time step (Hours)\n",
    "    \n",
    "    \"\"\"\"\"\n",
    "    P_nl = P_load - P_sun # Net load -> Power needed by building from grid or battery (or combination)\n",
    "    # outputs:\n",
    "    P_sto = 0. # The power flowing into the battery (kW)\n",
    "    P_grid = 0. # The power imported from the grid (kW)\n",
    "    P_curt = 0. # The power exported to the grid (kW)\n",
    "    \n",
    "    E_next = E_sto - P_nl*dt # Energy stored in the battery at the end of current timestep (kWh)\n",
    "    \n",
    "    if P_nl>0: # (load > sun) -> Try to discharge the battery to the building load, if energy is available\n",
    "        #TODO: Limit rate of discharge of battery\n",
    "        E_next = E_next if E_next>0. else 0.\n",
    "        P_sto = (E_next - E_sto)/dt # <0 # Calculate power flowing out of the battery\n",
    "        P_grid = P_nl + P_sto # Calculate power taken from the grid as load power minus the batter discharge power\n",
    "    else: # (load <= sun) -> Try to charge the battery\n",
    "        E_next = E_next if E_next<E_rated else E_rated # Calculate battery charge state. Don't charge if full.\n",
    "        P_sto = (E_next - E_sto)/dt # >0 # Calculate power flowing into the battery\n",
    "        P_curt = -P_nl - P_sto#Calculate exported power: difference between net load and power flowing into battery\n",
    "    return P_sto, P_grid, P_curt"
   ]
  },
  {
   "cell_type": "markdown",
   "metadata": {},
   "source": [
    "#solve for one timestep\n",
    "control(P_sun[0], P_load[0], E_sto=0.0, dt=1, E_rated=8.0)"
   ]
  },
  {
   "cell_type": "markdown",
   "metadata": {
    "toc-hr-collapsed": false
   },
   "source": [
    "## 3. Solar home simulation"
   ]
  },
  {
   "cell_type": "code",
   "execution_count": 8,
   "metadata": {},
   "outputs": [
    {
     "name": "stdout",
     "output_type": "stream",
     "text": [
      "................................................."
     ]
    }
   ],
   "source": [
    "rv = {}\n",
    "dt = 1\n",
    "for i in range(1,50,1):\n",
    "    E_rated=i\n",
    "    n = len(P_load)\n",
    "    P_sto = np.zeros(n)\n",
    "    E_sto = np.zeros(n+1)\n",
    "    P_grid = np.zeros(n)\n",
    "    P_curt = np.zeros(n)\n",
    "\n",
    "    E_sto[0]= 0 # start the battery at 0% charge\n",
    "\n",
    "    for k in range(n):\n",
    "        P_sto[k], P_grid[k], P_curt[k] = control(P_sun.values[k], P_load.values[k], E_sto[k], dt=dt, E_rated=E_rated)\n",
    "        E_sto[k+1] = E_sto[k] + P_sto[k]*dt\n",
    "        assert 0 <= E_sto[k+1] <= E_rated # Check that battery charge is non-negative and not over capacity\n",
    "\n",
    "\n",
    "    E_sto = E_sto[:-1]\n",
    "    P_pv = P_sun - P_curt\n",
    "    P_nl = P_load - P_sun\n",
    "\n",
    "    results = pd.DataFrame([P_sto, E_sto, P_grid, P_curt]).T.rename(columns={\n",
    "        0:'P_sto',\n",
    "        1:'E_sto',\n",
    "        2:'P_grid',\n",
    "        3:'P_curt'\n",
    "    })\n",
    "\n",
    "\n",
    "    # Power taken from the grid for \n",
    "    grid_power = results['P_grid'].sum()\n",
    "#     print(f'battery size: {i} kWh, energy taken from grid: {grid_power} kWh')\n",
    "    print('.', end='', flush=True)\n",
    "    rv[str(i)] = grid_power\n",
    "# rv"
   ]
  },
  {
   "cell_type": "code",
   "execution_count": 9,
   "metadata": {
    "scrolled": true
   },
   "outputs": [
    {
     "data": {
      "text/plain": [
       "Text(0, 0.5, 'Imported Energy (kWh)')"
      ]
     },
     "execution_count": 9,
     "metadata": {},
     "output_type": "execute_result"
    },
    {
     "data": {
      "image/png": "[encoded data removed]",
      "text/plain": [
       "<Figure size 1080x216 with 1 Axes>"
      ]
     },
     "metadata": {
      "needs_background": "light"
     },
     "output_type": "display_data"
    }
   ],
   "source": [
    "ax = pd.DataFrame(rv.values(), columns=['Imported Power'], index=rv.keys()).plot(\n",
    "    title='Grid costs for various battery sizes at Orxagrid Factory Load for one year, with 17.64 kWp PV system',\n",
    "    grid=True, figsize=(15,3))\n",
    "ax.set_xlabel('Battery Capacity (kWh)')\n",
    "ax.set_ylabel('Imported Energy (kWh)')"
   ]
  },
  {
   "cell_type": "code",
   "execution_count": null,
   "metadata": {},
   "outputs": [],
   "source": []
  },
  {
   "cell_type": "code",
   "execution_count": null,
   "metadata": {},
   "outputs": [],
   "source": []
  },
  {
   "cell_type": "code",
   "execution_count": null,
   "metadata": {},
   "outputs": [],
   "source": []
  }
 ],
 "metadata": {
  "kernelspec": {
   "display_name": "Python 3",
   "language": "python",
   "name": "python3"
  },
  "language_info": {
   "codemirror_mode": {
    "name": "ipython",
    "version": 3
   },
   "file_extension": ".py",
   "mimetype": "text/x-python",
   "name": "python",
   "nbconvert_exporter": "python",
   "pygments_lexer": "ipython3",
   "version": "3.7.6"
  }
 },
 "nbformat": 4,
 "nbformat_minor": 4
}
