{
 "cells": [
  {
   "cell_type": "markdown",
   "metadata": {},
   "source": [
    "# Rule-based control of the solar home (Python)\n",
    "\n",
    "This is the simplest control scheme of the solar home, implemented in Python. It can be used as an example of how to use the solar home test bench in this language. Rule-based control yields a good baseline performance for comparing more advanced energy management methods.\n",
    "\n",
    "See also:\n",
    "* [Python_rule-based-optim.ipynb](Python_rule-based-optim.ipynb): a slightly more complex rule-based control, with one parameter to be optimized using training data\n",
    "* [Julia_rule-based.ipynb](../julia_rule-based/Julia_rule-based.ipynb): an equivalent example in Julia\n",
    "\n",
    "Pierre Haessig, July 2019"
   ]
  },
  {
   "cell_type": "code",
   "execution_count": 1,
   "metadata": {},
   "outputs": [],
   "source": [
    "import numpy as np\n",
    "import pandas as pd\n",
    "import matplotlib.pyplot as plt\n",
    "%matplotlib inline"
   ]
  },
  {
   "cell_type": "code",
   "execution_count": null,
   "metadata": {},
   "outputs": [],
   "source": []
  },
  {
   "cell_type": "code",
   "execution_count": 4,
   "metadata": {},
   "outputs": [
    {
     "data": {
      "text/plain": [
       "['load_and_generation.pkl']"
      ]
     },
     "execution_count": 4,
     "metadata": {},
     "output_type": "execute_result"
    }
   ],
   "source": [
    "!! ls examples"
   ]
  },
  {
   "cell_type": "code",
   "execution_count": null,
   "metadata": {},
   "outputs": [],
   "source": []
  },
  {
   "cell_type": "code",
   "execution_count": 5,
   "metadata": {},
   "outputs": [
    {
     "data": {
      "text/html": [
       "<div>\n",
       "<style scoped>\n",
       "    .dataframe tbody tr th:only-of-type {\n",
       "        vertical-align: middle;\n",
       "    }\n",
       "\n",
       "    .dataframe tbody tr th {\n",
       "        vertical-align: top;\n",
       "    }\n",
       "\n",
       "    .dataframe thead th {\n",
       "        text-align: right;\n",
       "    }\n",
       "</style>\n",
       "<table border=\"1\" class=\"dataframe\">\n",
       "  <thead>\n",
       "    <tr style=\"text-align: right;\">\n",
       "      <th></th>\n",
       "      <th>17.64_1kWp_generation_kWh</th>\n",
       "      <th>load_kWh</th>\n",
       "      <th>import_kWh</th>\n",
       "      <th>export_kWh</th>\n",
       "    </tr>\n",
       "  </thead>\n",
       "  <tbody>\n",
       "    <tr>\n",
       "      <th>2019-05-02 05:00:00</th>\n",
       "      <td>11.199535</td>\n",
       "      <td>10.176987</td>\n",
       "      <td>0.0</td>\n",
       "      <td>-1.022548</td>\n",
       "    </tr>\n",
       "  </tbody>\n",
       "</table>\n",
       "</div>"
      ],
      "text/plain": [
       "                     17.64_1kWp_generation_kWh   load_kWh  import_kWh  \\\n",
       "2019-05-02 05:00:00                  11.199535  10.176987         0.0   \n",
       "\n",
       "                     export_kWh  \n",
       "2019-05-02 05:00:00   -1.022548  "
      ]
     },
     "execution_count": 5,
     "metadata": {},
     "output_type": "execute_result"
    }
   ],
   "source": [
    "imported = pd.read_pickle('examples/load_and_generation.pkl')\n",
    "imported.sample()"
   ]
  },
  {
   "cell_type": "code",
   "execution_count": 6,
   "metadata": {},
   "outputs": [],
   "source": [
    "P_sun, P_load = imported.iloc[:,0], imported.iloc[:,1]"
   ]
  },
  {
   "cell_type": "code",
   "execution_count": 7,
   "metadata": {},
   "outputs": [
    {
     "data": {
      "text/plain": [
       "'17.64'"
      ]
     },
     "execution_count": 7,
     "metadata": {},
     "output_type": "execute_result"
    }
   ],
   "source": [
    "P_sun.name.split('_')[0]"
   ]
  },
  {
   "cell_type": "code",
   "execution_count": null,
   "metadata": {},
   "outputs": [],
   "source": []
  },
  {
   "cell_type": "markdown",
   "metadata": {},
   "source": [
    "Import solarhome utility module `benchutils`, using `bu` as a short alias."
   ]
  },
  {
   "cell_type": "markdown",
   "metadata": {},
   "source": [
    "## 2. Rule based control\n",
    "\n",
    "control rules:\n",
    "\n",
    "* storage should follow the net load as much as possible: $P_{sto} = -P_{nl} = P_{sun} - P_{load} $\n",
    "* if empty, use grid instead\n",
    "* if full, curtail the excess of production\n",
    "\n",
    "inputs: $P_{sun}$, $P_{load}$ and storage state $E_{sto}$\n",
    "\n",
    "Outputs: $P_{sto}$, $P_{grid}$, $P_{curt}$\n",
    "\n",
    "def: net load: $P_{nl} = P_{load} - P_{sun}$\n",
    "\n",
    "* if $P_{nl}>0$ (load > sun)\n",
    "  * if battery not empty: battery discharge to follow net load $P_{sto} = -P_{nl} <0 $, $P_{grid} = 0$.\n",
    "  * if battery is empty, use the grid instead: $P_{grid} = P_{nl}$\n",
    "* if $P_{nl}<0$ (sun > load)\n",
    "  * if battery not full: battery charges to absorbe net production $P_{sto} = -P_{nl} > 0$, $P_{grid} = 0$.\n",
    "  * if battery is full, curtail the excess of production: $P_{curt} = -P_{nl}$, so that $P_{sun} - P_{curt} = P_{pv} = P_{load}$. $P_{grid} = 0$"
   ]
  },
  {
   "cell_type": "code",
   "execution_count": 8,
   "metadata": {},
   "outputs": [],
   "source": [
    "def control(P_sun, P_load, E_sto, dt, E_rated):\n",
    "    \"\"\"\"\"\n",
    "    P_sun: Generated power from PV (kW)\n",
    "    P_load: Building load demand (kW)\n",
    "    E_sto: Energy stored in the battery (kWh)\n",
    "    dt: Derivate of time step (Hours)\n",
    "    \n",
    "    \"\"\"\"\"\n",
    "    P_nl = P_load - P_sun # Net load -> Power needed by building from grid or battery (or combination)\n",
    "    # outputs:\n",
    "    P_sto = 0. # The power flowing into the battery (kW)\n",
    "    P_grid = 0. # The power imported from the grid (kW)\n",
    "    P_curt = 0. # The power exported to the grid (kW)\n",
    "    \n",
    "    E_next = E_sto - P_nl*dt # Energy stored in the battery at the end of current timestep (kWh)\n",
    "    \n",
    "    if P_nl>0: # (load > sun) -> Try to discharge the battery to the building load, if energy is available\n",
    "        #TODO: Limit rate of discharge of battery\n",
    "        E_next = E_next if E_next>0. else 0.\n",
    "        P_sto = (E_next - E_sto)/dt # <0 # Calculate power flowing out of the battery\n",
    "        P_grid = P_nl + P_sto # Calculate power taken from the grid as load power minus the batter discharge power\n",
    "    else: # (load <= sun) -> Try to charge the battery\n",
    "        E_next = E_next if E_next<E_rated else E_rated # Calculate battery charge state. Don't charge if full.\n",
    "        P_sto = (E_next - E_sto)/dt # >0 # Calculate power flowing into the battery\n",
    "        P_curt = -P_nl - P_sto#Calculate exported power: difference between net load and power flowing into battery\n",
    "    return P_sto, P_grid, P_curt"
   ]
  },
  {
   "cell_type": "markdown",
   "metadata": {},
   "source": [
    "#solve for one timestep\n",
    "control(P_sun[0], P_load[0], E_sto=0.0, dt=1, E_rated=8.0)"
   ]
  },
  {
   "cell_type": "markdown",
   "metadata": {
    "toc-hr-collapsed": false
   },
   "source": [
    "## 3. Solar home simulation"
   ]
  },
  {
   "cell_type": "code",
   "execution_count": 9,
   "metadata": {},
   "outputs": [
    {
     "name": "stdout",
     "output_type": "stream",
     "text": [
      "................................................."
     ]
    }
   ],
   "source": [
    "rv = {}\n",
    "dt = 1\n",
    "for i in range(1,50,1):\n",
    "    E_rated=i\n",
    "    n = len(P_load)\n",
    "    P_sto = np.zeros(n)\n",
    "    E_sto = np.zeros(n+1)\n",
    "    P_grid = np.zeros(n)\n",
    "    P_curt = np.zeros(n)\n",
    "\n",
    "    E_sto[0]= 0 # start the battery at 0% charge\n",
    "\n",
    "    for k in range(n):\n",
    "        P_sto[k], P_grid[k], P_curt[k] = control(P_sun.values[k], P_load.values[k], E_sto[k], dt=dt, E_rated=E_rated)\n",
    "        E_sto[k+1] = E_sto[k] + P_sto[k]*dt\n",
    "        assert 0 <= E_sto[k+1] <= E_rated # Check that battery charge is non-negative and not over capacity\n",
    "\n",
    "\n",
    "    E_sto = E_sto[:-1]\n",
    "    P_pv = P_sun - P_curt\n",
    "    P_nl = P_load - P_sun\n",
    "\n",
    "    results = pd.DataFrame([P_sto, E_sto, P_grid, P_curt]).T.rename(columns={\n",
    "        0:'P_sto',\n",
    "        1:'E_sto',\n",
    "        2:'P_grid',\n",
    "        3:'P_curt'\n",
    "    })\n",
    "\n",
    "\n",
    "    # Power taken from the grid for \n",
    "    grid_power = results['P_grid'].sum()\n",
    "#     print(f'battery size: {i} kWh, energy taken from grid: {grid_power} kWh')\n",
    "    print('.', end='', flush=True)\n",
    "    rv[str(i)] = grid_power\n",
    "# rv"
   ]
  },
  {
   "cell_type": "code",
   "execution_count": 10,
   "metadata": {
    "scrolled": true
   },
   "outputs": [
    {
     "data": {
      "text/plain": [
       "Text(0, 0.5, 'Imported Energy (kWh)')"
      ]
     },
     "execution_count": 10,
     "metadata": {},
     "output_type": "execute_result"
    },
    {
     "data": {
      "image/png": "[encoded data removed]",
      "text/plain": [
       "<Figure size 1080x216 with 1 Axes>"
      ]
     },
     "metadata": {
      "needs_background": "light"
     },
     "output_type": "display_data"
    }
   ],
   "source": [
    "ax = pd.DataFrame(rv.values(), columns=['Imported Power'], index=rv.keys()).plot(\n",
    "    title='Grid costs for various battery sizes at Orxagrid Factory Load for one year, with 17.64 kWp PV system',\n",
    "    grid=True, figsize=(15,3))\n",
    "ax.set_xlabel('Battery Capacity (kWh)')\n",
    "ax.set_ylabel('Imported Energy (kWh)')"
   ]
  },
  {
   "cell_type": "markdown",
   "metadata": {},
   "source": [
    "## Method\n",
    "#### ~~Select type of battery~~\n",
    "#### ~~Get lifespan of battery~~\n",
    "#### ~~Get install cost of battery~~\n",
    "#### ~~Calculate amortized cost of battery per kWh per year~~\n",
    "#### ~~Get cost of energy per kWh~~\n",
    "#### ~~Choose initial and step size for battery (e.g. 1 kW with a step size of 0.5 kW)~~\n",
    "#### For each step size, calculate cost of battery plus cost of import\n",
    "#### Choose step size at which to stop optimisation\n",
    "#### Select step size with lowest total cost\n",
    "### Stretch target: Include export revenue"
   ]
  },
  {
   "cell_type": "markdown",
   "metadata": {},
   "source": [
    "https://www.greenmatch.co.uk/blog/2018/07/solar-battery-storage-system-cost"
   ]
  },
  {
   "attachments": {
    "Screenshot%202020-07-28%20at%2011.18.44.png": {
     "image/png": "[encoded data removed]"
    }
   },
   "cell_type": "markdown",
   "metadata": {},
   "source": [
    "![Screenshot%202020-07-28%20at%2011.18.44.png](attachment:Screenshot%202020-07-28%20at%2011.18.44.png)"
   ]
  },
  {
   "cell_type": "code",
   "execution_count": 13,
   "metadata": {},
   "outputs": [],
   "source": [
    "BATTERY_TYPE = 'lithium ion'\n",
    "DEPTH_OF_DISCHARGE = 0.9\n",
    "LIFE_CYCLE = 4000\n",
    "BATTERY_COST_KWH = 1000"
   ]
  },
  {
   "cell_type": "code",
   "execution_count": 17,
   "metadata": {},
   "outputs": [],
   "source": [
    "IMPORT_COST_KWH = 0.14"
   ]
  },
  {
   "cell_type": "code",
   "execution_count": 14,
   "metadata": {},
   "outputs": [],
   "source": [
    "discharge_cycles_per_day = 1\n",
    "days_per_year = 365\n",
    "cycles_per_year = discharge_cycles_per_day * days_per_year"
   ]
  },
  {
   "cell_type": "code",
   "execution_count": 15,
   "metadata": {},
   "outputs": [
    {
     "data": {
      "text/plain": [
       "10.95890410958904"
      ]
     },
     "execution_count": 15,
     "metadata": {},
     "output_type": "execute_result"
    }
   ],
   "source": [
    "battery_life_years = LIFE_CYCLE / cycles_per_year\n",
    "battery_life_years"
   ]
  },
  {
   "cell_type": "code",
   "execution_count": 16,
   "metadata": {},
   "outputs": [
    {
     "data": {
      "text/plain": [
       "91.25"
      ]
     },
     "execution_count": 16,
     "metadata": {},
     "output_type": "execute_result"
    }
   ],
   "source": [
    "amortized_battery_cost_kwh = BATTERY_COST_KWH / battery_life_years\n",
    "amortized_battery_cost_kwh"
   ]
  },
  {
   "cell_type": "code",
   "execution_count": 18,
   "metadata": {},
   "outputs": [],
   "source": [
    "#Choose initial and step size for battery (e.g. 1 kW with a step size of 0.5 kW)\n",
    "INITIAL_SIZE = 0\n",
    "FIXED_STEP_SIZE = 1"
   ]
  },
  {
   "cell_type": "code",
   "execution_count": 25,
   "metadata": {},
   "outputs": [],
   "source": [
    "# P_sun: Generated power from PV (kW)\n",
    "# P_load: Building load demand (kW)\n",
    "# E_sto: Energy stored in the battery (kWh)\n",
    "# dt: Derivate of time step (Hours)"
   ]
  },
  {
   "cell_type": "code",
   "execution_count": null,
   "metadata": {},
   "outputs": [],
   "source": []
  },
  {
   "cell_type": "code",
   "execution_count": 87,
   "metadata": {
    "scrolled": true
   },
   "outputs": [
    {
     "name": "stdout",
     "output_type": "stream",
     "text": [
      "Size:00 \tbattery cost:0.00 \tImport kWh:10399.32 \tImport cost:1455.90\tTotal Cost:1455.90\n",
      "Size:01 \tbattery cost:91.25 \tImport kWh:10006.88 \tImport cost:1400.96\tTotal Cost:1492.21\n",
      "Size:02 \tbattery cost:182.50 \tImport kWh:9636.80 \tImport cost:1349.15\tTotal Cost:1531.65\n",
      "Size:03 \tbattery cost:273.75 \tImport kWh:9291.20 \tImport cost:1300.77\tTotal Cost:1574.52\n",
      "Size:04 \tbattery cost:365.00 \tImport kWh:8958.09 \tImport cost:1254.13\tTotal Cost:1619.13\n",
      "Size:05 \tbattery cost:456.25 \tImport kWh:8636.93 \tImport cost:1209.17\tTotal Cost:1665.42\n",
      "Size:06 \tbattery cost:547.50 \tImport kWh:8332.18 \tImport cost:1166.51\tTotal Cost:1714.01\n",
      "Size:07 \tbattery cost:638.75 \tImport kWh:8037.99 \tImport cost:1125.32\tTotal Cost:1764.07\n",
      "Size:08 \tbattery cost:730.00 \tImport kWh:7763.00 \tImport cost:1086.82\tTotal Cost:1816.82\n",
      "Size:09 \tbattery cost:821.25 \tImport kWh:7511.60 \tImport cost:1051.62\tTotal Cost:1872.87\n"
     ]
    }
   ],
   "source": [
    "rv = {}\n",
    "dt = 1\n",
    "one_year = len(P_load)\n",
    "for size in range(0, 10 ,1):\n",
    "    battery_cost = size * amortized_battery_cost_kwh\n",
    "    \n",
    "    E_rated=size\n",
    "    P_sto = np.zeros(one_year)\n",
    "    E_sto = np.zeros(one_year+1)\n",
    "    P_grid = np.zeros(one_year)\n",
    "    P_curt = np.zeros(one_year)\n",
    "    E_sto[0]= 0 # start the battery at 0% charge\n",
    "\n",
    "    for hour in range(one_year):\n",
    "        P_sto[hour], P_grid[hour], P_curt[hour] = control(P_sun.values[hour], P_load.values[hour], E_sto[hour], dt=dt, E_rated=E_rated)\n",
    "        E_sto[hour+1] = E_sto[hour] + P_sto[hour]*dt\n",
    "        assert 0 <= E_sto[hour+1] <= E_rated # Check that battery charge is non-negative and not over capacity\n",
    "    E_sto = E_sto[:-1]\n",
    "    P_pv = P_sun - P_curt\n",
    "    P_nl = P_load - P_sun\n",
    "\n",
    "    grid_power = P_grid.sum()\n",
    "    import_cost = grid_power * IMPORT_COST_KWH\n",
    "    total_cost = battery_cost + import_cost\n",
    "\n",
    "    rv[size] = grid_power\n",
    "    print(\n",
    "        f'Size:{str(size).zfill(2)} \\tbattery cost:{battery_cost:.2f} ' + \n",
    "        f'\\tImport kWh:{grid_power:.2f} \\tImport cost:{import_cost:.2f}' +\n",
    "        f'\\tTotal Cost:{total_cost:.2f}')\n",
    "# rv"
   ]
  },
  {
   "cell_type": "code",
   "execution_count": 47,
   "metadata": {},
   "outputs": [
    {
     "data": {
      "text/plain": [
       "{0: 10399.318787140248,\n",
       " 1: 10006.879722900476,\n",
       " 2: 9636.802579650162,\n",
       " 3: 9291.1951562069,\n",
       " 4: 8958.093711606356,\n",
       " 5: 8636.929362479692,\n",
       " 6: 8332.18036037775,\n",
       " 7: 8037.9878224132635,\n",
       " 8: 7763.000239151154,\n",
       " 9: 7511.601161628768,\n",
       " 10: 7280.720027830204}"
      ]
     },
     "execution_count": 47,
     "metadata": {},
     "output_type": "execute_result"
    }
   ],
   "source": [
    "rv"
   ]
  },
  {
   "cell_type": "code",
   "execution_count": null,
   "metadata": {},
   "outputs": [],
   "source": []
  },
  {
   "cell_type": "markdown",
   "metadata": {},
   "source": [
    "STOP = False\n",
    "while not STOP:\n",
    "    "
   ]
  },
  {
   "cell_type": "code",
   "execution_count": null,
   "metadata": {},
   "outputs": [],
   "source": []
  },
  {
   "cell_type": "code",
   "execution_count": null,
   "metadata": {},
   "outputs": [],
   "source": []
  },
  {
   "cell_type": "code",
   "execution_count": null,
   "metadata": {},
   "outputs": [],
   "source": []
  },
  {
   "cell_type": "code",
   "execution_count": null,
   "metadata": {},
   "outputs": [],
   "source": []
  },
  {
   "cell_type": "code",
   "execution_count": null,
   "metadata": {},
   "outputs": [],
   "source": []
  }
 ],
 "metadata": {
  "kernelspec": {
   "display_name": "Python 3",
   "language": "python",
   "name": "python3"
  },
  "language_info": {
   "codemirror_mode": {
    "name": "ipython",
    "version": 3
   },
   "file_extension": ".py",
   "mimetype": "text/x-python",
   "name": "python",
   "nbconvert_exporter": "python",
   "pygments_lexer": "ipython3",
   "version": "3.7.6"
  }
 },
 "nbformat": 4,
 "nbformat_minor": 4
}
