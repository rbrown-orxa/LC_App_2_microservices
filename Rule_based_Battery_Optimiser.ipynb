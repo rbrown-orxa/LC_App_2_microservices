{
 "cells": [
  {
   "cell_type": "markdown",
   "metadata": {},
   "source": [
    "# Rule-based control of the solar home (Python)\n",
    "\n",
    "This is the simplest control scheme of the solar home, implemented in Python. It can be used as an example of how to use the solar home test bench in this language. Rule-based control yields a good baseline performance for comparing more advanced energy management methods.\n",
    "\n",
    "See also:\n",
    "* [Python_rule-based-optim.ipynb](Python_rule-based-optim.ipynb): a slightly more complex rule-based control, with one parameter to be optimized using training data\n",
    "* [Julia_rule-based.ipynb](../julia_rule-based/Julia_rule-based.ipynb): an equivalent example in Julia\n",
    "\n",
    "Pierre Haessig, July 2019"
   ]
  },
  {
   "cell_type": "code",
   "execution_count": 1,
   "metadata": {},
   "outputs": [],
   "source": [
    "import numpy as np\n",
    "import pandas as pd\n",
    "import matplotlib.pyplot as plt\n",
    "%matplotlib inline"
   ]
  },
  {
   "cell_type": "markdown",
   "metadata": {},
   "source": [
    "Fixed costs taken from:\n",
    "https://www.greenmatch.co.uk/blog/2018/07/solar-battery-storage-system-cost"
   ]
  },
  {
   "cell_type": "code",
   "execution_count": null,
   "metadata": {},
   "outputs": [],
   "source": []
  },
  {
   "cell_type": "markdown",
   "metadata": {},
   "source": [
    "Import solarhome utility module `benchutils`, using `bu` as a short alias."
   ]
  },
  {
   "cell_type": "markdown",
   "metadata": {},
   "source": [
    "## 2. Rule based control\n",
    "\n",
    "control rules:\n",
    "\n",
    "* storage should follow the net load as much as possible: $P_{sto} = -P_{nl} = P_{sun} - P_{load} $\n",
    "* if empty, use grid instead\n",
    "* if full, curtail the excess of production\n",
    "\n",
    "inputs: $P_{sun}$, $P_{load}$ and storage state $E_{sto}$\n",
    "\n",
    "Outputs: $P_{sto}$, $P_{grid}$, $P_{curt}$\n",
    "\n",
    "def: net load: $P_{nl} = P_{load} - P_{sun}$\n",
    "\n",
    "* if $P_{nl}>0$ (load > sun)\n",
    "  * if battery not empty: battery discharge to follow net load $P_{sto} = -P_{nl} <0 $, $P_{grid} = 0$.\n",
    "  * if battery is empty, use the grid instead: $P_{grid} = P_{nl}$\n",
    "* if $P_{nl}<0$ (sun > load)\n",
    "  * if battery not full: battery charges to absorbe net production $P_{sto} = -P_{nl} > 0$, $P_{grid} = 0$.\n",
    "  * if battery is full, curtail the excess of production: $P_{curt} = -P_{nl}$, so that $P_{sun} - P_{curt} = P_{pv} = P_{load}$. $P_{grid} = 0$"
   ]
  },
  {
   "cell_type": "code",
   "execution_count": 2,
   "metadata": {},
   "outputs": [],
   "source": [
    "def control(P_sun, P_load, E_sto, dt, E_rated):\n",
    "    \"\"\"\"\"\n",
    "    P_sun: Generated power from PV (kW)\n",
    "    P_load: Building load demand (kW)\n",
    "    E_sto: Energy stored in the battery (kWh)\n",
    "    dt: Derivate of time step (Hours)\n",
    "    \n",
    "    \"\"\"\"\"\n",
    "    P_nl = P_load - P_sun # Net load -> Power needed by building from grid or battery (or combination)\n",
    "    # outputs:\n",
    "    P_sto = 0. # The power flowing into the battery (kW)\n",
    "    P_grid = 0. # The power imported from the grid (kW)\n",
    "    P_curt = 0. # The power exported to the grid (kW)\n",
    "    \n",
    "    E_next = E_sto - P_nl*dt # Energy stored in the battery at the end of current timestep (kWh)\n",
    "    \n",
    "    if P_nl>0: # (load > sun) -> Try to discharge the battery to the building load, if energy is available\n",
    "        #TODO: Limit rate of discharge of battery\n",
    "        E_next = E_next if E_next>0. else 0.\n",
    "        P_sto = (E_next - E_sto)/dt # <0 # Calculate power flowing out of the battery\n",
    "        P_grid = P_nl + P_sto # Calculate power taken from the grid as load power minus the batter discharge power\n",
    "    else: # (load <= sun) -> Try to charge the battery\n",
    "        E_next = E_next if E_next<E_rated else E_rated # Calculate battery charge state. Don't charge if full.\n",
    "        P_sto = (E_next - E_sto)/dt # >0 # Calculate power flowing into the battery\n",
    "        P_curt = -P_nl - P_sto#Calculate exported power: difference between net load and power flowing into battery\n",
    "    return P_sto, P_grid, P_curt"
   ]
  },
  {
   "cell_type": "markdown",
   "metadata": {
    "toc-hr-collapsed": false
   },
   "source": [
    "## 3. Solar home simulation"
   ]
  },
  {
   "cell_type": "markdown",
   "metadata": {},
   "source": [
    "## Method\n",
    "#### ~~Select type of battery~~\n",
    "#### ~~Get lifespan of battery~~\n",
    "#### ~~Get install cost of battery~~\n",
    "#### ~~Calculate amortized cost of battery per kWh per year~~\n",
    "#### ~~Get cost of energy per kWh~~\n",
    "#### ~~Choose initial and step size for battery (e.g. 1 kW with a step size of 0.5 kW)~~\n",
    "#### ~~For each step size, calculate cost of battery plus cost of import~~\n",
    "#### Choose step size at which to run and stop optimisation\n",
    "#### Include export revenue\n",
    "#### Select step size with lowest total cost (optimal battery size)\n",
    "#### Check optimisation results with a range of test loads"
   ]
  },
  {
   "cell_type": "code",
   "execution_count": null,
   "metadata": {},
   "outputs": [],
   "source": []
  },
  {
   "cell_type": "code",
   "execution_count": 3,
   "metadata": {},
   "outputs": [],
   "source": [
    "def amortize_batt_cost(cost_per_kwh, life_cycles):\n",
    "    discharge_cycles_per_day = 1\n",
    "    days_per_year = 365\n",
    "    cycles_per_year = discharge_cycles_per_day * days_per_year\n",
    "    _battery_life_years = life_cycles / cycles_per_year\n",
    "    _amortized_battery_cost_kwh = cost_per_kwh / _battery_life_years\n",
    "    return _amortized_battery_cost_kwh"
   ]
  },
  {
   "cell_type": "code",
   "execution_count": 27,
   "metadata": {},
   "outputs": [],
   "source": [
    "def get_opt_limits(imported_power):\n",
    "    mean_imported_power = imported_power.mean()\n",
    "    avg_dark_hours = 24\n",
    "    start_size = 0\n",
    "    stop_size = mean_imported_power * avg_dark_hours\n",
    "    step_size = (stop_size - start_size) / 20\n",
    "    return start_size, stop_size, step_size"
   ]
  },
  {
   "cell_type": "code",
   "execution_count": 4,
   "metadata": {},
   "outputs": [],
   "source": [
    "def check_result(E_sto, E_rated, digits=3):\n",
    "    \"\"\"Check that battery charge is non-negative and not over capacity\"\"\"\n",
    "    try:\n",
    "        assert round( E_sto, digits ) >= 0.0, 'Battery charge state is negative'\n",
    "        assert round ( E_sto, digits ) <= round( E_rated, digits ), 'Battery charge state is greater than capacity'\n",
    "    except(AssertionError):\n",
    "        print(f'E_sto: {E_sto}\\tE_rated: {E_rated}')\n",
    "        raise"
   ]
  },
  {
   "cell_type": "code",
   "execution_count": 5,
   "metadata": {},
   "outputs": [],
   "source": [
    "def initialise_results_arrays(length, intial_charge_percent=0):\n",
    "    P_sto = np.zeros(length)\n",
    "    E_sto = np.zeros(length+1)\n",
    "    P_grid = np.zeros(length)\n",
    "    P_curt = np.zeros(length)\n",
    "    E_sto[0]= intial_charge_percent\n",
    "    return {'P_sto':P_sto, 'E_sto':E_sto, 'P_grid':P_grid, 'P_curt':P_curt}"
   ]
  },
  {
   "cell_type": "code",
   "execution_count": 6,
   "metadata": {},
   "outputs": [],
   "source": [
    "def run_control(results, timestep, size, generation, _load, _dt):\n",
    "    assert isinstance(results, dict)\n",
    "    for k, v in results.items(): assert isinstance(v, np.ndarray)\n",
    "        \n",
    "    results['P_sto'][timestep], results['P_grid'][timestep], results['P_curt'][timestep] = \\\n",
    "        control(generation.values[timestep], _load.values[timestep], results['E_sto'][timestep], dt=_dt, E_rated=size)\n",
    "    \n",
    "    results['E_sto'][timestep+1] = results['E_sto'][timestep] + results['P_sto'][timestep] * _dt\n",
    "    \n",
    "    check_result( results['E_sto'][timestep+1], size )\n",
    "    \n",
    "    return results"
   ]
  },
  {
   "cell_type": "code",
   "execution_count": 7,
   "metadata": {},
   "outputs": [],
   "source": [
    "def evaluate_results(results, amortized_battery_cost_kwh, batt_size, IMPORT_COST_KWH, _generation, _load):\n",
    "    results['E_sto'] = results['E_sto'][:-1]\n",
    "    P_pv = _generation - results['P_curt']\n",
    "    P_nl = _load - _generation\n",
    "\n",
    "    battery_cost = batt_size * amortized_battery_cost_kwh\n",
    "#     print('Assuming timestep is one hour for kWh calculation')\n",
    "    grid_power = results['P_grid'].sum()\n",
    "#     print(f'grid power: {grid_power}')\n",
    "    import_cost = grid_power * IMPORT_COST_KWH\n",
    "    total_cost = battery_cost + import_cost\n",
    "    costs = {'batt_size':batt_size, 'battery_cost':battery_cost,\n",
    "             'import_cost':import_cost, 'total_cost':total_cost}\n",
    "    print('.', end='', flush=True)\n",
    "#     print(costs)\n",
    "    return results, costs"
   ]
  },
  {
   "cell_type": "markdown",
   "metadata": {},
   "source": [
    "### Optimise battery size"
   ]
  },
  {
   "cell_type": "code",
   "execution_count": 9,
   "metadata": {},
   "outputs": [
    {
     "data": {
      "text/html": [
       "<div>\n",
       "<style scoped>\n",
       "    .dataframe tbody tr th:only-of-type {\n",
       "        vertical-align: middle;\n",
       "    }\n",
       "\n",
       "    .dataframe tbody tr th {\n",
       "        vertical-align: top;\n",
       "    }\n",
       "\n",
       "    .dataframe thead th {\n",
       "        text-align: right;\n",
       "    }\n",
       "</style>\n",
       "<table border=\"1\" class=\"dataframe\">\n",
       "  <thead>\n",
       "    <tr style=\"text-align: right;\">\n",
       "      <th></th>\n",
       "      <th>17.64_1kWp_generation_kWh</th>\n",
       "      <th>load_kWh</th>\n",
       "      <th>import_kWh</th>\n",
       "      <th>export_kWh</th>\n",
       "    </tr>\n",
       "  </thead>\n",
       "  <tbody>\n",
       "    <tr>\n",
       "      <th>2019-05-07 13:00:00</th>\n",
       "      <td>0.017637</td>\n",
       "      <td>2.273204</td>\n",
       "      <td>2.255567</td>\n",
       "      <td>0.0</td>\n",
       "    </tr>\n",
       "  </tbody>\n",
       "</table>\n",
       "</div>"
      ],
      "text/plain": [
       "                     17.64_1kWp_generation_kWh  load_kWh  import_kWh  \\\n",
       "2019-05-07 13:00:00                   0.017637  2.273204    2.255567   \n",
       "\n",
       "                     export_kWh  \n",
       "2019-05-07 13:00:00         0.0  "
      ]
     },
     "execution_count": 9,
     "metadata": {},
     "output_type": "execute_result"
    }
   ],
   "source": [
    "imported = pd.read_pickle('examples/load_and_generation.pkl')\n",
    "imported.sample()"
   ]
  },
  {
   "cell_type": "code",
   "execution_count": 63,
   "metadata": {
    "scrolled": true
   },
   "outputs": [],
   "source": [
    "def opt(start_size, step_size, stop_size, load, generation, _batt_cost, import_cost, imported_power):\n",
    "    rv = []\n",
    "    dt = 1\n",
    "    size = 0\n",
    "    prev_cost = 0\n",
    "    i=0\n",
    "    count = 0\n",
    "    while count >= 0:\n",
    "\n",
    "        results = initialise_results_arrays(len(load))\n",
    "\n",
    "        for hour in range(len(load)):\n",
    "            results = run_control(results, hour, size, generation, load, dt)\n",
    "\n",
    "        results, costs = evaluate_results(results, _batt_cost, size, import_cost, generation, load)\n",
    "        rv.append(costs)\n",
    "            \n",
    "        cost = costs['total_cost']\n",
    "        if prev_cost:\n",
    "            diff_cost, prev_cost = cost - prev_cost, cost\n",
    "        else:\n",
    "            diff_cost, prev_cost = 0, cost\n",
    "        print(size, cost, diff_cost)\n",
    "        \n",
    "        if diff_cost <= 0:\n",
    "            count += 1\n",
    "        else:\n",
    "            count -= 1\n",
    "        \n",
    "        size += 1\n",
    "    \n",
    "    return pd.DataFrame(rv).set_index('batt_size')"
   ]
  },
  {
   "cell_type": "code",
   "execution_count": 64,
   "metadata": {},
   "outputs": [
    {
     "name": "stdout",
     "output_type": "stream",
     "text": [
      ".0 2079.8637574280497 0\n",
      ".1 2047.0009445800952 -32.8628128479545\n",
      ".2 2018.6105159300325 -28.39042865006263\n",
      ".3 1995.1140312413802 -23.496484688652345\n",
      ".4 1974.1187423212714 -20.995288920108806\n",
      ".5 1955.5108724959384 -18.607869825332955\n",
      ".6 1940.18607207555 -15.324800420388328\n",
      ".7 1926.9725644826528 -13.213507592897258\n",
      ".8 1917.600047830231 -9.372516652421837\n",
      ".9 1912.9452323257538 -4.654815504477256\n",
      ".10 1912.394005566041 -0.5512267597127902\n",
      ".11 1914.1117243522415 1.7177187862005212\n",
      ".12 1918.2770501950824 4.165325842840957\n",
      ".13 1925.6196450237874 7.342594828704932\n",
      ".14 1935.643522461547 10.023877437759666\n",
      ".15 1948.9131724265535 13.269649965006465\n",
      ".16 1965.2666190595087 16.353446632955183\n",
      ".17 1984.2815170919796 19.01489803247091\n",
      ".18 2006.1998714649362 21.918354372956628\n",
      ".19 2030.272293748685 24.072422283748665\n",
      ".20 2056.6200553826584 26.347761633973505\n",
      ".21 2085.236858159803 28.616802777144585\n",
      ".22 2115.337997778084 30.101139618281195\n"
     ]
    },
    {
     "data": {
      "image/png": "[encoded data removed]",
      "text/plain": [
       "<Figure size 720x360 with 3 Axes>"
      ]
     },
     "metadata": {
      "needs_background": "light"
     },
     "output_type": "display_data"
    }
   ],
   "source": [
    "res = opt(start_size = 0,\n",
    "          step_size = 1,\n",
    "          stop_size = 20,\n",
    "          load = imported.iloc[:,1],\n",
    "          generation = imported.iloc[:,0],\n",
    "          _batt_cost = amortize_batt_cost(cost_per_kwh=500, life_cycles=4000),\n",
    "          import_cost = 0.20,\n",
    "          imported_power = imported.iloc[:,2])\n",
    "# res.head()\n",
    "ax = res.plot(subplots=True, figsize=(10,5))"
   ]
  },
  {
   "cell_type": "code",
   "execution_count": null,
   "metadata": {},
   "outputs": [],
   "source": []
  },
  {
   "cell_type": "code",
   "execution_count": null,
   "metadata": {},
   "outputs": [],
   "source": []
  },
  {
   "cell_type": "code",
   "execution_count": null,
   "metadata": {},
   "outputs": [],
   "source": []
  },
  {
   "cell_type": "code",
   "execution_count": null,
   "metadata": {},
   "outputs": [],
   "source": []
  },
  {
   "cell_type": "code",
   "execution_count": null,
   "metadata": {},
   "outputs": [],
   "source": []
  },
  {
   "cell_type": "code",
   "execution_count": null,
   "metadata": {},
   "outputs": [],
   "source": []
  },
  {
   "cell_type": "code",
   "execution_count": null,
   "metadata": {},
   "outputs": [],
   "source": []
  },
  {
   "cell_type": "code",
   "execution_count": 35,
   "metadata": {},
   "outputs": [
    {
     "data": {
      "image/png": "[encoded data removed]",
      "text/plain": [
       "<Figure size 720x360 with 3 Axes>"
      ]
     },
     "metadata": {
      "needs_background": "light"
     },
     "output_type": "display_data"
    }
   ],
   "source": [
    "ax = res.plot(subplots=True, figsize=(10,5))"
   ]
  },
  {
   "cell_type": "code",
   "execution_count": null,
   "metadata": {},
   "outputs": [],
   "source": []
  },
  {
   "cell_type": "code",
   "execution_count": null,
   "metadata": {},
   "outputs": [],
   "source": []
  },
  {
   "cell_type": "code",
   "execution_count": 12,
   "metadata": {},
   "outputs": [
    {
     "data": {
      "text/html": [
       "<div>\n",
       "<style scoped>\n",
       "    .dataframe tbody tr th:only-of-type {\n",
       "        vertical-align: middle;\n",
       "    }\n",
       "\n",
       "    .dataframe tbody tr th {\n",
       "        vertical-align: top;\n",
       "    }\n",
       "\n",
       "    .dataframe thead th {\n",
       "        text-align: right;\n",
       "    }\n",
       "</style>\n",
       "<table border=\"1\" class=\"dataframe\">\n",
       "  <thead>\n",
       "    <tr style=\"text-align: right;\">\n",
       "      <th></th>\n",
       "      <th>17.64_1kWp_generation_kWh</th>\n",
       "      <th>load_kWh</th>\n",
       "      <th>import_kWh</th>\n",
       "      <th>export_kWh</th>\n",
       "    </tr>\n",
       "  </thead>\n",
       "  <tbody>\n",
       "    <tr>\n",
       "      <th>2019-02-28 18:00:00</th>\n",
       "      <td>0.0</td>\n",
       "      <td>1.718813</td>\n",
       "      <td>1.718813</td>\n",
       "      <td>0.0</td>\n",
       "    </tr>\n",
       "    <tr>\n",
       "      <th>2019-02-28 19:00:00</th>\n",
       "      <td>0.0</td>\n",
       "      <td>0.561204</td>\n",
       "      <td>0.561204</td>\n",
       "      <td>0.0</td>\n",
       "    </tr>\n",
       "    <tr>\n",
       "      <th>2019-02-28 20:00:00</th>\n",
       "      <td>0.0</td>\n",
       "      <td>1.064983</td>\n",
       "      <td>1.064983</td>\n",
       "      <td>0.0</td>\n",
       "    </tr>\n",
       "    <tr>\n",
       "      <th>2019-02-28 21:00:00</th>\n",
       "      <td>0.0</td>\n",
       "      <td>0.290386</td>\n",
       "      <td>0.290386</td>\n",
       "      <td>0.0</td>\n",
       "    </tr>\n",
       "    <tr>\n",
       "      <th>2019-02-28 22:00:00</th>\n",
       "      <td>0.0</td>\n",
       "      <td>1.065145</td>\n",
       "      <td>1.065145</td>\n",
       "      <td>0.0</td>\n",
       "    </tr>\n",
       "    <tr>\n",
       "      <th>...</th>\n",
       "      <td>...</td>\n",
       "      <td>...</td>\n",
       "      <td>...</td>\n",
       "      <td>...</td>\n",
       "    </tr>\n",
       "    <tr>\n",
       "      <th>2020-02-28 19:00:00</th>\n",
       "      <td>0.0</td>\n",
       "      <td>1.531479</td>\n",
       "      <td>1.531479</td>\n",
       "      <td>0.0</td>\n",
       "    </tr>\n",
       "    <tr>\n",
       "      <th>2020-02-28 20:00:00</th>\n",
       "      <td>0.0</td>\n",
       "      <td>1.422364</td>\n",
       "      <td>1.422364</td>\n",
       "      <td>0.0</td>\n",
       "    </tr>\n",
       "    <tr>\n",
       "      <th>2020-02-28 21:00:00</th>\n",
       "      <td>0.0</td>\n",
       "      <td>1.371152</td>\n",
       "      <td>1.371152</td>\n",
       "      <td>0.0</td>\n",
       "    </tr>\n",
       "    <tr>\n",
       "      <th>2020-02-28 22:00:00</th>\n",
       "      <td>0.0</td>\n",
       "      <td>1.439575</td>\n",
       "      <td>1.439575</td>\n",
       "      <td>0.0</td>\n",
       "    </tr>\n",
       "    <tr>\n",
       "      <th>2020-02-28 23:00:00</th>\n",
       "      <td>0.0</td>\n",
       "      <td>1.421979</td>\n",
       "      <td>1.421979</td>\n",
       "      <td>0.0</td>\n",
       "    </tr>\n",
       "  </tbody>\n",
       "</table>\n",
       "<p>8766 rows × 4 columns</p>\n",
       "</div>"
      ],
      "text/plain": [
       "                     17.64_1kWp_generation_kWh  load_kWh  import_kWh  \\\n",
       "2019-02-28 18:00:00                        0.0  1.718813    1.718813   \n",
       "2019-02-28 19:00:00                        0.0  0.561204    0.561204   \n",
       "2019-02-28 20:00:00                        0.0  1.064983    1.064983   \n",
       "2019-02-28 21:00:00                        0.0  0.290386    0.290386   \n",
       "2019-02-28 22:00:00                        0.0  1.065145    1.065145   \n",
       "...                                        ...       ...         ...   \n",
       "2020-02-28 19:00:00                        0.0  1.531479    1.531479   \n",
       "2020-02-28 20:00:00                        0.0  1.422364    1.422364   \n",
       "2020-02-28 21:00:00                        0.0  1.371152    1.371152   \n",
       "2020-02-28 22:00:00                        0.0  1.439575    1.439575   \n",
       "2020-02-28 23:00:00                        0.0  1.421979    1.421979   \n",
       "\n",
       "                     export_kWh  \n",
       "2019-02-28 18:00:00         0.0  \n",
       "2019-02-28 19:00:00         0.0  \n",
       "2019-02-28 20:00:00         0.0  \n",
       "2019-02-28 21:00:00         0.0  \n",
       "2019-02-28 22:00:00         0.0  \n",
       "...                         ...  \n",
       "2020-02-28 19:00:00         0.0  \n",
       "2020-02-28 20:00:00         0.0  \n",
       "2020-02-28 21:00:00         0.0  \n",
       "2020-02-28 22:00:00         0.0  \n",
       "2020-02-28 23:00:00         0.0  \n",
       "\n",
       "[8766 rows x 4 columns]"
      ]
     },
     "execution_count": 12,
     "metadata": {},
     "output_type": "execute_result"
    }
   ],
   "source": [
    "imported"
   ]
  },
  {
   "cell_type": "code",
   "execution_count": 14,
   "metadata": {},
   "outputs": [
    {
     "data": {
      "text/plain": [
       "19.364790441851493"
      ]
     },
     "execution_count": 14,
     "metadata": {},
     "output_type": "execute_result"
    }
   ],
   "source": [
    "imported.import_kWh.max()"
   ]
  },
  {
   "cell_type": "code",
   "execution_count": 15,
   "metadata": {},
   "outputs": [
    {
     "data": {
      "text/plain": [
       "0.0"
      ]
     },
     "execution_count": 15,
     "metadata": {},
     "output_type": "execute_result"
    }
   ],
   "source": [
    "imported.import_kWh.min()"
   ]
  },
  {
   "cell_type": "code",
   "execution_count": 16,
   "metadata": {},
   "outputs": [
    {
     "data": {
      "text/plain": [
       "1.1923089643591236"
      ]
     },
     "execution_count": 16,
     "metadata": {},
     "output_type": "execute_result"
    }
   ],
   "source": [
    "imported.import_kWh.mean()"
   ]
  },
  {
   "cell_type": "code",
   "execution_count": 17,
   "metadata": {},
   "outputs": [
    {
     "data": {
      "text/plain": [
       "<matplotlib.axes._subplots.AxesSubplot at 0x7ffa30160e90>"
      ]
     },
     "execution_count": 17,
     "metadata": {},
     "output_type": "execute_result"
    },
    {
     "data": {
      "image/png": "[encoded data removed]",
      "text/plain": [
       "<Figure size 432x288 with 1 Axes>"
      ]
     },
     "metadata": {
      "needs_background": "light"
     },
     "output_type": "display_data"
    }
   ],
   "source": [
    "imported[:24*7].plot()"
   ]
  },
  {
   "cell_type": "code",
   "execution_count": null,
   "metadata": {},
   "outputs": [],
   "source": []
  },
  {
   "cell_type": "code",
   "execution_count": null,
   "metadata": {},
   "outputs": [],
   "source": []
  },
  {
   "cell_type": "code",
   "execution_count": null,
   "metadata": {},
   "outputs": [],
   "source": []
  },
  {
   "cell_type": "code",
   "execution_count": null,
   "metadata": {},
   "outputs": [],
   "source": []
  },
  {
   "cell_type": "code",
   "execution_count": null,
   "metadata": {},
   "outputs": [],
   "source": []
  },
  {
   "cell_type": "code",
   "execution_count": null,
   "metadata": {},
   "outputs": [],
   "source": []
  },
  {
   "cell_type": "markdown",
   "metadata": {},
   "source": [
    "_P_sun, _P_load = imported.iloc[:,0], imported.iloc[:,1]"
   ]
  },
  {
   "cell_type": "markdown",
   "metadata": {},
   "source": [
    "_BATTERY_TYPE = 'lithium ion'\n",
    "_DEPTH_OF_DISCHARGE = 0.9\n",
    "_LIFE_CYCLE = 4000\n",
    "_BATTERY_COST_KWH = 500\n",
    "_IMPORT_COST_KWH = 0.20"
   ]
  },
  {
   "cell_type": "markdown",
   "metadata": {},
   "source": [
    "#Choose initial and step size for battery (e.g. 1 kW with a step size of 0.5 kW)\n",
    "_INITIAL_SIZE = 0\n",
    "_FIXED_STEP_SIZE = 1"
   ]
  },
  {
   "cell_type": "markdown",
   "metadata": {},
   "source": [
    "discharge_cycles_per_day = 1\n",
    "days_per_year = 365\n",
    "cycles_per_year = discharge_cycles_per_day * days_per_year\n",
    "\n",
    "_battery_life_years = _LIFE_CYCLE / cycles_per_year\n",
    "\n",
    "_amortized_battery_cost_kwh = _BATTERY_COST_KWH / _battery_life_years\n",
    "_amortized_battery_cost_kwh"
   ]
  }
 ],
 "metadata": {
  "kernelspec": {
   "display_name": "Python 3",
   "language": "python",
   "name": "python3"
  },
  "language_info": {
   "codemirror_mode": {
    "name": "ipython",
    "version": 3
   },
   "file_extension": ".py",
   "mimetype": "text/x-python",
   "name": "python",
   "nbconvert_exporter": "python",
   "pygments_lexer": "ipython3",
   "version": "3.7.6"
  }
 },
 "nbformat": 4,
 "nbformat_minor": 4
}
