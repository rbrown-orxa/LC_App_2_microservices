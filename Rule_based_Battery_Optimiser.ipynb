{
 "cells": [
  {
   "cell_type": "markdown",
   "metadata": {},
   "source": [
    "# Rule-based control of the solar home (Python)\n",
    "\n",
    "This is the simplest control scheme of the solar home, implemented in Python. It can be used as an example of how to use the solar home test bench in this language. Rule-based control yields a good baseline performance for comparing more advanced energy management methods.\n",
    "\n",
    "See also:\n",
    "* [Python_rule-based-optim.ipynb](Python_rule-based-optim.ipynb): a slightly more complex rule-based control, with one parameter to be optimized using training data\n",
    "* [Julia_rule-based.ipynb](../julia_rule-based/Julia_rule-based.ipynb): an equivalent example in Julia\n",
    "\n",
    "Pierre Haessig, July 2019"
   ]
  },
  {
   "cell_type": "code",
   "execution_count": 1,
   "metadata": {},
   "outputs": [],
   "source": [
    "import numpy as np\n",
    "import pandas as pd\n",
    "import matplotlib.pyplot as plt\n",
    "%matplotlib inline"
   ]
  },
  {
   "cell_type": "markdown",
   "metadata": {},
   "source": [
    "Fixed costs taken from:\n",
    "https://www.greenmatch.co.uk/blog/2018/07/solar-battery-storage-system-cost"
   ]
  },
  {
   "cell_type": "code",
   "execution_count": null,
   "metadata": {},
   "outputs": [],
   "source": []
  },
  {
   "cell_type": "markdown",
   "metadata": {},
   "source": [
    "Import solarhome utility module `benchutils`, using `bu` as a short alias."
   ]
  },
  {
   "cell_type": "markdown",
   "metadata": {},
   "source": [
    "## 2. Rule based control\n",
    "\n",
    "control rules:\n",
    "\n",
    "* storage should follow the net load as much as possible: $P_{sto} = -P_{nl} = P_{sun} - P_{load} $\n",
    "* if empty, use grid instead\n",
    "* if full, curtail the excess of production\n",
    "\n",
    "inputs: $P_{sun}$, $P_{load}$ and storage state $E_{sto}$\n",
    "\n",
    "Outputs: $P_{sto}$, $P_{grid}$, $P_{curt}$\n",
    "\n",
    "def: net load: $P_{nl} = P_{load} - P_{sun}$\n",
    "\n",
    "* if $P_{nl}>0$ (load > sun)\n",
    "  * if battery not empty: battery discharge to follow net load $P_{sto} = -P_{nl} <0 $, $P_{grid} = 0$.\n",
    "  * if battery is empty, use the grid instead: $P_{grid} = P_{nl}$\n",
    "* if $P_{nl}<0$ (sun > load)\n",
    "  * if battery not full: battery charges to absorbe net production $P_{sto} = -P_{nl} > 0$, $P_{grid} = 0$.\n",
    "  * if battery is full, curtail the excess of production: $P_{curt} = -P_{nl}$, so that $P_{sun} - P_{curt} = P_{pv} = P_{load}$. $P_{grid} = 0$"
   ]
  },
  {
   "cell_type": "code",
   "execution_count": 2,
   "metadata": {},
   "outputs": [],
   "source": [
    "def control(P_sun, P_load, E_sto, dt, E_rated):\n",
    "    \"\"\"\"\"\n",
    "    P_sun: Generated power from PV (kW)\n",
    "    P_load: Building load demand (kW)\n",
    "    E_sto: Energy stored in the battery (kWh)\n",
    "    dt: Derivate of time step (Hours)\n",
    "    \n",
    "    \"\"\"\"\"\n",
    "    P_nl = P_load - P_sun # Net load -> Power needed by building from grid or battery (or combination)\n",
    "    # outputs:\n",
    "    P_sto = 0. # The power flowing into the battery (kW)\n",
    "    P_grid = 0. # The power imported from the grid (kW)\n",
    "    P_curt = 0. # The power exported to the grid (kW)\n",
    "    \n",
    "    E_next = E_sto - P_nl*dt # Energy stored in the battery at the end of current timestep (kWh)\n",
    "    \n",
    "    if P_nl>0: # (load > sun) -> Try to discharge the battery to the building load, if energy is available\n",
    "        #TODO: Limit rate of discharge of battery\n",
    "        E_next = E_next if E_next>0. else 0.\n",
    "        P_sto = (E_next - E_sto)/dt # <0 # Calculate power flowing out of the battery\n",
    "        P_grid = P_nl + P_sto # Calculate power taken from the grid as load power minus the batter discharge power\n",
    "    else: # (load <= sun) -> Try to charge the battery\n",
    "        E_next = E_next if E_next<E_rated else E_rated # Calculate battery charge state. Don't charge if full.\n",
    "        P_sto = (E_next - E_sto)/dt # >0 # Calculate power flowing into the battery\n",
    "        P_curt = -P_nl - P_sto#Calculate exported power: difference between net load and power flowing into battery\n",
    "    return P_sto, P_grid, P_curt"
   ]
  },
  {
   "cell_type": "markdown",
   "metadata": {
    "toc-hr-collapsed": false
   },
   "source": [
    "## 3. Solar home simulation"
   ]
  },
  {
   "cell_type": "markdown",
   "metadata": {},
   "source": [
    "## Method\n",
    "#### ~~Select type of battery~~\n",
    "#### ~~Get lifespan of battery~~\n",
    "#### ~~Get install cost of battery~~\n",
    "#### ~~Calculate amortized cost of battery per kWh per year~~\n",
    "#### ~~Get cost of energy per kWh~~\n",
    "#### ~~Choose initial and step size for battery (e.g. 1 kW with a step size of 0.5 kW)~~\n",
    "#### ~~For each step size, calculate cost of battery plus cost of import~~\n",
    "#### ~~Choose step size at which to run and stop optimisation~~\n",
    "#### Include export revenue\n",
    "#### Select step size with lowest total cost (optimal battery size)\n",
    "#### Check optimisation results with a range of test loads"
   ]
  },
  {
   "cell_type": "code",
   "execution_count": null,
   "metadata": {},
   "outputs": [],
   "source": []
  },
  {
   "cell_type": "code",
   "execution_count": 3,
   "metadata": {},
   "outputs": [],
   "source": [
    "def amortize_batt_cost(cost_per_kwh, life_cycles):\n",
    "    discharge_cycles_per_day = 1\n",
    "    days_per_year = 365\n",
    "    cycles_per_year = discharge_cycles_per_day * days_per_year\n",
    "    _battery_life_years = life_cycles / cycles_per_year\n",
    "    _amortized_battery_cost_kwh = cost_per_kwh / _battery_life_years\n",
    "    return _amortized_battery_cost_kwh"
   ]
  },
  {
   "cell_type": "code",
   "execution_count": 4,
   "metadata": {},
   "outputs": [],
   "source": [
    "def check_result(E_sto, E_rated, digits=3):\n",
    "    \"\"\"Check that battery charge is non-negative and not over capacity\"\"\"\n",
    "    try:\n",
    "        assert round( E_sto, digits ) >= 0.0, 'Battery charge state is negative'\n",
    "        assert round ( E_sto, digits ) <= round( E_rated, digits ), 'Battery charge state is greater than capacity'\n",
    "    except(AssertionError):\n",
    "        print(f'E_sto: {E_sto}\\tE_rated: {E_rated}')\n",
    "        raise"
   ]
  },
  {
   "cell_type": "code",
   "execution_count": 5,
   "metadata": {},
   "outputs": [],
   "source": [
    "def initialise_results_arrays(length, intial_charge_percent=0):\n",
    "    P_sto = np.zeros(length)\n",
    "    E_sto = np.zeros(length+1)\n",
    "    P_grid = np.zeros(length)\n",
    "    P_curt = np.zeros(length)\n",
    "    E_sto[0]= intial_charge_percent\n",
    "    return {'P_sto':P_sto, 'E_sto':E_sto, 'P_grid':P_grid, 'P_curt':P_curt}"
   ]
  },
  {
   "cell_type": "code",
   "execution_count": 6,
   "metadata": {},
   "outputs": [],
   "source": [
    "def run_control(results, timestep, size, generation, _load, _dt):\n",
    "    assert isinstance(results, dict)\n",
    "    for k, v in results.items(): assert isinstance(v, np.ndarray)\n",
    "        \n",
    "    results['P_sto'][timestep], results['P_grid'][timestep], results['P_curt'][timestep] = \\\n",
    "        control(generation.values[timestep], _load.values[timestep], results['E_sto'][timestep], dt=_dt, E_rated=size)\n",
    "    \n",
    "    results['E_sto'][timestep+1] = results['E_sto'][timestep] + results['P_sto'][timestep] * _dt\n",
    "    \n",
    "    check_result( results['E_sto'][timestep+1], size )\n",
    "    \n",
    "    return results"
   ]
  },
  {
   "cell_type": "code",
   "execution_count": 7,
   "metadata": {},
   "outputs": [],
   "source": [
    "def evaluate_results(results, amortized_battery_cost_kwh, batt_size, IMPORT_COST_KWH, _generation, _load):\n",
    "    results['E_sto'] = results['E_sto'][:-1]\n",
    "    P_pv = _generation - results['P_curt']\n",
    "    P_nl = _load - _generation\n",
    "\n",
    "    battery_cost = batt_size * amortized_battery_cost_kwh\n",
    "#     print('Assuming timestep is one hour for kWh calculation')\n",
    "    grid_power = results['P_grid'].sum()\n",
    "#     print(f'grid power: {grid_power}')\n",
    "    import_cost = grid_power * IMPORT_COST_KWH\n",
    "    total_cost = battery_cost + import_cost\n",
    "    costs = {'batt_size':batt_size, 'battery_cost':battery_cost,\n",
    "             'import_cost':import_cost, 'total_cost':total_cost}\n",
    "    print('.', end='', flush=True)\n",
    "#     print(costs)\n",
    "    return results, costs"
   ]
  },
  {
   "cell_type": "markdown",
   "metadata": {},
   "source": [
    "### Optimise battery size"
   ]
  },
  {
   "cell_type": "code",
   "execution_count": 29,
   "metadata": {},
   "outputs": [],
   "source": [
    "def stop_or_continue(cost, prev_cost, keep_iterating):\n",
    "    \n",
    "    if prev_cost:\n",
    "        diff_cost, prev_cost = cost - prev_cost, cost\n",
    "    else:\n",
    "        diff_cost, prev_cost = 0, cost\n",
    "    \n",
    "    keep_iterating = (keep_iterating+1) if  diff_cost <= 0 else (keep_iterating-1)\n",
    "\n",
    "    return prev_cost, keep_iterating"
   ]
  },
  {
   "cell_type": "code",
   "execution_count": 34,
   "metadata": {
    "scrolled": true
   },
   "outputs": [],
   "source": [
    "def simulate_battery_perfomance(load, generation, _batt_cost, import_cost, dt):\n",
    "    rv = []\n",
    "    size, prev_cost, keep_iterating = 0, 0, 1\n",
    "    \n",
    "    while keep_iterating:\n",
    "\n",
    "        results = initialise_results_arrays(len(load))\n",
    "\n",
    "        for hour in range(len(load)):\n",
    "            results = run_control(results, hour, size, generation, load, dt)\n",
    "\n",
    "        results, costs = evaluate_results(results, _batt_cost, size, import_cost, generation, load)\n",
    "        rv.append(costs)\n",
    "            \n",
    "        prev_cost, keep_iterating = stop_or_continue( costs['total_cost'], prev_cost, keep_iterating )\n",
    "\n",
    "        size += 1\n",
    "    \n",
    "    return pd.DataFrame(rv).set_index('batt_size')"
   ]
  },
  {
   "cell_type": "code",
   "execution_count": 35,
   "metadata": {},
   "outputs": [
    {
     "data": {
      "text/html": [
       "<div>\n",
       "<style scoped>\n",
       "    .dataframe tbody tr th:only-of-type {\n",
       "        vertical-align: middle;\n",
       "    }\n",
       "\n",
       "    .dataframe tbody tr th {\n",
       "        vertical-align: top;\n",
       "    }\n",
       "\n",
       "    .dataframe thead th {\n",
       "        text-align: right;\n",
       "    }\n",
       "</style>\n",
       "<table border=\"1\" class=\"dataframe\">\n",
       "  <thead>\n",
       "    <tr style=\"text-align: right;\">\n",
       "      <th></th>\n",
       "      <th>17.64_1kWp_generation_kWh</th>\n",
       "      <th>load_kWh</th>\n",
       "      <th>import_kWh</th>\n",
       "      <th>export_kWh</th>\n",
       "    </tr>\n",
       "  </thead>\n",
       "  <tbody>\n",
       "    <tr>\n",
       "      <th>2019-07-23 11:00:00</th>\n",
       "      <td>3.791968</td>\n",
       "      <td>14.452967</td>\n",
       "      <td>10.660999</td>\n",
       "      <td>0.0</td>\n",
       "    </tr>\n",
       "  </tbody>\n",
       "</table>\n",
       "</div>"
      ],
      "text/plain": [
       "                     17.64_1kWp_generation_kWh   load_kWh  import_kWh  \\\n",
       "2019-07-23 11:00:00                   3.791968  14.452967   10.660999   \n",
       "\n",
       "                     export_kWh  \n",
       "2019-07-23 11:00:00         0.0  "
      ]
     },
     "execution_count": 35,
     "metadata": {},
     "output_type": "execute_result"
    }
   ],
   "source": [
    "load_profiles = pd.read_pickle('examples/load_and_generation.pkl')\n",
    "load_profiles.sample()"
   ]
  },
  {
   "cell_type": "code",
   "execution_count": 36,
   "metadata": {},
   "outputs": [
    {
     "name": "stdout",
     "output_type": "stream",
     "text": [
      "......................."
     ]
    },
    {
     "data": {
      "image/png": "[encoded data removed]",
      "text/plain": [
       "<Figure size 720x360 with 3 Axes>"
      ]
     },
     "metadata": {
      "needs_background": "light"
     },
     "output_type": "display_data"
    }
   ],
   "source": [
    "res = simulate_battery_perfomance(\n",
    "    load = load_profiles.iloc[:,1],\n",
    "    generation = load_profiles.iloc[:,0],\n",
    "    _batt_cost = amortize_batt_cost(cost_per_kwh=500, life_cycles=4000),\n",
    "    import_cost = 0.20,\n",
    "    dt = 1)\n",
    "ax = res.plot(subplots=True, figsize=(10,5))"
   ]
  },
  {
   "cell_type": "code",
   "execution_count": null,
   "metadata": {},
   "outputs": [],
   "source": []
  },
  {
   "cell_type": "code",
   "execution_count": null,
   "metadata": {},
   "outputs": [],
   "source": []
  },
  {
   "cell_type": "code",
   "execution_count": null,
   "metadata": {},
   "outputs": [],
   "source": []
  },
  {
   "cell_type": "code",
   "execution_count": null,
   "metadata": {},
   "outputs": [],
   "source": []
  },
  {
   "cell_type": "code",
   "execution_count": null,
   "metadata": {},
   "outputs": [],
   "source": []
  },
  {
   "cell_type": "code",
   "execution_count": null,
   "metadata": {},
   "outputs": [],
   "source": []
  },
  {
   "cell_type": "code",
   "execution_count": null,
   "metadata": {},
   "outputs": [],
   "source": []
  },
  {
   "cell_type": "code",
   "execution_count": null,
   "metadata": {},
   "outputs": [],
   "source": []
  },
  {
   "cell_type": "code",
   "execution_count": null,
   "metadata": {},
   "outputs": [],
   "source": []
  },
  {
   "cell_type": "code",
   "execution_count": null,
   "metadata": {},
   "outputs": [],
   "source": []
  },
  {
   "cell_type": "code",
   "execution_count": null,
   "metadata": {},
   "outputs": [],
   "source": []
  },
  {
   "cell_type": "code",
   "execution_count": null,
   "metadata": {},
   "outputs": [],
   "source": []
  },
  {
   "cell_type": "code",
   "execution_count": null,
   "metadata": {},
   "outputs": [],
   "source": []
  }
 ],
 "metadata": {
  "kernelspec": {
   "display_name": "Python 3",
   "language": "python",
   "name": "python3"
  },
  "language_info": {
   "codemirror_mode": {
    "name": "ipython",
    "version": 3
   },
   "file_extension": ".py",
   "mimetype": "text/x-python",
   "name": "python",
   "nbconvert_exporter": "python",
   "pygments_lexer": "ipython3",
   "version": "3.7.6"
  }
 },
 "nbformat": 4,
 "nbformat_minor": 4
}
