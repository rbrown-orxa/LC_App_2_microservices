{
 "cells": [
  {
   "cell_type": "markdown",
   "metadata": {},
   "source": [
    "# TODO\n",
    "---\n",
    "* Green Button Data\n",
    "* Orxa PDS data\n",
    "* ~~Single Column data~~\n",
    "* ~~Row per day data~~\n",
    "* Infer datetime\n",
    "* ~~Find header row~~\n",
    "* ~~Find rows to skip~~\n",
    "* ~~Find columns to drop~~\n",
    "* ~~Find date column~~\n",
    "* ~~Find datetime column~~\n",
    "* ~~Find time column~~\n",
    "* Check if time given in hh:mm or periods (e.g. 1, 2, ...)\n",
    "* Check if full year present"
   ]
  },
  {
   "cell_type": "code",
   "execution_count": 3,
   "metadata": {
    "ExecuteTime": {
     "end_time": "2020-05-12T13:55:38.796490Z",
     "start_time": "2020-05-12T13:55:37.139504Z"
    }
   },
   "outputs": [],
   "source": [
    "import pandas as pd\n",
    "import datetime\n",
    "import numpy as np\n",
    "import csv\n",
    "import re\n",
    "import statistics\n",
    "import dateutil\n",
    "import os\n",
    "from datetime import timedelta\n",
    "\n",
    "try:\n",
    "    from tkinter.filedialog import askopenfilename\n",
    "except:\n",
    "    pass\n",
    "# import matplotlib.pyplot as plt"
   ]
  },
  {
   "cell_type": "markdown",
   "metadata": {},
   "source": [
    "import matplotlib.pyplot as plt"
   ]
  },
  {
   "cell_type": "code",
   "execution_count": 4,
   "metadata": {
    "ExecuteTime": {
     "end_time": "2020-05-12T13:55:38.816772Z",
     "start_time": "2020-05-12T13:55:38.800990Z"
    }
   },
   "outputs": [],
   "source": [
    "def is_full_year():\n",
    "    raise NotImplementedError\n",
    "    # need to know reporting rate\n",
    "    formats = ['row_per_day', 'single_column']\n",
    "    df = pd.read_csv(filepath, skiprows=skiprows)\n",
    "    return df"
   ]
  },
  {
   "cell_type": "code",
   "execution_count": 5,
   "metadata": {
    "ExecuteTime": {
     "end_time": "2020-05-12T13:55:38.963179Z",
     "start_time": "2020-05-12T13:55:38.893644Z"
    }
   },
   "outputs": [],
   "source": [
    "def columns_to_drop(filepath, skiprows):\n",
    "    \"\"\"\n",
    "    Find columns to drop.\n",
    "    Return names of columns that are in a known list or with one unique value.\n",
    "    \"\"\"\n",
    "    candidates = ['unit', 'units', 'total', 'totals', 'id']\n",
    "    df = pd.read_csv(filepath, skiprows=skiprows)\n",
    "    drop = set()\n",
    "    \n",
    "    # find columns according to a list of names we should drop\n",
    "    for item in df.columns:\n",
    "        if item.upper() in [x.upper() for x in candidates]:\n",
    "            drop.add(item)\n",
    "            \n",
    "    # find columns with only one unique value\n",
    "    unique = df.nunique().to_dict()\n",
    "    for column, n in unique.items():\n",
    "        if n == 1:\n",
    "            drop.add(column)\n",
    "            \n",
    "    # find columns with int values that are not a time period\n",
    "    for column in df.columns:\n",
    "        if df[column].dtype.name == 'int64':\n",
    "            if not df[column].nunique() in [12, 24, 48, 96, 24*60/5, 24*60]:\n",
    "                drop.add(column)\n",
    "            \n",
    "    return list(drop)"
   ]
  },
  {
   "cell_type": "code",
   "execution_count": 6,
   "metadata": {
    "ExecuteTime": {
     "end_time": "2020-05-12T13:55:38.989261Z",
     "start_time": "2020-05-12T13:55:38.980054Z"
    }
   },
   "outputs": [],
   "source": [
    "def rows_to_skip(filepath):\n",
    "    \"\"\"\n",
    "    Find rows to skip when reading csv file into dataframe.\n",
    "    Return rows with width less than the mode.\n",
    "    \"\"\"\n",
    "    print(f'*** Type: {type(filepath)}')\n",
    "    with open(filepath) as f:\n",
    "        reader = csv.reader(f)\n",
    "        widths = {i: len(row) for i, row in enumerate(reader)}\n",
    "        mode = statistics.mode(widths.values())\n",
    "        return [row for row, width in widths.items() \n",
    "                if width < mode]"
   ]
  },
  {
   "cell_type": "code",
   "execution_count": 7,
   "metadata": {
    "ExecuteTime": {
     "end_time": "2020-05-12T13:55:39.014121Z",
     "start_time": "2020-05-12T13:55:38.996634Z"
    }
   },
   "outputs": [],
   "source": [
    "def get_format(filepath):\n",
    "    \"\"\"\n",
    "    Determine type of meter data file.\n",
    "    Return 'row_per_day' or 'single_column'\n",
    "    \"\"\"\n",
    "    with open(filepath) as f:\n",
    "        reader = csv.reader(f)\n",
    "        data = list(reader)\n",
    "    width = max([len(row) for row in data])\n",
    "    \n",
    "    if width > 20:\n",
    "        return 'row_per_day'\n",
    "    else:\n",
    "        return 'single_column'"
   ]
  },
  {
   "cell_type": "code",
   "execution_count": 8,
   "metadata": {
    "ExecuteTime": {
     "end_time": "2020-05-12T13:55:39.038387Z",
     "start_time": "2020-05-12T13:55:39.020505Z"
    }
   },
   "outputs": [],
   "source": [
    "def get_units(filepath):\n",
    "    \"\"\"\n",
    "    Find first field containing a unit of power or energy.\n",
    "    Return 'kw', 'kwh', 'mw', 'mwh', 'w'\n",
    "    \"\"\"\n",
    "    terms = ['kw', 'kwh', 'mw', 'mwh']\n",
    "    sub_terms = ['power', ]\n",
    "    full_patterns = [r'\\b' + term + r'\\b' for term in terms]\n",
    "    sub_patterns = [term for term in sub_terms]\n",
    "    patterns = full_patterns + sub_patterns\n",
    "    \n",
    "    converter = {'kw':'kW', 'kwh':'kWh', 'mw':'MW', 'mwh':'MWh', 'power':'W'}\n",
    "    \n",
    "    with open(filepath) as f:\n",
    "        reader = csv.reader(f)\n",
    "        data = list(reader)[:10] # don't look beyond line 10\n",
    "    for row in data:\n",
    "        for word in row:\n",
    "            found = re.findall(\n",
    "                r'|'.join(patterns),\n",
    "                word, \n",
    "                flags=re.IGNORECASE)\n",
    "            if found:\n",
    "                unique = set(found)\n",
    "                if not len(unique) > 1:\n",
    "                    return converter[list(found)[0].lower()]\n",
    "    return 'unknown_units'"
   ]
  },
  {
   "cell_type": "code",
   "execution_count": 9,
   "metadata": {
    "ExecuteTime": {
     "end_time": "2020-05-12T13:55:39.076866Z",
     "start_time": "2020-05-12T13:55:39.057382Z"
    }
   },
   "outputs": [],
   "source": [
    "def date_column(filepath, skiprows, skipcolumns):\n",
    "    df = pd.read_csv(filepath, skiprows=skiprows)\n",
    "    df = df.drop(columns = skipcolumns)\n",
    "    df = df.head(10)\n",
    "\n",
    "    def try_parse(df):\n",
    "#         print(df.iloc[1, :])\n",
    "        # try parsing some rows from each column as date\n",
    "        for column in df.columns:\n",
    "            try:\n",
    "                date = dateutil.parser.parse(df[column].iloc[-1])\n",
    "                if date.time() == datetime.time(): # time is midnight or time not present / parsed\n",
    "                    date = dateutil.parser.parse(df[column].iloc[-2]) # try a different row\n",
    "                    if date.time() == datetime.time(): # we have a date column, not datetime column\n",
    "                        return column\n",
    "            except:\n",
    "                continue\n",
    "        return None\n",
    "    \n",
    "    # try without modifying values\n",
    "    rv = try_parse(df=df)\n",
    "    if rv:\n",
    "        return rv\n",
    "    \n",
    "    # try modifying values\n",
    "    chars = ['-', '_', '/', '#']\n",
    "    for char in chars:\n",
    "        dfc = df.copy()\n",
    "        for col in dfc.columns:\n",
    "            try:\n",
    "                dfc[col] = dfc[col].str.split(char).str.join(' ')\n",
    "            except:\n",
    "                pass # will only work for str type\n",
    "#         print(char, dfc.iloc[1, :])\n",
    "        rv = try_parse(df=dfc)\n",
    "        if rv:\n",
    "            return rv"
   ]
  },
  {
   "cell_type": "code",
   "execution_count": 10,
   "metadata": {
    "ExecuteTime": {
     "end_time": "2020-05-12T13:55:39.148937Z",
     "start_time": "2020-05-12T13:55:39.097295Z"
    }
   },
   "outputs": [],
   "source": [
    "def datetime_column(filepath, skiprows, skipcolumns):\n",
    "    \"\"\"\n",
    "    Only a datetime column if date and time present\n",
    "    \"\"\"\n",
    "    df = pd.read_csv(filepath, skiprows=skiprows)\n",
    "    df = df.drop(columns = skipcolumns)\n",
    "#     df = df.head(10)\n",
    "    \n",
    "#     return df\n",
    "\n",
    "    def try_parse(df):\n",
    "#         print(df.iloc[1, :])\n",
    "        # try parsing some rows from each column as date\n",
    "        head = df.head()\n",
    "        tail = df.tail()\n",
    "        for column in df.columns:\n",
    "            try:\n",
    "#                 print(dateutil.parser.parse(df[column].iloc[-1]))\n",
    "                dt_head = dateutil.parser.parse(head[column].iloc[-1])\n",
    "                dt_tail = dateutil.parser.parse(tail[column].iloc[-1])\n",
    "#                 print('possible datetime')\n",
    "#                 if not date.time() == datetime.time():\n",
    "                if not dt_head.time() == dt_tail.time():\n",
    "                    if not dt_head.date() == dt_tail.date():\n",
    "                # time seems to be present (not default parser value)\n",
    "                        return column\n",
    "            except:\n",
    "                continue\n",
    "        return None\n",
    "    \n",
    "    # try without modifying values\n",
    "    rv = try_parse(df=df)\n",
    "    if rv:\n",
    "        return rv\n",
    "    \n",
    "    # try modifying values\n",
    "    chars = ['-', '_', '/', '#']\n",
    "    for char in chars:\n",
    "        dfc = df.copy()\n",
    "        for col in dfc.columns:\n",
    "            try:\n",
    "                dfc[col] = dfc[col].str.split(char).str.join(' ')\n",
    "            except:\n",
    "                pass # will only work for str type\n",
    "#         print(char, dfc.iloc[1, :])\n",
    "        rv = try_parse(df=dfc)\n",
    "        if rv:\n",
    "            return rv"
   ]
  },
  {
   "cell_type": "code",
   "execution_count": 11,
   "metadata": {
    "ExecuteTime": {
     "end_time": "2020-05-12T13:55:39.192257Z",
     "start_time": "2020-05-12T13:55:39.165136Z"
    }
   },
   "outputs": [],
   "source": [
    "def has_header_row(filepath, skiprows=[0]):\n",
    "    \"\"\"\n",
    "    Determine whether first non-skipped row of csv file is a header.\n",
    "    Return true if header present, otherwise false.\n",
    "    \"\"\"\n",
    "    if skiprows:\n",
    "        skiprows=max(skiprows)\n",
    "    else:\n",
    "        skiprows = 0\n",
    "    with open(filepath) as f:\n",
    "        reader = csv.reader(f)\n",
    "\n",
    "        data = list(reader)[skiprows:skiprows+10] # don't look beyond line 10\n",
    "    \n",
    "    def isnumber(item):\n",
    "        try:\n",
    "            float(item)\n",
    "            return True\n",
    "        except:\n",
    "            return False\n",
    "        \n",
    "    first_line = data[0]\n",
    "    second_line = data[1]\n",
    "    \n",
    "    first_line = [isnumber(item) for item in first_line]\n",
    "    second_line = [isnumber(item) for item in second_line]\n",
    "    \n",
    "\n",
    "    if not first_line == second_line:\n",
    "        return 0\n",
    "    else:\n",
    "        return None"
   ]
  },
  {
   "cell_type": "code",
   "execution_count": 12,
   "metadata": {
    "ExecuteTime": {
     "end_time": "2020-05-12T13:55:39.224882Z",
     "start_time": "2020-05-12T13:55:39.195788Z"
    }
   },
   "outputs": [],
   "source": [
    "def time_column(filepath, skiprows):\n",
    "    df = pd.read_csv(filepath, skiprows=skiprows)\n",
    "    \n",
    "    s = df.nunique()\n",
    "    hits = s[s.isin([12, 24, 48, 96, 24*60/5, 24*60])]\n",
    "    if len(hits) == 1:\n",
    "        return [*hits.to_dict()][0]\n",
    "\n",
    "    def get_time(val):\n",
    "        try:\n",
    "            _time = dateutil.parser.parse(val).time()\n",
    "            return _time\n",
    "        except:\n",
    "            return False\n",
    "        \n",
    "    def get_date(val):\n",
    "        try:\n",
    "            _time = dateutil.parser.parse(val).date()\n",
    "            return _time\n",
    "        except:\n",
    "            return False\n",
    "        \n",
    "    for name, col in df.iteritems():\n",
    "        first = get_time(col[0])\n",
    "        second = get_time(col[1])\n",
    "        if first and first != second: #two different times\n",
    "            first = get_date(col[0])\n",
    "            second = get_date(col[1])\n",
    "            if first == second: #same dates, i.e. no date parsed\n",
    "                return name\n",
    "    \n",
    "    return None"
   ]
  },
  {
   "cell_type": "code",
   "execution_count": 13,
   "metadata": {
    "ExecuteTime": {
     "end_time": "2020-05-12T13:55:39.251018Z",
     "start_time": "2020-05-12T13:55:39.235084Z"
    }
   },
   "outputs": [],
   "source": [
    "def time_periodic(df_or_file, skiprows, time_column):\n",
    "    if isinstance(df_or_file, pd.core.frame.DataFrame):\n",
    "        df = df_or_file\n",
    "    else:\n",
    "        df = pd.read_csv(df_or_file, skiprows=skiprows)\n",
    "    \n",
    "    if time_column and isinstance(df[time_column][0], np.int64):\n",
    "        return df[time_column].nunique()\n",
    "    \n",
    "    return None"
   ]
  },
  {
   "cell_type": "code",
   "execution_count": 14,
   "metadata": {
    "ExecuteTime": {
     "end_time": "2020-05-12T13:55:39.276013Z",
     "start_time": "2020-05-12T13:55:39.257383Z"
    }
   },
   "outputs": [],
   "source": [
    "def make_schema(path):\n",
    "    s = {}\n",
    "    s['skiprows'] = rows_to_skip(path)\n",
    "    s['skipcolumns'] = columns_to_drop(path, s['skiprows'])\n",
    "    s['date_column'] = date_column(path, s['skiprows'], s['skipcolumns'])\n",
    "    s['datetime_column'] = datetime_column(path, s['skiprows'], s['skipcolumns'])\n",
    "    s['file_format'] = get_format(path)\n",
    "    s['units'] = get_units(path)\n",
    "    s['header'] = has_header_row(path, s['skiprows'])\n",
    "    s['time_column'] = time_column(path, s['skiprows'])\n",
    "    s['time_periodic'] = time_periodic(\n",
    "        path, s['skiprows'], s['time_column'])\n",
    "\n",
    "    if s['datetime_column'] and s['time_column']:\n",
    "        s['time_column'] = None # we don't need both, and it causes an error in use_schema.ipynb\n",
    "    \n",
    "    return s"
   ]
  },
  {
   "cell_type": "code",
   "execution_count": null,
   "metadata": {},
   "outputs": [],
   "source": []
  },
  {
   "cell_type": "code",
   "execution_count": null,
   "metadata": {},
   "outputs": [],
   "source": []
  },
  {
   "cell_type": "code",
   "execution_count": null,
   "metadata": {},
   "outputs": [],
   "source": []
  },
  {
   "cell_type": "code",
   "execution_count": null,
   "metadata": {},
   "outputs": [],
   "source": []
  },
  {
   "cell_type": "markdown",
   "metadata": {},
   "source": [
    "## Tests"
   ]
  },
  {
   "cell_type": "code",
   "execution_count": 18,
   "metadata": {
    "ExecuteTime": {
     "end_time": "2020-05-12T13:57:12.937868Z",
     "start_time": "2020-05-12T13:57:05.205116Z"
    }
   },
   "outputs": [],
   "source": [
    "path = askopenfilename(initialdir='../..')"
   ]
  },
  {
   "cell_type": "code",
   "execution_count": 19,
   "metadata": {
    "ExecuteTime": {
     "end_time": "2020-05-12T13:57:47.807315Z",
     "start_time": "2020-05-12T13:57:47.526880Z"
    }
   },
   "outputs": [
    {
     "data": {
      "text/plain": [
       "{'skiprows': [0, 1],\n",
       " 'skipcolumns': ['Total'],\n",
       " 'date_column': 'Date',\n",
       " 'datetime_column': None,\n",
       " 'file_format': 'row_per_day',\n",
       " 'units': 'kWh',\n",
       " 'header': 0,\n",
       " 'time_column': None,\n",
       " 'time_periodic': None}"
      ]
     },
     "execution_count": 19,
     "metadata": {},
     "output_type": "execute_result"
    }
   ],
   "source": [
    "s = make_schema(path)\n",
    "s"
   ]
  },
  {
   "cell_type": "code",
   "execution_count": null,
   "metadata": {},
   "outputs": [],
   "source": []
  }
 ],
 "metadata": {
  "kernelspec": {
   "display_name": "Python 3",
   "language": "python",
   "name": "python3"
  },
  "language_info": {
   "codemirror_mode": {
    "name": "ipython",
    "version": 3
   },
   "file_extension": ".py",
   "mimetype": "text/x-python",
   "name": "python",
   "nbconvert_exporter": "python",
   "pygments_lexer": "ipython3",
   "version": "3.7.6"
  }
 },
 "nbformat": 4,
 "nbformat_minor": 4
}
