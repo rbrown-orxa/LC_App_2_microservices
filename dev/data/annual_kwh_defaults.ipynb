{
 "cells": [
  {
   "cell_type": "code",
   "execution_count": 32,
   "metadata": {},
   "outputs": [],
   "source": [
    "import pandas as pd\n",
    "import json"
   ]
  },
  {
   "cell_type": "code",
   "execution_count": 2,
   "metadata": {},
   "outputs": [
    {
     "data": {
      "text/plain": [
       "['building_annual_kWh.csv',\n",
       " 'building_profiles.csv',\n",
       " 'charging_behaviour_study_profiles.csv',\n",
       " 'charging_behaviour_study_trends.csv',\n",
       " 'impact_of_electric_vehicles_profiles.csv',\n",
       " 'low_voltage_network_solutions_connection_energies.csv',\n",
       " 'low_voltage_network_solutions_connection_times.csv',\n",
       " 'low_voltage_network_solutions_profiles.csv',\n",
       " 'merge.ipynb',\n",
       " 'my_electric_avenue_profiles.csv',\n",
       " 'profiles_for_production_use.csv']"
      ]
     },
     "execution_count": 2,
     "metadata": {},
     "output_type": "execute_result"
    }
   ],
   "source": [
    "!! ls cleaned/"
   ]
  },
  {
   "cell_type": "code",
   "execution_count": 4,
   "metadata": {},
   "outputs": [
    {
     "data": {
      "text/html": [
       "<div>\n",
       "<style scoped>\n",
       "    .dataframe tbody tr th:only-of-type {\n",
       "        vertical-align: middle;\n",
       "    }\n",
       "\n",
       "    .dataframe tbody tr th {\n",
       "        vertical-align: top;\n",
       "    }\n",
       "\n",
       "    .dataframe thead th {\n",
       "        text-align: right;\n",
       "    }\n",
       "</style>\n",
       "<table border=\"1\" class=\"dataframe\">\n",
       "  <thead>\n",
       "    <tr style=\"text-align: right;\">\n",
       "      <th></th>\n",
       "      <th>domestic</th>\n",
       "      <th>work</th>\n",
       "      <th>public</th>\n",
       "      <th>commercial</th>\n",
       "      <th>delivery</th>\n",
       "      <th>workshop</th>\n",
       "      <th>factory</th>\n",
       "    </tr>\n",
       "  </thead>\n",
       "  <tbody>\n",
       "    <tr>\n",
       "      <th>0</th>\n",
       "      <td>3904</td>\n",
       "      <td>13487</td>\n",
       "      <td>13487</td>\n",
       "      <td>65969</td>\n",
       "      <td>13487</td>\n",
       "      <td>110275</td>\n",
       "      <td>190290</td>\n",
       "    </tr>\n",
       "  </tbody>\n",
       "</table>\n",
       "</div>"
      ],
      "text/plain": [
       "   domestic   work  public  commercial  delivery  workshop  factory\n",
       "0      3904  13487   13487       65969     13487    110275   190290"
      ]
     },
     "execution_count": 4,
     "metadata": {},
     "output_type": "execute_result"
    }
   ],
   "source": [
    "annuals = pd.read_csv('cleaned/building_annual_kWh.csv')\n",
    "annuals"
   ]
  },
  {
   "cell_type": "code",
   "execution_count": 35,
   "metadata": {},
   "outputs": [],
   "source": [
    "def get_annual_kwh(filepath, building_type):\n",
    "    try:\n",
    "        annual_kwh = int(round( ( pd.read_csv(filepath) [building_type] )))\n",
    "    except(KeyError):\n",
    "        assert False, f'422 Building type \\\"{building_type}\\\" not found'\n",
    "        \n",
    "    return {'building_type':building_type, 'default_annual_kwh':annual_kwh}"
   ]
  },
  {
   "cell_type": "code",
   "execution_count": 36,
   "metadata": {},
   "outputs": [
    {
     "data": {
      "text/plain": [
       "{'building_type': 'commercial', 'default_annual_kwh': 65969}"
      ]
     },
     "execution_count": 36,
     "metadata": {},
     "output_type": "execute_result"
    }
   ],
   "source": [
    "get_annual_kwh('cleaned/building_annual_kWh.csv', 'commercial')"
   ]
  },
  {
   "cell_type": "code",
   "execution_count": null,
   "metadata": {},
   "outputs": [],
   "source": []
  }
 ],
 "metadata": {
  "kernelspec": {
   "display_name": "Python 3",
   "language": "python",
   "name": "python3"
  },
  "language_info": {
   "codemirror_mode": {
    "name": "ipython",
    "version": 3
   },
   "file_extension": ".py",
   "mimetype": "text/x-python",
   "name": "python",
   "nbconvert_exporter": "python",
   "pygments_lexer": "ipython3",
   "version": "3.8.3"
  }
 },
 "nbformat": 4,
 "nbformat_minor": 4
}
