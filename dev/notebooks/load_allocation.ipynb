{
 "cells": [
  {
   "cell_type": "markdown",
   "metadata": {},
   "source": [
    "# Load profile "
   ]
  },
  {
   "cell_type": "code",
   "execution_count": 46,
   "metadata": {},
   "outputs": [],
   "source": [
    "import statistics\n",
    "import werkzeug\n",
    "import tempfile\n",
    "import pandas as pd\n",
    "from contextlib import contextmanager\n",
    "import os"
   ]
  },
  {
   "cell_type": "code",
   "execution_count": 2,
   "metadata": {},
   "outputs": [
    {
     "name": "stdout",
     "output_type": "stream",
     "text": [
      "Importing Jupyter notebook from pv_optimiser.ipynb\n"
     ]
    }
   ],
   "source": [
    "#notebook importer\n",
    "import nbimporter\n",
    "import pv_optimiser\n",
    "# import get_schema"
   ]
  },
  {
   "cell_type": "code",
   "execution_count": null,
   "metadata": {},
   "outputs": [],
   "source": []
  },
  {
   "cell_type": "markdown",
   "metadata": {},
   "source": [
    "# Functions"
   ]
  },
  {
   "cell_type": "code",
   "execution_count": 3,
   "metadata": {},
   "outputs": [],
   "source": [
    "def pv_aggregated_load_profile_optimiser(request):\n",
    "    \"\"\"\n",
    "    Get list of optimal pv size for a set of roofs by summing all the load\n",
    "    profiles, taking the average of variable roof parameters, optimising\n",
    "    the aggregate system and distributing the suggested solar PV capacity\n",
    "    across the participant roofs according to the ratios of surface area.\n",
    "    request: the dict-like request object passed by Flask\n",
    "    Returns: list of floats\n",
    "    \"\"\"    \n",
    "    fixed_data = _get_fixed_fields(request)\n",
    "    variable_data = _get_variable_fields(request,\n",
    "                        average_each_field=True)\n",
    "    data = {**fixed_data, **variable_data}\n",
    "    \n",
    "    #Used as input paramter in EV_profile\n",
    "    building_type = request.form.get('building_type',type=int)\n",
    "    no_of_charge_points = request.form.getlist('no_of_charge_points', type=int)\n",
    "\n",
    "    with _make_temp_files(request) as temp_files:\n",
    "        curve, df ,report, load = pv_optimiser.api(data, temp_files)\n",
    "\n",
    "    total_pv_size = report.loc['optimal_size_kwp']\n",
    "    roof_sizes_m2 = request.form.getlist('roof_size_m2', type=float)\n",
    "    \n",
    "    return(_allocate_pv_to_roofs(roof_sizes_m2, total_pv_size,load,building_type,no_of_charge_points))\n"
   ]
  },
  {
   "cell_type": "code",
   "execution_count": 4,
   "metadata": {},
   "outputs": [],
   "source": [
    "def get_form_data(request, fixed_fields=[], variable_fields=[]):\n",
    "    if fixed_fields:\n",
    "        fixed_data = _get_fixed_fields(request, fixed_fields) # dict\n",
    "    else:\n",
    "        fixed_data = _get_fixed_fields(request)\n",
    "    if variable_fields:\n",
    "        variable_data = _get_variable_fields(request, variable_fields) # dict\n",
    "    else:\n",
    "        variable_data = _get_variable_fields(request, variable_fields) # dict\n",
    "    form_data = {**fixed_data, **variable_data} # dict\n",
    "    return(form_data)"
   ]
  },
  {
   "cell_type": "code",
   "execution_count": 5,
   "metadata": {},
   "outputs": [],
   "source": [
    "def pv_allocate_size_by_roof_eff_optimiser(request):\n",
    "    # fixed_fields = ['lon', 'lat', 'cost_per_kWp', 'import_cost', 'export_price','expected_life_yrs']\n",
    "    # variable_fields = ['roof_size_m2', 'azimuth', 'roofpitch']\n",
    "\n",
    "    fixed_data = _get_fixed_fields(request) # dict\n",
    "    variable_data = _get_variable_fields(request) # dict\n",
    "    form_data = {**fixed_data, **variable_data} # dict\n",
    "\n",
    "    lat, lon = float(form_data['lat']), float(form_data['lon'])\n",
    "\n",
    "    roof_size_m2, roofpitch, azimuth = ( form_data['roof_size_m2'].copy(),\n",
    "                                        form_data['roofpitch'].copy(),\n",
    "                                        form_data['azimuth'].copy() )\n",
    "    #Used as input paramter in EV_profile\n",
    "    building_type = request.form.get('building_type',type=int)\n",
    "    no_of_charge_points = request.form.getlist('no_of_charge_points', type=int)\n",
    "    \n",
    "    #Initialise dataframe\n",
    "    load_add = pd.DataFrame()    \n",
    "    #Get generation per kw   \n",
    "    generation_1kw = [] # list of df\n",
    "    generation_1kw_sum = [] # list of float -> annual generation of each roof in kWh\n",
    "\n",
    "    #Get file names\n",
    "    # temp_filenames = get_file_names(req,'file')\n",
    "\n",
    "    with _make_temp_files(request) as temp_files:\n",
    "        # num = len(temp_files)\n",
    "\n",
    "        for filepath, roofpitch, azim in zip(temp_files, roofpitch, azimuth):\n",
    "            load, units = pv_optimiser.csv_file_import(filepath, lat, lon)\n",
    "            load = pv_optimiser.handle_units(load, units)\n",
    "\n",
    "            load_add = load.add(load_add, fill_value=0) #DataFrame\n",
    "\n",
    "            tmp_gen = pv_optimiser.generation_1kw(\n",
    "                lat, lon, load, roofpitch, azimuth=azim)\n",
    "            generation_1kw.append(tmp_gen) # list of df\n",
    "            generation_1kw_sum.append(tmp_gen.sum()) # list of float\n",
    "\n",
    "        #Calculate roof efficieny\n",
    "        roof_eff_1kw = []\n",
    "\n",
    "        roof_eff_1kw = [ roof_generation / (365*24) \n",
    "                        for roof_generation in generation_1kw_sum ]\n",
    "\n",
    "\n",
    "        #allocate the load based on ratio of roof efficiency\n",
    "        load_kw = []\n",
    "        tmp_ratio = 0.0\n",
    "        for roof in roof_eff_1kw: #iterate over each roof\n",
    "            tmp_df = load_add\n",
    "            tmp_ratio = roof / sum(roof_eff_1kw) #float\n",
    "            tmp_df['kWh'] = tmp_df['kWh'] * tmp_ratio['1kWp_generation_kw'] # series  ['1kWp_generation_kw']\n",
    "            load_kw.append(tmp_df) # list of series -> load for each roof\n",
    "        #optimise PV size\n",
    "        cost_per_kWp = float(form_data['cost_per_kWp'])\n",
    "        import_cost = float(form_data['import_cost'])\n",
    "        export_price = float(form_data['export_price'])\n",
    "        expected_life_yrs = float(form_data['expected_life_yrs'])\n",
    "        panel_efficiency = 0.18 # https://www.solar.com/learn/solar-panel-efficiency/\n",
    "        optimal_size = []\n",
    "        \n",
    "        # for index in range(num):\n",
    "        for gen_1_kw, load_kw, roof_size_m2 in zip(\n",
    "                generation_1kw, load_kw, roof_size_m2):\n",
    "            df_cost_curve = pv_optimiser.cost_curve(\n",
    "                                    generation_1kw=gen_1_kw,\n",
    "                                    load_kwh=load_kw,\n",
    "                                    cost_per_kWp=cost_per_kWp,\n",
    "                                    import_cost=import_cost,\n",
    "                                    export_price=export_price,\n",
    "                                    expected_life_yrs=expected_life_yrs,\n",
    "                                    roof_size_kw=roof_size_m2 * panel_efficiency)\n",
    "            \n",
    "            tmp_opt_size, optimal_revenue = pv_optimiser.optimise(df_cost_curve) #float, float\n",
    "            optimal_size.append(tmp_opt_size)\n",
    "    return(optimal_size,[size / sum(optimal_size) * load_kw for size in optimal_size],building_type,no_of_charge_points) # list of float -> optimal size in kWp\n"
   ]
  },
  {
   "cell_type": "markdown",
   "metadata": {},
   "source": [
    "# Helper Functions"
   ]
  },
  {
   "cell_type": "code",
   "execution_count": 6,
   "metadata": {},
   "outputs": [],
   "source": [
    "def _get_fixed_fields(request, fields=['lon', 'lat',\n",
    "                            'cost_per_kWp', 'import_cost',\n",
    "                            'export_price','expected_life_yrs','no_of_buildings','building_type']):\n",
    "    \"\"\"\n",
    "    Retrieve the constant values from solar pv form.html form fields.\n",
    "    req: the dict-like request object passed by Flask\n",
    "    fields: list of the expected keys in req.form\n",
    "    Returns: Dictionary of {expected form fields:field values}\n",
    "    \"\"\"\n",
    "    return { field : request.form.get(field, None)\n",
    "            for field in fields }"
   ]
  },
  {
   "cell_type": "code",
   "execution_count": 7,
   "metadata": {},
   "outputs": [],
   "source": [
    "def _get_variable_fields(request,\n",
    "                        fields=['roof_size_m2', 'azimuth',\n",
    "                                'roofpitch','no_of_charge_points'],\n",
    "                        average_each_field=False):\n",
    "    \"\"\"\n",
    "    Retrieve the variable values from solar pv form.html form fields.\n",
    "    req: the dict-like request object passed by Flask\n",
    "    fields: list of the expected keys in req.form\n",
    "    Returns: Dictionary of {expected form fields:field values}\n",
    "    \"\"\"\n",
    "    form_data = { field : request.form.getlist(field, type=float)\n",
    "                 for field in fields }\n",
    "    if average_each_field:\n",
    "        form_data = { field : statistics.mean(values)\n",
    "                    for field, values in form_data.items() }\n",
    "    return form_data\n"
   ]
  },
  {
   "cell_type": "code",
   "execution_count": 8,
   "metadata": {},
   "outputs": [],
   "source": [
    "@contextmanager\n",
    "def _make_temp_files(request, key='file'):\n",
    "    \"\"\"\n",
    "    Get list of absolute filepaths of temporary files copied from input files.\n",
    "    req: the dict-like request object passed by Flask \n",
    "        (werkzeug.datastructures.MultiDict of FileStorage)\n",
    "    key: Form field name of file(s) submitted in HTML\n",
    "    Returns: list of temporary filepaths\n",
    "    \"\"\"\n",
    "    files = request.files.getlist(key)\n",
    "    temp_filenames = []\n",
    "    try:\n",
    "        for file in files:\n",
    "            temp_filename = tempfile.mktemp(suffix='.csv')\n",
    "            # print(f'Temporary file will be created at {temp_filename}')\n",
    "            # with open(temp_filename, 'wb') as temp_file:\n",
    "            file.save(temp_filename)\n",
    "            temp_filenames.append(temp_filename)\n",
    "        yield temp_filenames\n",
    "    finally:\n",
    "        [ os.remove(file) for file in temp_filenames ]"
   ]
  },
  {
   "cell_type": "code",
   "execution_count": 9,
   "metadata": {},
   "outputs": [],
   "source": [
    "def _allocate_pv_to_roofs(roof_sizes_m2=[], total_pv_size_kWp=0,load=0,building_type=0,no_of_charge_points=0):\n",
    "    \"\"\"Allocate the PV sizes based on ratio of roof sizes\"\"\"\n",
    "    # roof_sizes_m2 = [float(x) for x in roof_sizes_m2]\n",
    "    return ([roof / sum(roof_sizes_m2) * total_pv_size_kWp for roof in roof_sizes_m2],\n",
    "            [roof / sum(roof_sizes_m2) * load for roof in roof_sizes_m2],building_type,no_of_charge_points)\n"
   ]
  },
  {
   "cell_type": "code",
   "execution_count": null,
   "metadata": {},
   "outputs": [],
   "source": []
  },
  {
   "cell_type": "code",
   "execution_count": null,
   "metadata": {},
   "outputs": [],
   "source": []
  },
  {
   "cell_type": "markdown",
   "metadata": {},
   "source": [
    "# Tests"
   ]
  },
  {
   "cell_type": "code",
   "execution_count": null,
   "metadata": {},
   "outputs": [],
   "source": [
    "if __name__ == '__main__':\n",
    "    import unittest\n",
    "    from unittest import TestCase, mock\n",
    "\n",
    "    class Request:\n",
    "        pass\n",
    "\n",
    "    class test_library(TestCase):\n",
    "\n",
    "        def test__allocate_pv_to_roofs(self):\n",
    "            rv = _allocate_pv_to_roofs([10, 20, 30], 100+200+300)\n",
    "            self.assertEqual(rv, [100.0, 200.0, 300.0])\n",
    "\n",
    "        def test__make_temp_files(self):\n",
    "            request = Request()\n",
    "            with open('tempfile1.tmp', 'wb') as f1, \\\n",
    "                open('tempfile2.tmp', 'wb') as f2:\n",
    "                f1.write(b'1,2,3')\n",
    "                f2.write(b'4,5,6')\n",
    "\n",
    "            with open('tempfile1.tmp', 'rb') as f1, \\\n",
    "                open('tempfile2.tmp', 'rb') as f2:\n",
    "                    fs1 = werkzeug.datastructures.FileStorage(\n",
    "                        f1, filename='tempfile1.tmp')\n",
    "                    fs2 = werkzeug.datastructures.FileStorage(\n",
    "                        f2, filename='tempfile2.tmp')\n",
    "                    request.files = werkzeug.datastructures.MultiDict(\n",
    "                        [('file', fs1), ('file', fs2)])\n",
    "                    with _make_temp_files(request, 'file') as rv:\n",
    "                        self.assertIsInstance(rv, list)\n",
    "                        self.assertEqual(len(rv), 2)\n",
    "\n",
    "        def test__get_variable_fields(self):\n",
    "            request = Request()\n",
    "            request.form = werkzeug.datastructures.MultiDict(\n",
    "                [('azim', 120), ('azim', 180)])\n",
    "            fields = ['azim']\n",
    "            rv = _get_variable_fields(request, fields)\n",
    "            self.assertEqual(rv['azim'], [120, 180])\n",
    "\n",
    "            request = Request()\n",
    "            request.form = werkzeug.datastructures.MultiDict(\n",
    "                [('azim', 120), ('azim', 180)])\n",
    "            fields = ['azim']\n",
    "            rv = _get_variable_fields(request,fields,average_each_field=True)\n",
    "            self.assertEqual(rv['azim'], 150)\n",
    "\n",
    "        def test__get_fixed_fields(self):\n",
    "            request = Request()\n",
    "            request.form = {'lat':10.0, 'lon':0.0, 'cost':20.0}\n",
    "            fields = ['lat', 'lon', 'cost', 'missing']\n",
    "            rv = _get_fixed_fields(request, fields)\n",
    "            self.assertEqual(rv, \n",
    "             {'lat': 10.0, 'lon': 0.0, 'cost': 20.0, 'missing': None})\n",
    "\n",
    "\n",
    "    unittest.main()"
   ]
  },
  {
   "cell_type": "code",
   "execution_count": null,
   "metadata": {},
   "outputs": [],
   "source": []
  },
  {
   "cell_type": "code",
   "execution_count": null,
   "metadata": {},
   "outputs": [],
   "source": []
  },
  {
   "cell_type": "code",
   "execution_count": null,
   "metadata": {},
   "outputs": [],
   "source": []
  },
  {
   "cell_type": "code",
   "execution_count": null,
   "metadata": {},
   "outputs": [],
   "source": []
  }
 ],
 "metadata": {
  "kernelspec": {
   "display_name": "solarpvv1",
   "language": "python",
   "name": "solarpvv1"
  },
  "language_info": {
   "codemirror_mode": {
    "name": "ipython",
    "version": 3
   },
   "file_extension": ".py",
   "mimetype": "text/x-python",
   "name": "python",
   "nbconvert_exporter": "python",
   "pygments_lexer": "ipython3",
   "version": "3.6.5"
  }
 },
 "nbformat": 4,
 "nbformat_minor": 4
}
