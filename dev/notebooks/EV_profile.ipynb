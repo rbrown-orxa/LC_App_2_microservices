{
 "cells": [
  {
   "cell_type": "code",
   "execution_count": 1,
   "metadata": {},
   "outputs": [],
   "source": [
    "import pandas as pd\n",
    "import numpy as np"
   ]
  },
  {
   "cell_type": "markdown",
   "metadata": {},
   "source": [
    "## TODO\n",
    "### Smooth transitions between weekday and weekend charging profiles"
   ]
  },
  {
   "cell_type": "markdown",
   "metadata": {},
   "source": [
    "## Constants"
   ]
  },
  {
   "cell_type": "code",
   "execution_count": 2,
   "metadata": {},
   "outputs": [],
   "source": [
    "WEEKEND_TO_WEEKDAY_CHARGING_RATIO = 0.2"
   ]
  },
  {
   "cell_type": "code",
   "execution_count": 3,
   "metadata": {},
   "outputs": [],
   "source": [
    "START_DATE = '2019-01-01'"
   ]
  },
  {
   "cell_type": "code",
   "execution_count": 4,
   "metadata": {},
   "outputs": [],
   "source": [
    "NUM_CHARGING_POINTS = 15"
   ]
  },
  {
   "cell_type": "code",
   "execution_count": 30,
   "metadata": {},
   "outputs": [],
   "source": [
    "PROFILES_EV = '../data/profiles_for_production_use.csv'"
   ]
  },
  {
   "cell_type": "markdown",
   "metadata": {},
   "source": [
    "## Import stochastic EV charging profiles\n",
    "Each row = 5 minutes\n",
    "Each column = One charging point"
   ]
  },
  {
   "cell_type": "code",
   "execution_count": 6,
   "metadata": {},
   "outputs": [
    {
     "data": {
      "text/html": [
       "<div>\n",
       "<style scoped>\n",
       "    .dataframe tbody tr th:only-of-type {\n",
       "        vertical-align: middle;\n",
       "    }\n",
       "\n",
       "    .dataframe tbody tr th {\n",
       "        vertical-align: top;\n",
       "    }\n",
       "\n",
       "    .dataframe thead th {\n",
       "        text-align: right;\n",
       "    }\n",
       "</style>\n",
       "<table border=\"1\" class=\"dataframe\">\n",
       "  <thead>\n",
       "    <tr style=\"text-align: right;\">\n",
       "      <th></th>\n",
       "      <th>0</th>\n",
       "      <th>1</th>\n",
       "      <th>2</th>\n",
       "      <th>3</th>\n",
       "      <th>4</th>\n",
       "      <th>5</th>\n",
       "      <th>6</th>\n",
       "      <th>7</th>\n",
       "      <th>8</th>\n",
       "      <th>9</th>\n",
       "      <th>...</th>\n",
       "      <th>90</th>\n",
       "      <th>91</th>\n",
       "      <th>92</th>\n",
       "      <th>93</th>\n",
       "      <th>94</th>\n",
       "      <th>95</th>\n",
       "      <th>96</th>\n",
       "      <th>97</th>\n",
       "      <th>98</th>\n",
       "      <th>99</th>\n",
       "    </tr>\n",
       "  </thead>\n",
       "  <tbody>\n",
       "    <tr>\n",
       "      <th>0</th>\n",
       "      <td>0</td>\n",
       "      <td>0</td>\n",
       "      <td>3</td>\n",
       "      <td>0</td>\n",
       "      <td>0</td>\n",
       "      <td>3</td>\n",
       "      <td>3</td>\n",
       "      <td>0</td>\n",
       "      <td>3</td>\n",
       "      <td>3</td>\n",
       "      <td>...</td>\n",
       "      <td>0</td>\n",
       "      <td>3</td>\n",
       "      <td>0</td>\n",
       "      <td>0</td>\n",
       "      <td>3</td>\n",
       "      <td>3</td>\n",
       "      <td>3</td>\n",
       "      <td>3</td>\n",
       "      <td>3</td>\n",
       "      <td>0</td>\n",
       "    </tr>\n",
       "    <tr>\n",
       "      <th>1</th>\n",
       "      <td>0</td>\n",
       "      <td>0</td>\n",
       "      <td>3</td>\n",
       "      <td>0</td>\n",
       "      <td>0</td>\n",
       "      <td>3</td>\n",
       "      <td>3</td>\n",
       "      <td>0</td>\n",
       "      <td>3</td>\n",
       "      <td>3</td>\n",
       "      <td>...</td>\n",
       "      <td>0</td>\n",
       "      <td>3</td>\n",
       "      <td>0</td>\n",
       "      <td>0</td>\n",
       "      <td>3</td>\n",
       "      <td>3</td>\n",
       "      <td>3</td>\n",
       "      <td>3</td>\n",
       "      <td>3</td>\n",
       "      <td>0</td>\n",
       "    </tr>\n",
       "    <tr>\n",
       "      <th>2</th>\n",
       "      <td>0</td>\n",
       "      <td>0</td>\n",
       "      <td>3</td>\n",
       "      <td>0</td>\n",
       "      <td>0</td>\n",
       "      <td>3</td>\n",
       "      <td>3</td>\n",
       "      <td>0</td>\n",
       "      <td>3</td>\n",
       "      <td>3</td>\n",
       "      <td>...</td>\n",
       "      <td>0</td>\n",
       "      <td>3</td>\n",
       "      <td>0</td>\n",
       "      <td>0</td>\n",
       "      <td>3</td>\n",
       "      <td>3</td>\n",
       "      <td>3</td>\n",
       "      <td>3</td>\n",
       "      <td>3</td>\n",
       "      <td>0</td>\n",
       "    </tr>\n",
       "    <tr>\n",
       "      <th>3</th>\n",
       "      <td>0</td>\n",
       "      <td>0</td>\n",
       "      <td>3</td>\n",
       "      <td>0</td>\n",
       "      <td>0</td>\n",
       "      <td>3</td>\n",
       "      <td>3</td>\n",
       "      <td>0</td>\n",
       "      <td>3</td>\n",
       "      <td>3</td>\n",
       "      <td>...</td>\n",
       "      <td>0</td>\n",
       "      <td>0</td>\n",
       "      <td>0</td>\n",
       "      <td>0</td>\n",
       "      <td>3</td>\n",
       "      <td>3</td>\n",
       "      <td>3</td>\n",
       "      <td>3</td>\n",
       "      <td>3</td>\n",
       "      <td>0</td>\n",
       "    </tr>\n",
       "    <tr>\n",
       "      <th>4</th>\n",
       "      <td>0</td>\n",
       "      <td>0</td>\n",
       "      <td>3</td>\n",
       "      <td>0</td>\n",
       "      <td>0</td>\n",
       "      <td>3</td>\n",
       "      <td>3</td>\n",
       "      <td>0</td>\n",
       "      <td>3</td>\n",
       "      <td>3</td>\n",
       "      <td>...</td>\n",
       "      <td>0</td>\n",
       "      <td>0</td>\n",
       "      <td>0</td>\n",
       "      <td>0</td>\n",
       "      <td>3</td>\n",
       "      <td>3</td>\n",
       "      <td>3</td>\n",
       "      <td>3</td>\n",
       "      <td>3</td>\n",
       "      <td>0</td>\n",
       "    </tr>\n",
       "  </tbody>\n",
       "</table>\n",
       "<p>5 rows × 100 columns</p>\n",
       "</div>"
      ],
      "text/plain": [
       "   0   1   2   3   4   5   6   7   8   9   ...  90  91  92  93  94  95  96  \\\n",
       "0   0   0   3   0   0   3   3   0   3   3  ...   0   3   0   0   3   3   3   \n",
       "1   0   0   3   0   0   3   3   0   3   3  ...   0   3   0   0   3   3   3   \n",
       "2   0   0   3   0   0   3   3   0   3   3  ...   0   3   0   0   3   3   3   \n",
       "3   0   0   3   0   0   3   3   0   3   3  ...   0   0   0   0   3   3   3   \n",
       "4   0   0   3   0   0   3   3   0   3   3  ...   0   0   0   0   3   3   3   \n",
       "\n",
       "   97  98  99  \n",
       "0   3   3   0  \n",
       "1   3   3   0  \n",
       "2   3   3   0  \n",
       "3   3   3   0  \n",
       "4   3   3   0  \n",
       "\n",
       "[5 rows x 100 columns]"
      ]
     },
     "execution_count": 6,
     "metadata": {},
     "output_type": "execute_result"
    }
   ],
   "source": [
    "df = pd.read_csv('../examples/Winter_EV_Profiles.csv', header=None)\n",
    "df.head()"
   ]
  },
  {
   "cell_type": "markdown",
   "metadata": {},
   "source": [
    "## Get mean EV profile per charging point\n",
    "One day profile"
   ]
  },
  {
   "cell_type": "code",
   "execution_count": 7,
   "metadata": {},
   "outputs": [
    {
     "data": {
      "text/plain": [
       "<matplotlib.axes._subplots.AxesSubplot at 0x26b97193ef0>"
      ]
     },
     "execution_count": 7,
     "metadata": {},
     "output_type": "execute_result"
    },
    {
     "data": {
      "image/png": "[encoded data removed]",
      "text/plain": [
       "<Figure size 432x288 with 1 Axes>"
      ]
     },
     "metadata": {
      "needs_background": "light"
     },
     "output_type": "display_data"
    }
   ],
   "source": [
    "# After Diversity Demand (ADD)\n",
    "one_day_ADD = df.sum(axis=1) / 100\n",
    "one_day_ADD.plot()"
   ]
  },
  {
   "cell_type": "markdown",
   "metadata": {},
   "source": [
    "## Split into weekdays and weekend days"
   ]
  },
  {
   "cell_type": "code",
   "execution_count": 8,
   "metadata": {},
   "outputs": [],
   "source": [
    "weekday, weekend = one_day_ADD, one_day_ADD * WEEKEND_TO_WEEKDAY_CHARGING_RATIO"
   ]
  },
  {
   "cell_type": "code",
   "execution_count": 9,
   "metadata": {},
   "outputs": [
    {
     "data": {
      "text/plain": [
       "<matplotlib.axes._subplots.AxesSubplot at 0x26b99299be0>"
      ]
     },
     "execution_count": 9,
     "metadata": {},
     "output_type": "execute_result"
    },
    {
     "data": {
      "image/png": "[encoded data removed]",
      "text/plain": [
       "<Figure size 432x288 with 1 Axes>"
      ]
     },
     "metadata": {
      "needs_background": "light"
     },
     "output_type": "display_data"
    }
   ],
   "source": [
    "df = pd.concat([weekday, weekend], axis=1).rename(columns={0:'weekday', 1:'weekend'})\n",
    "df.plot()"
   ]
  },
  {
   "cell_type": "code",
   "execution_count": 10,
   "metadata": {},
   "outputs": [
    {
     "data": {
      "text/plain": [
       "<matplotlib.axes._subplots.AxesSubplot at 0x26b99319198>"
      ]
     },
     "execution_count": 10,
     "metadata": {},
     "output_type": "execute_result"
    },
    {
     "data": {
      "image/png": "[encoded data removed]",
      "text/plain": [
       "<Figure size 432x288 with 1 Axes>"
      ]
     },
     "metadata": {
      "needs_background": "light"
     },
     "output_type": "display_data"
    }
   ],
   "source": [
    "# Resample to hourly data\n",
    "df = df.groupby(np.arange(len(df))//(60//5)).mean()\n",
    "df.plot()"
   ]
  },
  {
   "cell_type": "markdown",
   "metadata": {},
   "source": [
    "## Build yearly profile per charging point"
   ]
  },
  {
   "cell_type": "code",
   "execution_count": 11,
   "metadata": {},
   "outputs": [],
   "source": [
    "start = pd.to_datetime(START_DATE)\n",
    "end = start + pd.DateOffset(years=1)\n",
    "days_in_year = pd.date_range(start=start, end=end, freq='1d')"
   ]
  },
  {
   "cell_type": "code",
   "execution_count": 12,
   "metadata": {},
   "outputs": [],
   "source": [
    "day_of_week = list(days_in_year.weekday)\n",
    "working_days = [True if day <= 4 else False for day in day_of_week ]\n",
    "year = [df.weekday.to_list() if day else df.weekend.to_list() for day in working_days]\n",
    "year = [hour for day in year for hour in day] # flatten list\n",
    "year = pd.Series(year)"
   ]
  },
  {
   "cell_type": "code",
   "execution_count": 13,
   "metadata": {},
   "outputs": [
    {
     "data": {
      "text/plain": [
       "<matplotlib.axes._subplots.AxesSubplot at 0x26b993a1b00>"
      ]
     },
     "execution_count": 13,
     "metadata": {},
     "output_type": "execute_result"
    },
    {
     "data": {
      "image/png": "[encoded data removed]",
      "text/plain": [
       "<Figure size 432x288 with 1 Axes>"
      ]
     },
     "metadata": {
      "needs_background": "light"
     },
     "output_type": "display_data"
    }
   ],
   "source": [
    "year[:24*14].plot()"
   ]
  },
  {
   "cell_type": "markdown",
   "metadata": {},
   "source": [
    "## Build yearly profile per building with NUM_CHARGING_POINTS"
   ]
  },
  {
   "cell_type": "code",
   "execution_count": 14,
   "metadata": {},
   "outputs": [],
   "source": [
    "building_EV_load_one_year = year * NUM_CHARGING_POINTS"
   ]
  },
  {
   "cell_type": "code",
   "execution_count": 15,
   "metadata": {},
   "outputs": [
    {
     "data": {
      "text/plain": [
       "<matplotlib.axes._subplots.AxesSubplot at 0x26b9940b940>"
      ]
     },
     "execution_count": 15,
     "metadata": {},
     "output_type": "execute_result"
    },
    {
     "data": {
      "image/png": "[encoded data removed]",
      "text/plain": [
       "<Figure size 432x288 with 1 Axes>"
      ]
     },
     "metadata": {
      "needs_background": "light"
     },
     "output_type": "display_data"
    }
   ],
   "source": [
    "building_EV_load_one_year[:24*14].plot()"
   ]
  },
  {
   "cell_type": "markdown",
   "metadata": {},
   "source": [
    "## Add datetime index to series"
   ]
  },
  {
   "cell_type": "code",
   "execution_count": 16,
   "metadata": {},
   "outputs": [
    {
     "data": {
      "text/plain": [
       "DatetimeIndex(['2019-01-01 00:00:00', '2019-01-01 01:00:00',\n",
       "               '2019-01-01 02:00:00', '2019-01-01 03:00:00',\n",
       "               '2019-01-01 04:00:00'],\n",
       "              dtype='datetime64[ns]', freq='H')"
      ]
     },
     "execution_count": 16,
     "metadata": {},
     "output_type": "execute_result"
    }
   ],
   "source": [
    "index = pd.date_range(start=start, end=end, freq='1h')\n",
    "index[:5]"
   ]
  },
  {
   "cell_type": "code",
   "execution_count": 17,
   "metadata": {},
   "outputs": [],
   "source": [
    "building_EV_load_one_year = building_EV_load_one_year[:len(index)]"
   ]
  },
  {
   "cell_type": "code",
   "execution_count": 18,
   "metadata": {},
   "outputs": [
    {
     "data": {
      "text/plain": [
       "True"
      ]
     },
     "execution_count": 18,
     "metadata": {},
     "output_type": "execute_result"
    }
   ],
   "source": [
    "len(building_EV_load_one_year) == len(index)"
   ]
  },
  {
   "cell_type": "code",
   "execution_count": 19,
   "metadata": {},
   "outputs": [],
   "source": [
    "building_EV_load_one_year.index = index"
   ]
  },
  {
   "cell_type": "code",
   "execution_count": 20,
   "metadata": {},
   "outputs": [
    {
     "data": {
      "text/plain": [
       "<matplotlib.axes._subplots.AxesSubplot at 0x26b9947b5c0>"
      ]
     },
     "execution_count": 20,
     "metadata": {},
     "output_type": "execute_result"
    },
    {
     "data": {
      "image/png": "[encoded data removed]",
      "text/plain": [
       "<Figure size 432x288 with 1 Axes>"
      ]
     },
     "metadata": {
      "needs_background": "light"
     },
     "output_type": "display_data"
    }
   ],
   "source": [
    "building_EV_load_one_year.iloc[:14*24].plot()"
   ]
  },
  {
   "cell_type": "code",
   "execution_count": 55,
   "metadata": {},
   "outputs": [],
   "source": [
    "ev_profile_dict = {'domestic':0,\n",
    "                   'work':1,\n",
    "                   'public':2,\n",
    "                   'commercial':3,\n",
    "                   'delivery':4}"
   ]
  },
  {
   "cell_type": "markdown",
   "metadata": {},
   "source": [
    "# HELPER FUNCTIONS ###################"
   ]
  },
  {
   "cell_type": "code",
   "execution_count": 44,
   "metadata": {},
   "outputs": [],
   "source": [
    "def _loadprofile(i):\n",
    "    \"\"\"\n",
    "    Switcher function return the sample EV profile file path based on the input value\n",
    "    Returns: file path\n",
    "    \"\"\"\n",
    "    switcher={\n",
    "            #Residentail        \n",
    "            1:'../examples/Winter_EV_Profiles.csv',\n",
    "            #Commercial\n",
    "            2:'../examples/Commercial.csv',\n",
    "            #Office\n",
    "            3:'../examples/Office.csv',\n",
    "            #Shopping mall\n",
    "            4:'../examples/ShoppingMall.csv',\n",
    "            #Factory\n",
    "            5:'../examples/Factory.csv',\n",
    "            #Parking\n",
    "            6:'../examples/Parking.csv',\n",
    "         }\n",
    "    \n",
    "    return switcher.get(i,\"Invalid switch\")"
   ]
  },
  {
   "cell_type": "code",
   "execution_count": 45,
   "metadata": {},
   "outputs": [],
   "source": [
    "def _get_load_profile(building_type,ratio):\n",
    "    \"\"\"\n",
    "    Read the load profile based on the building type and build the profile for a weekday and weekend and convert into hourly data \n",
    "    building_type: building type is integer value used by dictionary switcher\n",
    "    Returns: dataframe with hourly weekday and weekend profile\n",
    "    \"\"\"\n",
    "    \n",
    "    df = pd.read_csv(_loadprofile(building_type), header=None)\n",
    "    one_day_ADD = df.sum(axis=1) / 100\n",
    "    weekday, weekend = one_day_ADD, one_day_ADD * ratio\n",
    "    df = pd.concat([weekday, weekend], axis=1).rename(columns={0:'weekday', 1:'weekend'})\n",
    "    df = df.groupby(np.arange(len(df))//(60//5)).mean()\n",
    "    \n",
    "    return df"
   ]
  },
  {
   "cell_type": "code",
   "execution_count": 46,
   "metadata": {},
   "outputs": [],
   "source": [
    "def _build_yearly_profile(df,start_date):\n",
    "    \"\"\"\n",
    "     build the yearly profile for single charging point using a weekday/weekend profile\n",
    "     df: dataframe input\n",
    "     start_date: start date for the yearly profile\n",
    "     Returns:Pandas series for year\n",
    "    \"\"\"\n",
    "    start = pd.to_datetime(start_date)\n",
    "    end = start + pd.DateOffset(years=1)\n",
    "    days_in_year = pd.date_range(start=start, end=end, freq='1d')\n",
    "    day_of_week = list(days_in_year.weekday)\n",
    "    working_days = [True if day <= 4 else False for day in day_of_week ]\n",
    "    year = [df.weekday.to_list() if day else df.weekend.to_list() for day in working_days]\n",
    "    year = [hour for day in year for hour in day] # flatten list\n",
    "    year = pd.Series(year)\n",
    "    \n",
    "    return year"
   ]
  },
  {
   "cell_type": "code",
   "execution_count": 47,
   "metadata": {},
   "outputs": [],
   "source": [
    "def _build_total_building_load(year,charge_points,start_date):\n",
    "    \"\"\"\n",
    "     build the building profile using yearly profile of charging point\n",
    "     df: yearly profile of charging point\n",
    "     charge_points: Number of charge points in a building\n",
    "     Returns:Pandas data frame yearly load for the building\n",
    "    \"\"\"\n",
    "    start = pd.to_datetime(start_date)\n",
    "    end = start + pd.DateOffset(years=1)\n",
    "    \n",
    "    building_EV_load_one_year = year * charge_points\n",
    "    index = pd.date_range(start=start, end=end, freq='1h')\n",
    "    building_EV_load_one_year = building_EV_load_one_year[:len(index)]\n",
    "    building_EV_load_one_year.index = index\n",
    "    \n",
    "    return building_EV_load_one_year"
   ]
  },
  {
   "cell_type": "markdown",
   "metadata": {},
   "source": [
    "# Main Function"
   ]
  },
  {
   "cell_type": "code",
   "execution_count": 48,
   "metadata": {},
   "outputs": [],
   "source": [
    "def get_ev_profile(building_type=None,ratio=0.2,start_date=None,charge_points=15):\n",
    "    \"\"\"\n",
    "    Get the EV load profile up to one year from start date based on the building type Residential/Commercial/Office/Factory/Shopping\n",
    "    Mall/Park Space and number of charging points\n",
    "\n",
    "    \n",
    "    \"\"\"\n",
    "    assert start_date is not None or building_type, 'Either start_date or number of charge points must be provided'\n",
    "    #Get the load profile sample bulidng type\n",
    "    df = _get_load_profile(1,ratio)\n",
    "    #Build yearly profile per charging point\n",
    "    year=_build_yearly_profile(df,start_date)\n",
    "    #build yearly profile per building\n",
    "    building_EV_load_one_year = _build_total_building_load(year,charge_points,start_date)\n",
    "   \n",
    "    return(pd.DataFrame(building_EV_load_one_year,columns=['kWh']))"
   ]
  },
  {
   "cell_type": "code",
   "execution_count": null,
   "metadata": {},
   "outputs": [],
   "source": [
    "from datetime import datetime, timedelta"
   ]
  },
  {
   "cell_type": "code",
   "execution_count": 191,
   "metadata": {},
   "outputs": [],
   "source": [
    "def get_ev_loads(building_type='domestic',ratio=0.2,start_date=None,charge_points=1):\n",
    "    \"\"\"\n",
    "    Get the EV load profile up to one year from start date based on the building type domestic/work/public/commercial/delivery\n",
    "\n",
    "    \n",
    "    \"\"\"\n",
    "    \n",
    "    #read the corresponding column building_type, set row = 0 as column names\n",
    "    df = pd.read_csv(PROFILES_EV, header=0,usecols=[building_type])\n",
    "    #get the weekday as offset(0: Monday...6:Sunday)\n",
    "    offset = datetime.strptime(start_date, '%Y-%m-%d').weekday()\n",
    "    #Subtract by number days offset so as to align to Monday as start date of EV profile\n",
    "    start = pd.to_datetime(datetime.strptime(start_date, '%Y-%m-%d') - timedelta(days=offset))\n",
    "    #Set end date to one year later\n",
    "    end = start + pd.DateOffset(years=1)\n",
    "    #Multiple EV load by the number of charge points\n",
    "    building_EV_load_one_year = df * charge_points\n",
    "    #Generate datetime index of 1 hour frequency\n",
    "    index = pd.date_range(start=start, end=end, freq='1h')\n",
    "    #Assign the index to EV load\n",
    "    building_EV_load_one_year.index = index[0:len(building_EV_load_one_year)]\n",
    "    \n",
    "    return(building_EV_load_one_year)"
   ]
  },
  {
   "cell_type": "markdown",
   "metadata": {},
   "source": [
    "# Test function"
   ]
  },
  {
   "cell_type": "code",
   "execution_count": 49,
   "metadata": {},
   "outputs": [
    {
     "data": {
      "text/html": [
       "<div>\n",
       "<style scoped>\n",
       "    .dataframe tbody tr th:only-of-type {\n",
       "        vertical-align: middle;\n",
       "    }\n",
       "\n",
       "    .dataframe tbody tr th {\n",
       "        vertical-align: top;\n",
       "    }\n",
       "\n",
       "    .dataframe thead th {\n",
       "        text-align: right;\n",
       "    }\n",
       "</style>\n",
       "<table border=\"1\" class=\"dataframe\">\n",
       "  <thead>\n",
       "    <tr style=\"text-align: right;\">\n",
       "      <th></th>\n",
       "      <th>kWh</th>\n",
       "    </tr>\n",
       "  </thead>\n",
       "  <tbody>\n",
       "    <tr>\n",
       "      <th>2019-01-01 00:00:00</th>\n",
       "      <td>15.2625</td>\n",
       "    </tr>\n",
       "    <tr>\n",
       "      <th>2019-01-01 01:00:00</th>\n",
       "      <td>11.0625</td>\n",
       "    </tr>\n",
       "    <tr>\n",
       "      <th>2019-01-01 02:00:00</th>\n",
       "      <td>5.5500</td>\n",
       "    </tr>\n",
       "    <tr>\n",
       "      <th>2019-01-01 03:00:00</th>\n",
       "      <td>2.6625</td>\n",
       "    </tr>\n",
       "    <tr>\n",
       "      <th>2019-01-01 04:00:00</th>\n",
       "      <td>1.2375</td>\n",
       "    </tr>\n",
       "    <tr>\n",
       "      <th>...</th>\n",
       "      <td>...</td>\n",
       "    </tr>\n",
       "    <tr>\n",
       "      <th>2019-12-31 20:00:00</th>\n",
       "      <td>8.5875</td>\n",
       "    </tr>\n",
       "    <tr>\n",
       "      <th>2019-12-31 21:00:00</th>\n",
       "      <td>8.5875</td>\n",
       "    </tr>\n",
       "    <tr>\n",
       "      <th>2019-12-31 22:00:00</th>\n",
       "      <td>11.3625</td>\n",
       "    </tr>\n",
       "    <tr>\n",
       "      <th>2019-12-31 23:00:00</th>\n",
       "      <td>17.3250</td>\n",
       "    </tr>\n",
       "    <tr>\n",
       "      <th>2020-01-01 00:00:00</th>\n",
       "      <td>15.2625</td>\n",
       "    </tr>\n",
       "  </tbody>\n",
       "</table>\n",
       "<p>8761 rows × 1 columns</p>\n",
       "</div>"
      ],
      "text/plain": [
       "                         kWh\n",
       "2019-01-01 00:00:00  15.2625\n",
       "2019-01-01 01:00:00  11.0625\n",
       "2019-01-01 02:00:00   5.5500\n",
       "2019-01-01 03:00:00   2.6625\n",
       "2019-01-01 04:00:00   1.2375\n",
       "...                      ...\n",
       "2019-12-31 20:00:00   8.5875\n",
       "2019-12-31 21:00:00   8.5875\n",
       "2019-12-31 22:00:00  11.3625\n",
       "2019-12-31 23:00:00  17.3250\n",
       "2020-01-01 00:00:00  15.2625\n",
       "\n",
       "[8761 rows x 1 columns]"
      ]
     },
     "execution_count": 49,
     "metadata": {},
     "output_type": "execute_result"
    }
   ],
   "source": [
    "get_ev_profile(1,WEEKEND_TO_WEEKDAY_CHARGING_RATIO,START_DATE,NUM_CHARGING_POINTS)"
   ]
  },
  {
   "cell_type": "code",
   "execution_count": 189,
   "metadata": {},
   "outputs": [
    {
     "data": {
      "text/html": [
       "<div>\n",
       "<style scoped>\n",
       "    .dataframe tbody tr th:only-of-type {\n",
       "        vertical-align: middle;\n",
       "    }\n",
       "\n",
       "    .dataframe tbody tr th {\n",
       "        vertical-align: top;\n",
       "    }\n",
       "\n",
       "    .dataframe thead th {\n",
       "        text-align: right;\n",
       "    }\n",
       "</style>\n",
       "<table border=\"1\" class=\"dataframe\">\n",
       "  <thead>\n",
       "    <tr style=\"text-align: right;\">\n",
       "      <th></th>\n",
       "      <th>domestic</th>\n",
       "    </tr>\n",
       "  </thead>\n",
       "  <tbody>\n",
       "    <tr>\n",
       "      <th>2018-12-31 00:00:00</th>\n",
       "      <td>1.104106</td>\n",
       "    </tr>\n",
       "    <tr>\n",
       "      <th>2018-12-31 01:00:00</th>\n",
       "      <td>0.757051</td>\n",
       "    </tr>\n",
       "    <tr>\n",
       "      <th>2018-12-31 02:00:00</th>\n",
       "      <td>0.480466</td>\n",
       "    </tr>\n",
       "    <tr>\n",
       "      <th>2018-12-31 03:00:00</th>\n",
       "      <td>0.312261</td>\n",
       "    </tr>\n",
       "    <tr>\n",
       "      <th>2018-12-31 04:00:00</th>\n",
       "      <td>0.221872</td>\n",
       "    </tr>\n",
       "    <tr>\n",
       "      <th>...</th>\n",
       "      <td>...</td>\n",
       "    </tr>\n",
       "    <tr>\n",
       "      <th>2019-12-29 19:00:00</th>\n",
       "      <td>2.615235</td>\n",
       "    </tr>\n",
       "    <tr>\n",
       "      <th>2019-12-29 20:00:00</th>\n",
       "      <td>2.467918</td>\n",
       "    </tr>\n",
       "    <tr>\n",
       "      <th>2019-12-29 21:00:00</th>\n",
       "      <td>2.215293</td>\n",
       "    </tr>\n",
       "    <tr>\n",
       "      <th>2019-12-29 22:00:00</th>\n",
       "      <td>1.902560</td>\n",
       "    </tr>\n",
       "    <tr>\n",
       "      <th>2019-12-29 23:00:00</th>\n",
       "      <td>1.496784</td>\n",
       "    </tr>\n",
       "  </tbody>\n",
       "</table>\n",
       "<p>8736 rows × 1 columns</p>\n",
       "</div>"
      ],
      "text/plain": [
       "                     domestic\n",
       "2018-12-31 00:00:00  1.104106\n",
       "2018-12-31 01:00:00  0.757051\n",
       "2018-12-31 02:00:00  0.480466\n",
       "2018-12-31 03:00:00  0.312261\n",
       "2018-12-31 04:00:00  0.221872\n",
       "...                       ...\n",
       "2019-12-29 19:00:00  2.615235\n",
       "2019-12-29 20:00:00  2.467918\n",
       "2019-12-29 21:00:00  2.215293\n",
       "2019-12-29 22:00:00  1.902560\n",
       "2019-12-29 23:00:00  1.496784\n",
       "\n",
       "[8736 rows x 1 columns]"
      ]
     },
     "execution_count": 189,
     "metadata": {},
     "output_type": "execute_result"
    }
   ],
   "source": [
    "get_ev_loads('domestic',0.2,'2019-01-01',10)"
   ]
  },
  {
   "cell_type": "code",
   "execution_count": 51,
   "metadata": {},
   "outputs": [],
   "source": [
    "get_ev_profile(\n",
    "    1,WEEKEND_TO_WEEKDAY_CHARGING_RATIO,\n",
    "    START_DATE,NUM_CHARGING_POINTS).to_pickle('~/Downloads/ev_load.pkl')"
   ]
  },
  {
   "cell_type": "code",
   "execution_count": null,
   "metadata": {},
   "outputs": [],
   "source": []
  },
  {
   "cell_type": "code",
   "execution_count": null,
   "metadata": {},
   "outputs": [],
   "source": []
  },
  {
   "cell_type": "code",
   "execution_count": null,
   "metadata": {},
   "outputs": [],
   "source": []
  },
  {
   "cell_type": "code",
   "execution_count": null,
   "metadata": {},
   "outputs": [],
   "source": []
  }
 ],
 "metadata": {
  "kernelspec": {
   "display_name": "Python 3",
   "language": "python",
   "name": "python3"
  },
  "language_info": {
   "codemirror_mode": {
    "name": "ipython",
    "version": 3
   },
   "file_extension": ".py",
   "mimetype": "text/x-python",
   "name": "python",
   "nbconvert_exporter": "python",
   "pygments_lexer": "ipython3",
   "version": "3.6.5"
  }
 },
 "nbformat": 4,
 "nbformat_minor": 4
}
