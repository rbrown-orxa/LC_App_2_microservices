{
 "cells": [
  {
   "cell_type": "code",
   "execution_count": 1,
   "metadata": {
    "ExecuteTime": {
     "end_time": "2020-05-12T17:31:42.899098Z",
     "start_time": "2020-05-12T17:31:41.773556Z"
    }
   },
   "outputs": [],
   "source": [
    "import pandas as pd\n",
    "import datetime\n",
    "import numpy as np\n",
    "import csv\n",
    "import re\n",
    "import statistics\n",
    "import dateutil\n",
    "import os\n",
    "from datetime import timedelta\n",
    "try:\n",
    "    from tkinter.filedialog import askopenfilename\n",
    "except:\n",
    "    pass"
   ]
  },
  {
   "cell_type": "code",
   "execution_count": 6,
   "metadata": {
    "ExecuteTime": {
     "end_time": "2020-05-12T17:31:57.464844Z",
     "start_time": "2020-05-12T17:31:57.460595Z"
    }
   },
   "outputs": [],
   "source": [
    "import nbimporter\n",
    "from get_schema import make_schema, time_periodic"
   ]
  },
  {
   "cell_type": "code",
   "execution_count": 3,
   "metadata": {
    "ExecuteTime": {
     "end_time": "2020-05-12T11:05:47.460723Z",
     "start_time": "2020-05-12T11:05:47.456253Z"
    }
   },
   "outputs": [],
   "source": [
    "def make_df(path, schema):\n",
    "    s = schema\n",
    "\n",
    "    df = (\n",
    "    pd.read_csv(path,\n",
    "                skiprows=s['skiprows'],\n",
    "                header=s['header'])\n",
    "         .drop(columns=s['skipcolumns'])\n",
    "    )\n",
    "    \n",
    "    return df"
   ]
  },
  {
   "cell_type": "code",
   "execution_count": 4,
   "metadata": {
    "ExecuteTime": {
     "end_time": "2020-05-12T11:05:47.479062Z",
     "start_time": "2020-05-12T11:05:47.466189Z"
    }
   },
   "outputs": [],
   "source": [
    "def num_rpd_periods(df, schema):\n",
    "    if not schema['file_format'] == 'row_per_day':\n",
    "        return None\n",
    "    periods = list(df.drop(columns=[schema['date_column']]).columns)\n",
    "    try:\n",
    "        periods = [int(period) for period in periods]\n",
    "    except:\n",
    "        return None\n",
    "    return len(set(periods))"
   ]
  },
  {
   "cell_type": "code",
   "execution_count": 5,
   "metadata": {
    "ExecuteTime": {
     "end_time": "2020-05-12T11:05:47.498550Z",
     "start_time": "2020-05-12T11:05:47.484233Z"
    }
   },
   "outputs": [],
   "source": [
    "def wide_to_long(df, schema):\n",
    "    if not schema['file_format'] == 'row_per_day':\n",
    "        return df, schema\n",
    "    df = df.melt(id_vars = schema['date_column'],\n",
    "            var_name = 'time',\n",
    "            value_name = 'reading')\n",
    "    try:\n",
    "        df['time'] = df['time'].astype(int)\n",
    "    except:\n",
    "        pass\n",
    "#     schema['skiprows'] = []\n",
    "#     schema['skipcolumns'] = []    \n",
    "    schema['time_column'] = 'time'\n",
    "    schema['file_format'] = 'single_column'\n",
    "    schema['time_periodic'] = time_periodic(df, [], 'time')\n",
    "    return df, schema"
   ]
  },
  {
   "cell_type": "code",
   "execution_count": 6,
   "metadata": {
    "ExecuteTime": {
     "end_time": "2020-05-12T11:05:47.511252Z",
     "start_time": "2020-05-12T11:05:47.502188Z"
    }
   },
   "outputs": [],
   "source": [
    "def periodic_df(df, schema):\n",
    "    s = schema\n",
    "    if not all( [\n",
    "        s['time_column'],\n",
    "        s['time_periodic'],\n",
    "        s['date_column']\n",
    "    ] ):\n",
    "        return df, s\n",
    "    \n",
    "    period = timedelta(hours=24) / s['time_periodic']\n",
    "    df[s['time_column']] = df[s['time_column']] * period   \n",
    "    \n",
    "    s['time_periodic'] = None\n",
    "        \n",
    "    return df, s"
   ]
  },
  {
   "cell_type": "code",
   "execution_count": 7,
   "metadata": {
    "ExecuteTime": {
     "end_time": "2020-05-12T11:05:47.524491Z",
     "start_time": "2020-05-12T11:05:47.514551Z"
    }
   },
   "outputs": [],
   "source": [
    "def convert_times(df, schema):\n",
    "    s = schema\n",
    "    \n",
    "    if not s['time_column']:\n",
    "        return df, s\n",
    "    \n",
    "    if s['time_periodic']:\n",
    "        return df, s\n",
    "    \n",
    "    try:\n",
    "        timedelta = (\n",
    "            pd.to_datetime(df[s['time_column']]) \n",
    "            - pd.to_datetime('00:00:00') )\n",
    "\n",
    "        df[s['time_column']] = timedelta\n",
    "    except:\n",
    "        pass\n",
    "    \n",
    "    return df, s"
   ]
  },
  {
   "cell_type": "code",
   "execution_count": 8,
   "metadata": {
    "ExecuteTime": {
     "end_time": "2020-05-12T11:05:47.545902Z",
     "start_time": "2020-05-12T11:05:47.532998Z"
    }
   },
   "outputs": [],
   "source": [
    "def convert_dates(df, schema):\n",
    "    s = schema\n",
    "    \n",
    "    def try_parse_date(col):\n",
    "        chars = [' ', '-', '_', '/', '#']\n",
    "        for char in chars:\n",
    "            dfc = df.copy()\n",
    "            dfc[col] = dfc[col].str.split(char).str.join(' ')\n",
    "            try:\n",
    "                dfc[col] = pd.to_datetime(dfc[col])\n",
    "                return dfc\n",
    "            except:\n",
    "                pass\n",
    "        return df\n",
    "        \n",
    "        \n",
    "    \n",
    "    if s['datetime_column']:\n",
    "        df = try_parse_date(s['datetime_column'])\n",
    "        \n",
    "    elif s['date_column'] and s['time_column']:\n",
    "        df = try_parse_date(s['date_column'])\n",
    "\n",
    "        df['datetime'] = (\n",
    "            df[s['date_column']] + df[s['time_column']]\n",
    "        )\n",
    "        s['datetime_column'] = 'datetime'\n",
    "        \n",
    "    cols_to_drop = []\n",
    "    if s['date_column']:\n",
    "        cols_to_drop.append(s['date_column'])\n",
    "    if s['time_column']:\n",
    "        cols_to_drop.append(s['time_column'])\n",
    "    if cols_to_drop:\n",
    "        df = df.drop(columns=cols_to_drop)\n",
    "\n",
    "    s['date_column'] = None\n",
    "    s['time_column'] = None\n",
    "    df = df.set_index(s['datetime_column'])  \n",
    "    \n",
    "    df = df.sort_index()\n",
    "\n",
    "    return df, s"
   ]
  },
  {
   "cell_type": "code",
   "execution_count": 9,
   "metadata": {
    "ExecuteTime": {
     "end_time": "2020-05-12T11:05:47.561705Z",
     "start_time": "2020-05-12T11:05:47.554121Z"
    }
   },
   "outputs": [],
   "source": [
    "def sum_phases(df, schema):\n",
    "    s = schema\n",
    "    rv = df.sum(axis=1).to_frame(name=s['units'])\n",
    "    return rv"
   ]
  },
  {
   "cell_type": "code",
   "execution_count": 10,
   "metadata": {
    "ExecuteTime": {
     "end_time": "2020-05-12T11:05:47.574005Z",
     "start_time": "2020-05-12T11:05:47.565428Z"
    }
   },
   "outputs": [],
   "source": [
    "def apply_schema(path):\n",
    "    s = make_schema(path)\n",
    "    df = make_df(path, s)\n",
    "    df, s = wide_to_long(df, s)\n",
    "    df, s = periodic_df(df, s)\n",
    "    df, s = convert_times(df, s)\n",
    "    df, s = convert_dates(df, s)\n",
    "    df = sum_phases(df, s)\n",
    "    return df, s"
   ]
  },
  {
   "cell_type": "code",
   "execution_count": null,
   "metadata": {},
   "outputs": [],
   "source": []
  },
  {
   "cell_type": "code",
   "execution_count": null,
   "metadata": {},
   "outputs": [],
   "source": []
  },
  {
   "cell_type": "code",
   "execution_count": null,
   "metadata": {},
   "outputs": [],
   "source": []
  },
  {
   "cell_type": "code",
   "execution_count": null,
   "metadata": {},
   "outputs": [],
   "source": []
  },
  {
   "cell_type": "code",
   "execution_count": null,
   "metadata": {},
   "outputs": [],
   "source": []
  },
  {
   "cell_type": "code",
   "execution_count": null,
   "metadata": {},
   "outputs": [],
   "source": []
  },
  {
   "cell_type": "code",
   "execution_count": null,
   "metadata": {},
   "outputs": [],
   "source": []
  },
  {
   "cell_type": "markdown",
   "metadata": {},
   "source": [
    "## Tests"
   ]
  },
  {
   "cell_type": "code",
   "execution_count": 15,
   "metadata": {
    "ExecuteTime": {
     "end_time": "2020-05-12T13:58:16.610512Z",
     "start_time": "2020-05-12T13:58:11.232101Z"
    }
   },
   "outputs": [
    {
     "data": {
      "text/plain": [
       "'/Users/robertbrown/orxa/solarpv/test_input_files/row_per_day_periods.csv'"
      ]
     },
     "execution_count": 15,
     "metadata": {},
     "output_type": "execute_result"
    }
   ],
   "source": [
    "path = askopenfilename(initialdir='../..')\n",
    "path"
   ]
  },
  {
   "cell_type": "code",
   "execution_count": 16,
   "metadata": {
    "ExecuteTime": {
     "end_time": "2020-05-12T13:58:22.611955Z",
     "start_time": "2020-05-12T13:58:19.345012Z"
    }
   },
   "outputs": [],
   "source": [
    "df, schema = apply_schema(path)"
   ]
  },
  {
   "cell_type": "code",
   "execution_count": 19,
   "metadata": {
    "ExecuteTime": {
     "end_time": "2020-05-12T13:59:10.406334Z",
     "start_time": "2020-05-12T13:59:10.375617Z"
    }
   },
   "outputs": [
    {
     "data": {
      "text/plain": [
       "{'skiprows': [0, 1],\n",
       " 'skipcolumns': ['Total'],\n",
       " 'date_column': None,\n",
       " 'datetime_column': 'datetime',\n",
       " 'file_format': 'single_column',\n",
       " 'units': 'kWh',\n",
       " 'header': 0,\n",
       " 'time_column': None,\n",
       " 'time_periodic': None}"
      ]
     },
     "execution_count": 19,
     "metadata": {},
     "output_type": "execute_result"
    }
   ],
   "source": [
    "schema"
   ]
  },
  {
   "cell_type": "code",
   "execution_count": 18,
   "metadata": {
    "ExecuteTime": {
     "end_time": "2020-05-12T13:58:29.966984Z",
     "start_time": "2020-05-12T13:58:29.917340Z"
    }
   },
   "outputs": [
    {
     "data": {
      "text/html": [
       "<div>\n",
       "<style scoped>\n",
       "    .dataframe tbody tr th:only-of-type {\n",
       "        vertical-align: middle;\n",
       "    }\n",
       "\n",
       "    .dataframe tbody tr th {\n",
       "        vertical-align: top;\n",
       "    }\n",
       "\n",
       "    .dataframe thead th {\n",
       "        text-align: right;\n",
       "    }\n",
       "</style>\n",
       "<table border=\"1\" class=\"dataframe\">\n",
       "  <thead>\n",
       "    <tr style=\"text-align: right;\">\n",
       "      <th></th>\n",
       "      <th>kWh</th>\n",
       "    </tr>\n",
       "    <tr>\n",
       "      <th>datetime</th>\n",
       "      <th></th>\n",
       "    </tr>\n",
       "  </thead>\n",
       "  <tbody>\n",
       "    <tr>\n",
       "      <th>2018-01-01 00:30:00</th>\n",
       "      <td>62.0</td>\n",
       "    </tr>\n",
       "    <tr>\n",
       "      <th>2018-01-01 01:00:00</th>\n",
       "      <td>79.8</td>\n",
       "    </tr>\n",
       "    <tr>\n",
       "      <th>2018-01-01 01:30:00</th>\n",
       "      <td>68.5</td>\n",
       "    </tr>\n",
       "    <tr>\n",
       "      <th>2018-01-01 02:00:00</th>\n",
       "      <td>50.2</td>\n",
       "    </tr>\n",
       "    <tr>\n",
       "      <th>2018-01-01 02:30:00</th>\n",
       "      <td>48.4</td>\n",
       "    </tr>\n",
       "    <tr>\n",
       "      <th>...</th>\n",
       "      <td>...</td>\n",
       "    </tr>\n",
       "    <tr>\n",
       "      <th>2018-12-31 22:00:00</th>\n",
       "      <td>33.6</td>\n",
       "    </tr>\n",
       "    <tr>\n",
       "      <th>2018-12-31 22:30:00</th>\n",
       "      <td>90.7</td>\n",
       "    </tr>\n",
       "    <tr>\n",
       "      <th>2018-12-31 23:00:00</th>\n",
       "      <td>80.1</td>\n",
       "    </tr>\n",
       "    <tr>\n",
       "      <th>2018-12-31 23:30:00</th>\n",
       "      <td>85.7</td>\n",
       "    </tr>\n",
       "    <tr>\n",
       "      <th>2019-01-01 00:00:00</th>\n",
       "      <td>66.1</td>\n",
       "    </tr>\n",
       "  </tbody>\n",
       "</table>\n",
       "<p>17520 rows × 1 columns</p>\n",
       "</div>"
      ],
      "text/plain": [
       "                      kWh\n",
       "datetime                 \n",
       "2018-01-01 00:30:00  62.0\n",
       "2018-01-01 01:00:00  79.8\n",
       "2018-01-01 01:30:00  68.5\n",
       "2018-01-01 02:00:00  50.2\n",
       "2018-01-01 02:30:00  48.4\n",
       "...                   ...\n",
       "2018-12-31 22:00:00  33.6\n",
       "2018-12-31 22:30:00  90.7\n",
       "2018-12-31 23:00:00  80.1\n",
       "2018-12-31 23:30:00  85.7\n",
       "2019-01-01 00:00:00  66.1\n",
       "\n",
       "[17520 rows x 1 columns]"
      ]
     },
     "execution_count": 18,
     "metadata": {},
     "output_type": "execute_result"
    }
   ],
   "source": [
    "df"
   ]
  },
  {
   "cell_type": "code",
   "execution_count": null,
   "metadata": {},
   "outputs": [],
   "source": []
  },
  {
   "cell_type": "code",
   "execution_count": null,
   "metadata": {},
   "outputs": [],
   "source": []
  },
  {
   "cell_type": "code",
   "execution_count": null,
   "metadata": {},
   "outputs": [],
   "source": []
  }
 ],
 "metadata": {
  "kernelspec": {
   "display_name": "Python 3",
   "language": "python",
   "name": "python3"
  },
  "language_info": {
   "codemirror_mode": {
    "name": "ipython",
    "version": 3
   },
   "file_extension": ".py",
   "mimetype": "text/x-python",
   "name": "python",
   "nbconvert_exporter": "python",
   "pygments_lexer": "ipython3",
   "version": "3.7.6"
  }
 },
 "nbformat": 4,
 "nbformat_minor": 4
}
