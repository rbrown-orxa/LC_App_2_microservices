{
 "cells": [
  {
   "cell_type": "markdown",
   "metadata": {},
   "source": [
    "# Calculation of new load profile: base load + EV load"
   ]
  },
  {
   "cell_type": "code",
   "execution_count": null,
   "metadata": {},
   "outputs": [],
   "source": [
    "#import notebook\n",
    "import nbimporter\n",
    "import load_allocation\n",
    "import EV_profile as ev"
   ]
  },
  {
   "cell_type": "code",
   "execution_count": null,
   "metadata": {},
   "outputs": [],
   "source": []
  },
  {
   "cell_type": "markdown",
   "metadata": {},
   "source": [
    "# Functions"
   ]
  },
  {
   "cell_type": "code",
   "execution_count": null,
   "metadata": {},
   "outputs": [],
   "source": [
    "def sum_of_base_load_and_ev_load(request,method=\"aggr\"):\n",
    "    \"\"\"\n",
    "    Sum base load optimised for each building based on the PV size and ev load for each building\n",
    "    request: the dict-like request object passed by Flask\n",
    "    method: String with value 1) aggr: Optimisation by aggregated load 2) roofeff: optimisation by roof efficiency\n",
    "    Returns: sum of aggregated loads\n",
    "    \n",
    "    \"\"\"\n",
    "    \n",
    "    \n",
    "    if method == \"aggr\":\n",
    "        optimal_size,base_load,building_type,no_of_charge_points = load_allocation.pv_aggregated_load_profile_optimiser(request)\n",
    "    else:\n",
    "        optimal_size,base_load,building_type,no_of_charge_points = load_allocation.pv_allocate_size_by_roof_eff_optimiser(request)\n",
    "    aggr_load_kw = []\n",
    "    for load, charge_points in zip(base_load, no_of_charge_points):\n",
    "        start_date = load.sort_index(ascending=True).index[0].date()\n",
    "        ev_load = ev.EV_profile(building_type,0.2,start_date,charge_points)\n",
    "        tmp_aggr_load = load.add(ev_load,fill_value=0)\n",
    "        aggr_load_kw.append(tmp_aggr_load)\n",
    "    return(aggr_load_kw)    "
   ]
  },
  {
   "cell_type": "code",
   "execution_count": null,
   "metadata": {},
   "outputs": [],
   "source": []
  },
  {
   "cell_type": "code",
   "execution_count": null,
   "metadata": {},
   "outputs": [],
   "source": []
  },
  {
   "cell_type": "code",
   "execution_count": null,
   "metadata": {},
   "outputs": [],
   "source": []
  }
 ],
 "metadata": {
  "kernelspec": {
   "display_name": "Python 3",
   "language": "python",
   "name": "python3"
  },
  "language_info": {
   "codemirror_mode": {
    "name": "ipython",
    "version": 3
   },
   "file_extension": ".py",
   "mimetype": "text/x-python",
   "name": "python",
   "nbconvert_exporter": "python",
   "pygments_lexer": "ipython3",
   "version": "3.6.5"
  }
 },
 "nbformat": 4,
 "nbformat_minor": 4
}
