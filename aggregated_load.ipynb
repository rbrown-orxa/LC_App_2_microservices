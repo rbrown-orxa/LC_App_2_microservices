{
 "cells": [
  {
   "cell_type": "markdown",
   "metadata": {},
   "source": [
    "# Calculation of new load profile: base load + EV load"
   ]
  },
  {
   "cell_type": "code",
   "execution_count": null,
   "metadata": {},
   "outputs": [],
   "source": [
    "#import notebook\n",
    "import nbimporter\n",
    "import load_allocation\n",
    "import ev_profile\n",
    "import pv_optimiser"
   ]
  },
  {
   "cell_type": "code",
   "execution_count": null,
   "metadata": {},
   "outputs": [],
   "source": []
  },
  {
   "cell_type": "markdown",
   "metadata": {},
   "source": [
    "# Functions"
   ]
  },
  {
   "cell_type": "code",
   "execution_count": null,
   "metadata": {},
   "outputs": [],
   "source": [
    "def optimise_aggregated_load(req,method=\"aggr\"):\n",
    "    \"\"\"\n",
    "    Sum base load optimised for each building based on the PV size and aggregate base load with ev load for each building\n",
    "    request: the dict-like request object passed by Flask\n",
    "    method: String with value 1) aggr: Optimisation by aggregated load 2) roofeff: optimisation by roof efficiency\n",
    "    Returns: sum of aggregated loads\n",
    "    \n",
    "    \"\"\"\n",
    "    \n",
    "    fixed_fields = ['lon', 'lat', 'cost_per_kWp', 'import_cost', 'export_price','expected_life_yrs']\n",
    "    variable_fields = ['roof_size_m2', 'azimuth', 'roofpitch']\n",
    "    \n",
    "    #Initialise form data\n",
    "    form_data = {}\n",
    "    \n",
    "    #Get form data dictionary items\n",
    "    form_data = load_allocation.get_form_data(req,fixed_fields,variable_fields)\n",
    "    \n",
    "    if method == \"aggr\":\n",
    "        optimal_size,base_load,building_type,no_of_charge_points = load_allocation.pv_aggregated_load_profile_optimiser(req)\n",
    "    else:\n",
    "        optimal_size,base_load,building_type,no_of_charge_points = load_allocation.pv_allocate_size_by_roof_eff_optimiser(req)\n",
    "    aggr_load_kw = []\n",
    "    \n",
    "    for load, charge_points in zip(base_load, no_of_charge_points):\n",
    "        start_date = load.sort_index(ascending=True).index[0].date()\n",
    "        ev_load = ev_profile.get_ev_profile(building_type,0.2,start_date,charge_points)\n",
    "        tmp_aggr_load = load.add(ev_load,fill_value=0)\n",
    "        aggr_load_kw.append(tmp_aggr_load)\n",
    "      \n",
    "    #Optimse aggregated load\n",
    "    \n",
    "    #Get generation for 1Kw\n",
    "    generation_1kw = _generation_1kw(aggr_load_kw,form_data)\n",
    "    \n",
    "    #Get optimsed PV size\n",
    "    optimal_size = _optimise_pv_size(generation_1kw,aggr_load_kw,form_data)\n",
    "    \n",
    "    return(optimal_size,aggr_load_kw)    "
   ]
  },
  {
   "cell_type": "markdown",
   "metadata": {},
   "source": [
    "# Helper Functions"
   ]
  },
  {
   "cell_type": "code",
   "execution_count": null,
   "metadata": {},
   "outputs": [],
   "source": [
    "def _generation_1kw(aggr_load,form_data):\n",
    "    \n",
    "    \"\"\"\n",
    "    Generation 1Kw based on the aggregated load\n",
    "    form_data: the dict-like data processed from request\n",
    "    aggr_load: list of Sum of base load and aggregated load\n",
    "    Returns: Generation 1kw\n",
    "    \n",
    "    \"\"\"\n",
    "    \n",
    "    #Get lat/lon\n",
    "    lat, lon = float(form_data['lat']), float(form_data['lon'])\n",
    "    \n",
    "    #Get list of roof size, roof pitch, azimuth\n",
    "    roof_size_m2, roofpitch, azimuth = ( form_data['roof_size_m2'].copy(),\n",
    "                                        form_data['roofpitch'].copy(),\n",
    "                                        form_data['azimuth'].copy() )\n",
    "    generation_1kw = [] # list of df\n",
    "    \n",
    "    for load, roofpitch, azim in zip(aggr_load, roofpitch, azimuth): \n",
    "        tmp_gen = pv_optimiser.generation_1kw(lat, lon, load, roofpitch, azimuth=azim)\n",
    "        generation_1kw.append(tmp_gen) # list of df\n",
    "        \n",
    "    return(generation_1kw)"
   ]
  },
  {
   "cell_type": "code",
   "execution_count": null,
   "metadata": {},
   "outputs": [],
   "source": [
    "def _optimise_pv_size(generation_1kw,aggr_load,form_data):\n",
    "    \n",
    "    \"\"\"\n",
    "    optimise PV size based on the aggregated load\n",
    "    \n",
    "    generation_1kw: hourly generation in kWh per kWp installed capacity\n",
    "    form_data: the dict-like data processed from request\n",
    "    aggr_load: list of Sum of base load and aggregated load\n",
    "    Returns: Generation 1kw\n",
    "    \n",
    "    \"\"\"\n",
    "    \n",
    "    cost_per_kWp = float(form_data['cost_per_kWp'])\n",
    "    import_cost = float(form_data['import_cost'])\n",
    "    export_price = float(form_data['export_price'])\n",
    "    expected_life_yrs = float(form_data['expected_life_yrs'])\n",
    "    panel_efficiency = 0.18 # https://www.solar.com/learn/solar-panel-efficiency/\n",
    "    \n",
    "    roof_size_m2 = form_data['roof_size_m2'].copy()\n",
    "\n",
    "    optimal_size = []\n",
    "\n",
    "    # for index in range(num):\n",
    "    for gen_1_kw, load_kw, roof_size_m2 in zip(\n",
    "            generation_1kw, aggr_load, roof_size_m2):\n",
    "        df_cost_curve = pv_optimiser.cost_curve(\n",
    "                                generation_1kw=gen_1_kw,\n",
    "                                load_kwh=load_kw,\n",
    "                                cost_per_kWp=cost_per_kWp,\n",
    "                                import_cost=import_cost,\n",
    "                                export_price=export_price,\n",
    "                                expected_life_yrs=expected_life_yrs,\n",
    "                                roof_size_kw=roof_size_m2 * panel_efficiency)\n",
    "\n",
    "        tmp_opt_size, optimal_revenue = pv_optimiser.optimise(df_cost_curve) #float, float        \n",
    "        optimal_size.append(tmp_opt_size)  \n",
    "    \n",
    "    return(optimal_size)"
   ]
  },
  {
   "cell_type": "code",
   "execution_count": null,
   "metadata": {},
   "outputs": [],
   "source": []
  },
  {
   "cell_type": "code",
   "execution_count": null,
   "metadata": {},
   "outputs": [],
   "source": []
  },
  {
   "cell_type": "code",
   "execution_count": null,
   "metadata": {},
   "outputs": [],
   "source": []
  }
 ],
 "metadata": {
  "kernelspec": {
   "display_name": "Python 3",
   "language": "python",
   "name": "python3"
  },
  "language_info": {
   "codemirror_mode": {
    "name": "ipython",
    "version": 3
   },
   "file_extension": ".py",
   "mimetype": "text/x-python",
   "name": "python",
   "nbconvert_exporter": "python",
   "pygments_lexer": "ipython3",
   "version": "3.6.5"
  }
 },
 "nbformat": 4,
 "nbformat_minor": 4
}
