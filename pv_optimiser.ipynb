{
 "cells": [
  {
   "cell_type": "markdown",
   "metadata": {},
   "source": [
    "# Algorithm for optimal sizing of a Solar PV plant to maximise annual profit"
   ]
  },
  {
   "cell_type": "markdown",
   "metadata": {},
   "source": [
    "# TODO:"
   ]
  },
  {
   "cell_type": "markdown",
   "metadata": {},
   "source": [
    "#### ~~Get start date from raw data and pass into generation prediction~~\n",
    "#### ~~Use floating point range for optimisation iterator~~\n",
    "#### ~~Coerce prediction range to a previous year if that maxmimises the days of prediction (aim for 365)~~\n",
    "#### ~~Find the optimal value of kWp~~\n",
    "#### ~~Calculate range for iteration of cost_pa curve from load profile or implement hill climbing algorithm~~\n",
    "#### Localise timestamp according to lat lon\n",
    "#### Assert that full year of input data is present\n",
    "#### Improve kW and kWh calculation from input data when resampling\n",
    "#### Update test input files to have realistic loads instead of random\n",
    "#### Handle unknown units\n",
    "#### ~~Web dashboard for user to input parameters and upload load file~~"
   ]
  },
  {
   "cell_type": "markdown",
   "metadata": {},
   "source": [
    "# User Data Entry"
   ]
  },
  {
   "cell_type": "markdown",
   "metadata": {},
   "source": [
    "# Imports"
   ]
  },
  {
   "cell_type": "code",
   "execution_count": null,
   "metadata": {
    "ExecuteTime": {
     "end_time": "2020-05-13T17:02:28.253492Z",
     "start_time": "2020-05-13T17:02:25.946943Z"
    }
   },
   "outputs": [],
   "source": [
    "import pandas as pd\n",
    "import requests\n",
    "import json\n",
    "from dateutil import parser\n",
    "from dateutil.relativedelta import relativedelta\n",
    "from datetime import datetime\n",
    "import matplotlib.pyplot as plt\n",
    "import json\n",
    "import matplotlib\n",
    "\n",
    "try:\n",
    "    from tkinter.filedialog import askopenfilename\n",
    "except:\n",
    "    pass\n",
    "\n",
    "import html2text\n",
    "import warnings\n",
    "from timezonefinder import TimezoneFinder"
   ]
  },
  {
   "cell_type": "markdown",
   "metadata": {
    "ExecuteTime": {
     "end_time": "2020-04-21T19:13:59.028768Z",
     "start_time": "2020-04-21T19:13:59.023731Z"
    }
   },
   "source": [
    "import warnings\n",
    "warnings.simplefilter('error', RuntimeWarning)"
   ]
  },
  {
   "cell_type": "code",
   "execution_count": null,
   "metadata": {
    "ExecuteTime": {
     "end_time": "2020-05-13T16:43:47.549425Z",
     "start_time": "2020-05-13T16:43:47.445367Z"
    }
   },
   "outputs": [],
   "source": [
    "import nbimporter\n",
    "from use_schema import apply_schema"
   ]
  },
  {
   "cell_type": "code",
   "execution_count": null,
   "metadata": {
    "ExecuteTime": {
     "end_time": "2020-05-13T16:43:48.992946Z",
     "start_time": "2020-05-13T16:43:48.988807Z"
    }
   },
   "outputs": [],
   "source": [
    "%matplotlib inline"
   ]
  },
  {
   "cell_type": "markdown",
   "metadata": {},
   "source": [
    "# Functions"
   ]
  },
  {
   "cell_type": "code",
   "execution_count": null,
   "metadata": {
    "ExecuteTime": {
     "end_time": "2020-05-13T17:32:43.653850Z",
     "start_time": "2020-05-13T17:32:43.641578Z"
    }
   },
   "outputs": [],
   "source": [
    "def csv_file_import(path, lat, lon):\n",
    "    df, schema = apply_schema(path)\n",
    "    units = schema['units']\n",
    "\n",
    "\n",
    "    print(f'Lat: {lat}, Lon: {lon}')\n",
    "    tf = TimezoneFinder()\n",
    "    timezone_str = tf.timezone_at(lat=lat, lng=lon)\n",
    "    assert timezone_str\n",
    "    print(f'Timezone: {timezone_str}')\n",
    "    \n",
    "    # convert local time to UTC\n",
    "    df = (df.tz_localize(\n",
    "                    timezone_str,\n",
    "                    ambiguous='NaT',\n",
    "                    nonexistent='shift_forward') #add local offset\n",
    "    #add local offset\n",
    "                .tz_convert('UTC') #convert to UTC offset\n",
    "                .tz_localize(\n",
    "                    tz=None,\n",
    "                    ambiguous='infer',\n",
    "                    nonexistent='shift_forward'\n",
    "                    )) #remove offset\n",
    "    return df, units"
   ]
  },
  {
   "cell_type": "code",
   "execution_count": null,
   "metadata": {
    "ExecuteTime": {
     "end_time": "2020-05-12T14:10:04.428476Z",
     "start_time": "2020-05-12T14:10:04.404541Z"
    }
   },
   "outputs": [],
   "source": [
    "#Scope factory coordinates: 18.640976, 73.833332\n",
    "def generation_1kw(lat=None, lon=None, load=None, roofpitch=None, start_date='', azimuth=None):\n",
    "    \"\"\"\n",
    "    Get the hourly solar generation timeseries for a grid location, up to one year from start date.\n",
    "    Return hourly generation in kWh per kWp installed capacity.\n",
    "    \n",
    "\n",
    "    \n",
    "    \"\"\"\n",
    "\n",
    "#     adjust azimuth for hemisphere\n",
    "#     adapted from\n",
    "#     https://github.com/renewables-ninja/gsee >> trigon.py >> line 196\n",
    "#     azimuth : Deviation of the tilt direction from the meridian.\n",
    "#     0 = towards pole, going clockwise, 180 = towards equator.\n",
    "    assert lat is not None\n",
    "    assert azimuth is not None\n",
    "#     if lat < 0: # location is in southern hemisphere\n",
    "#         azimuth = (azimuth + 180) % 360 # rotate 180 deg clockwise and limit to (0, 360)\n",
    "    \n",
    "    adjust_year = False\n",
    "#     if lat is None:\n",
    "#         print('Using default latitude of 0.0')\n",
    "#         lat = 0.0\n",
    "#     if lon is None:\n",
    "#         print('Using default longitude of 0.0')\n",
    "#         lon=0\n",
    "    assert load is not None or start_date, 'Either load dataframe or start date must be provided'\n",
    "    if load is not None:\n",
    "        start = load.sort_index(ascending=True).index[0].date()\n",
    "    else:\n",
    "        start = parser.parse(start_date).date()\n",
    "    latest_end_date = parser.parse('2019-12-31').date()\n",
    "    end = (start + relativedelta(years=1))\n",
    "    if end >= latest_end_date:\n",
    "        print(f'Maximum permissible end date is {latest_end_date}. Date range will be adjusted accordingly')\n",
    "        end = start\n",
    "        start = (start - relativedelta(years=1))\n",
    "        adjust_year = True\n",
    "    print('Date range:', start, ' - ',  end)\n",
    "    token = '38707fa2a8eb32d983c8fcf348fffd82fe2aa7aa'\n",
    "    api_base = 'https://www.renewables.ninja/api/'\n",
    "    s = requests.session()\n",
    "    s.headers = {'Authorization': 'Token ' + token}\n",
    "    url = api_base + 'data/pv'\n",
    "    args = {\n",
    "        'lat': lat,\n",
    "        'lon': lon,\n",
    "        'date_from': datetime.strftime(start, format='%Y-%m-%d'),\n",
    "        'date_to': datetime.strftime(end, format='%Y-%m-%d'),\n",
    "        'dataset': 'merra2',\n",
    "        'capacity': 1.0,\n",
    "        'system_loss': 0.1,\n",
    "        'tracking': 0,\n",
    "        'tilt': roofpitch,\n",
    "        'azim': azimuth,\n",
    "        'format': 'json',\n",
    "        'interpolate': False\n",
    "    }\n",
    "    print(args)\n",
    "    r = s.get(url, params=args)\n",
    "    print (r.status_code)\n",
    "    print(r.reason)\n",
    "    assert r.status_code == 200\n",
    "    parsed_response = json.loads(r.text)\n",
    "    generation = pd.read_json(json.dumps(parsed_response['data']), orient='index')\n",
    "    generation = generation.rename(columns={'electricity':'1kWp_generation_kw'})\n",
    "    if adjust_year: #roll the year of index forward by 1\n",
    "        generation = generation.reset_index()\n",
    "        generation['index'] =  generation['index'] + pd.DateOffset(years=1)\n",
    "        generation = generation.set_index('index')\n",
    "    generation = generation.resample('1h').sum() # convert kW to kWh\n",
    "    metadata = parsed_response['metadata']\n",
    "    print('Number of days in range: ', (end-start).days)\n",
    "    print(metadata)\n",
    "    print(f\"Generation for 1 kW: {generation['1kWp_generation_kw'].sum()}\")\n",
    "    return generation"
   ]
  },
  {
   "cell_type": "code",
   "execution_count": null,
   "metadata": {
    "ExecuteTime": {
     "end_time": "2020-05-12T14:10:04.464070Z",
     "start_time": "2020-05-12T14:10:04.435001Z"
    }
   },
   "outputs": [],
   "source": [
    "def cost_saved_pa(generation_1kw, load_kwh, capacity_kWp, cost_per_kWp, \n",
    "                  import_cost, export_price, expected_life_yrs,\n",
    "                  verbose=False, return_raw_data=False):\n",
    "    \"\"\"load must be a dataframe with 1 column, naive timestamp index in utc timzone\n",
    "    and sampled at 1 hour in kWh. Generation input should be hourly in kWh per kWp.\"\"\"\n",
    "    import pandas as pd\n",
    "    load = load_kwh.rename(columns={load_kwh.columns[0]:'load_kWh'})\n",
    "    if not isinstance(generation_1kw, pd.DataFrame):\n",
    "        print(type(generation_1kw))\n",
    "        input('Press any key')\n",
    "    generation_1kw = generation_1kw.rename(columns={generation_1kw.columns[0]:'1kWp_generation_kWh'})\n",
    "    generation = generation_1kw * capacity_kWp\n",
    "    df = generation.merge(load, how='inner', left_index=True, right_index=True)\n",
    "    days = (df.index[-1] - df.index[0]).days\n",
    "    confidence = days/365\n",
    "    df['import_kWh'] = (df['load_kWh'] - df['1kWp_generation_kWh']).clip(lower=0)\n",
    "    df['export_kWh'] = (df['load_kWh'] - df['1kWp_generation_kWh']).clip(upper=0)\n",
    "    df = df.rename(columns={'1kWp_generation_kWh':f'{round(capacity_kWp,2)}_1kWp_generation_kWh'})\n",
    "    if return_raw_data:\n",
    "        return df\n",
    "    df['export_kWh'] = df['export_kWh'].abs()\n",
    "    \n",
    "    df = df.sum() # total kWh for the entire year\n",
    "\n",
    "    old_import_cost = import_cost*(df['load_kWh'])\n",
    "    new_import_cost = import_cost*(df['import_kWh'])\n",
    "    \n",
    "    import_cost_savings = old_import_cost - new_import_cost\n",
    "    \n",
    "    export_revenue = export_price * df['export_kWh']\n",
    "    install_cost = cost_per_kWp * capacity_kWp\n",
    "    amortized_install_cost = install_cost / expected_life_yrs\n",
    "    revenue_pa = import_cost_savings + export_revenue\n",
    "    total_revenue = revenue_pa * expected_life_yrs\n",
    "    profit_pa = import_cost_savings + export_revenue - amortized_install_cost\n",
    "    total_profit = profit_pa * expected_life_yrs\n",
    "    \n",
    "    if verbose:\n",
    "        ROI = 100 * (total_profit / install_cost)\n",
    "        payback_yrs = install_cost / revenue_pa\n",
    "        summary = {'old_import_cost':old_import_cost,\n",
    "                  'new_import_cost': new_import_cost,\n",
    "                  'import_cost_savings': import_cost_savings,\n",
    "                  'export_revenue': export_revenue,\n",
    "                   'install_cost': install_cost,\n",
    "                  'amortized_install_cost': amortized_install_cost,\n",
    "                   'revenue_pa': revenue_pa,\n",
    "                  'profit_pa': profit_pa,\n",
    "                   'total_revenue':total_revenue,\n",
    "                  'total_profit': total_profit,\n",
    "                  'ROI%': ROI,\n",
    "                  'payback_yrs': payback_yrs}\n",
    "        return summary\n",
    "    return profit_pa"
   ]
  },
  {
   "cell_type": "code",
   "execution_count": null,
   "metadata": {
    "ExecuteTime": {
     "end_time": "2020-05-12T14:10:04.479136Z",
     "start_time": "2020-05-12T14:10:04.468506Z"
    }
   },
   "outputs": [],
   "source": [
    "def cost_curve(generation_1kw, load_kwh, cost_per_kWp,\n",
    "              import_cost, export_price, \n",
    "              roof_size_kw, expected_life_yrs):\n",
    "    \n",
    "    curve = []\n",
    "    i = 0\n",
    "    size_kw=0\n",
    "    result = cost_saved_pa(generation_1kw, load_kwh,\n",
    "                                capacity_kWp = size_kw ,\n",
    "                                cost_per_kWp=cost_per_kWp, \n",
    "                                import_cost=import_cost, \n",
    "                                export_price=export_price,\n",
    "                                expected_life_yrs=expected_life_yrs)\n",
    "\n",
    "    \n",
    "    while result >= 0 and size_kw <= roof_size_kw:\n",
    "        prev_result = result\n",
    "        result = cost_saved_pa(generation_1kw, load_kwh,\n",
    "                                capacity_kWp = size_kw ,\n",
    "                                cost_per_kWp=cost_per_kWp, \n",
    "                                import_cost=import_cost, \n",
    "                                export_price=export_price,\n",
    "                                expected_life_yrs=expected_life_yrs)\n",
    "        diff = abs(result - prev_result)\n",
    "#         print(size_kw, result, diff)\n",
    "        curve.append((size_kw, result))\n",
    "        step = 1 / diff if diff > 1 else 1 #adaptive step size\n",
    "        size_kw += step\n",
    "        i += 1\n",
    "    rv = pd.DataFrame(curve, columns=['Size_kWp', 'Profit_PA']).set_index('Size_kWp')\n",
    "    print('Iterations: ', i)\n",
    "    return rv"
   ]
  },
  {
   "cell_type": "code",
   "execution_count": null,
   "metadata": {
    "ExecuteTime": {
     "end_time": "2020-05-12T14:10:04.493227Z",
     "start_time": "2020-05-12T14:10:04.486368Z"
    }
   },
   "outputs": [],
   "source": [
    "def optimise(cost_curve):\n",
    "#     cost_curve.plot()\n",
    "    optimal_size = float(cost_curve.idxmax())\n",
    "    optimal_revenue = float(cost_curve.max())\n",
    "#     print(optimal_size, optimal_revenue)\n",
    "    return optimal_size, optimal_revenue"
   ]
  },
  {
   "cell_type": "code",
   "execution_count": null,
   "metadata": {
    "ExecuteTime": {
     "end_time": "2020-05-12T14:10:04.511966Z",
     "start_time": "2020-05-12T14:10:04.503154Z"
    }
   },
   "outputs": [],
   "source": [
    "def plot_curve(cost_curve, optimal_size, optimal_revenue):\n",
    "#     cost_curve.plot(figsize=(15,3))\n",
    "    fig, ax = plt.subplots(figsize=(15,3))\n",
    "    df_cost_curve.plot(ax=ax)\n",
    "    plt.plot([optimal_size,optimal_size],[0,optimal_revenue],'k--', linestyle = \":\", lw=1) #[startx, endx],[starty, endy]\n",
    "    plt.plot([cost_curve.index[-1],0],[optimal_revenue,optimal_revenue],'k-', linestyle = \":\", lw=1) #[startx, endx],[starty, endy]\n",
    "    plt.show()"
   ]
  },
  {
   "cell_type": "code",
   "execution_count": null,
   "metadata": {
    "ExecuteTime": {
     "end_time": "2020-05-12T14:10:04.526103Z",
     "start_time": "2020-05-12T14:10:04.516034Z"
    }
   },
   "outputs": [],
   "source": [
    "def generate_report(generation, load, size, cost_per_kWp, import_cost,\n",
    "                    export_price, expected_life_yrs):\n",
    "    summary = {'optimal_size_kwp': size}\n",
    "    summary.update(cost_saved_pa(generation, load,\n",
    "                                capacity_kWp = size,\n",
    "                                cost_per_kWp=cost_per_kWp, \n",
    "                                import_cost=import_cost, \n",
    "                                export_price=export_price,\n",
    "                                expected_life_yrs=expected_life_yrs, \n",
    "                                verbose=True))\n",
    "    \n",
    "    \n",
    "    df = pd.DataFrame.from_dict(summary, orient='index', columns=['Value'])\n",
    "#     js = df.to_json()\n",
    "    return df"
   ]
  },
  {
   "cell_type": "code",
   "execution_count": null,
   "metadata": {
    "ExecuteTime": {
     "end_time": "2020-05-12T14:10:04.535251Z",
     "start_time": "2020-05-12T14:10:04.528729Z"
    }
   },
   "outputs": [],
   "source": [
    "def plot_loads(generation, load, size):\n",
    "    df = cost_saved_pa(generation, load,\n",
    "                                capacity_kWp = size,\n",
    "                                cost_per_kWp=cost_per_kWp, \n",
    "                                import_cost=import_cost, \n",
    "                                export_price=export_price,\n",
    "                                expected_life_yrs=expected_life_yrs,\n",
    "                      return_raw_data=True)#['20190401':'20190407']\n",
    "#     df.plot(figsize=(15,15), subplots=True)\n",
    "    df.plot(figsize=(15,5))"
   ]
  },
  {
   "cell_type": "code",
   "execution_count": null,
   "metadata": {
    "ExecuteTime": {
     "end_time": "2020-05-12T14:10:04.554853Z",
     "start_time": "2020-05-12T14:10:04.540607Z"
    }
   },
   "outputs": [],
   "source": [
    "def handle_units(load, units):\n",
    "    \"\"\"\n",
    "    Accept load in a range of units.\n",
    "    Return load in kWh, sampled at 1 hour\n",
    "    \"\"\"\n",
    "    multiplier = {'kW':10**3, 'kWh':10**3, 'MW':10*6, 'MWh':10**6, 'W':1}\n",
    "    \n",
    "    if not units in multiplier:\n",
    "        raise KeyError('Could not find units of power or energy')\n",
    "\n",
    "    load = (load * multiplier[units]) / 10**3 # load now in kW\n",
    "    \n",
    "    warnings.warn('Need to fix energy integration when resampling', RuntimeWarning)\n",
    "    \n",
    "    if 'h' not in units:\n",
    "        print('Need to integrate power to get energy')\n",
    "        load = load.resample('1h').mean()\n",
    "    else:\n",
    "        load = load.resample('1h').sum()\n",
    "        \n",
    "    return load.rename(columns={units:'kWh'})\n",
    "    "
   ]
  },
  {
   "cell_type": "code",
   "execution_count": null,
   "metadata": {
    "ExecuteTime": {
     "end_time": "2020-05-12T14:10:04.598151Z",
     "start_time": "2020-05-12T14:10:04.558332Z"
    }
   },
   "outputs": [],
   "source": [
    "def api(dict_input, files):\n",
    "    # dict_input = json.loads(json_input)\n",
    "    \n",
    "    for file in files:\n",
    "        assert file is not None\n",
    "        \n",
    "    \n",
    "    for k, v in dict_input.items():\n",
    "        assert v is not None\n",
    "\n",
    "    lat = float(dict_input['lat'])\n",
    "    lon = float(dict_input['lon'])\n",
    "    cost_per_kWp= float(dict_input['cost_per_kWp'])\n",
    "    import_cost=float(dict_input['import_cost'])\n",
    "    export_price=float(dict_input['export_price'])\n",
    "    expected_life_yrs=float(dict_input['expected_life_yrs'])\n",
    "    roof_size_m2=float(dict_input['roof_size_m2'])\n",
    "    azimuth=float(dict_input['azimuth'])\n",
    "    roofpitch=float(dict_input['roofpitch'])\n",
    "    \n",
    "#     roof_size_m2 = 50\n",
    "    panel_efficiency = 0.18 # https://www.solar.com/learn/solar-panel-efficiency/\n",
    "    roof_size_kw = roof_size_m2 * panel_efficiency # STC 1000 W/m^2 @ 25 deg C\n",
    "    \n",
    "    print(f'Maximum system size according to roof dimensions: {roof_size_kw} kWp')\n",
    "    \n",
    "    #Initialise dataframe\n",
    "    load_add = pd.DataFrame()\n",
    "    \n",
    "#   load = orxa_PDS_import(file)\n",
    "    for file in files:\n",
    "        load, units = csv_file_import(file, lat, lon)\n",
    "        load = handle_units(load, units)\n",
    "        load_add = load.add(load_add, fill_value=0)\n",
    "    \n",
    "    \n",
    "    print(f'Units: {units}')\n",
    "    \n",
    "    #load = handle_units(load, units)\n",
    "    \n",
    "    generation = generation_1kw(lat=lat, lon=lon, roofpitch=roofpitch, load=load_add, azimuth=azimuth)\n",
    "    \n",
    "    #cost curve\n",
    "    df_cost_curve = cost_curve(generation_1kw=generation,\n",
    "                                load_kwh=load_add,\n",
    "                                cost_per_kWp=cost_per_kWp,\n",
    "                                import_cost=import_cost,\n",
    "                                export_price=export_price,\n",
    "                                expected_life_yrs=expected_life_yrs,\n",
    "                                roof_size_kw=roof_size_kw)\n",
    "\n",
    "    optimal_size, optimal_revenue = optimise(df_cost_curve)\n",
    "    \n",
    "    #report\n",
    "    report = generate_report(generation, load_add, optimal_size, cost_per_kWp, \n",
    "                    import_cost, export_price, expected_life_yrs)\n",
    "    \n",
    "    #report_dict = report.to_dict()\n",
    "    #curve_dict = df_cost_curve.to_dict()\n",
    "\n",
    "    #load\n",
    "    df = cost_saved_pa(generation, load_add,\n",
    "                                capacity_kWp = optimal_size,\n",
    "                                cost_per_kWp=cost_per_kWp, \n",
    "                                import_cost=import_cost, \n",
    "                                export_price=export_price,\n",
    "                                expected_life_yrs=expected_life_yrs,\n",
    "                      return_raw_data=True)#['20190401':'20190407']\n",
    "    #df.plot(figsize=(15,15), subplots=True)\n",
    "\n",
    "\n",
    "    #report_dict['cost_curve'] = curve_dict['Profit_PA']\n",
    "    # plot = df_cost_curve.plot()\n",
    "    # return json.dumps(report_dict['Value'], indent=4)\n",
    "    \n",
    "    # return df_cost_curve, df, report.to_html()\n",
    "    return df_cost_curve, df, report\n",
    "    return report.to_html()\n",
    "    return report_dict\n",
    "    return json.dumps(report_dict, indent=4)"
   ]
  },
  {
   "cell_type": "code",
   "execution_count": null,
   "metadata": {},
   "outputs": [],
   "source": []
  },
  {
   "cell_type": "code",
   "execution_count": null,
   "metadata": {},
   "outputs": [],
   "source": []
  },
  {
   "cell_type": "code",
   "execution_count": null,
   "metadata": {},
   "outputs": [],
   "source": []
  },
  {
   "cell_type": "code",
   "execution_count": null,
   "metadata": {},
   "outputs": [],
   "source": []
  },
  {
   "cell_type": "code",
   "execution_count": null,
   "metadata": {},
   "outputs": [],
   "source": []
  },
  {
   "cell_type": "code",
   "execution_count": null,
   "metadata": {},
   "outputs": [],
   "source": []
  },
  {
   "cell_type": "code",
   "execution_count": null,
   "metadata": {},
   "outputs": [],
   "source": []
  },
  {
   "cell_type": "code",
   "execution_count": null,
   "metadata": {},
   "outputs": [],
   "source": []
  },
  {
   "cell_type": "markdown",
   "metadata": {},
   "source": [
    "# Tests"
   ]
  },
  {
   "cell_type": "markdown",
   "metadata": {},
   "source": [
    "## API"
   ]
  },
  {
   "cell_type": "code",
   "execution_count": null,
   "metadata": {
    "ExecuteTime": {
     "end_time": "2020-05-12T14:10:05.691356Z",
     "start_time": "2020-05-12T14:10:05.685239Z"
    }
   },
   "outputs": [],
   "source": [
    "form_data = {\n",
    "    'load_data_path' : 'Factory_Heavy_loads_15min.csv',\n",
    "    'lat' : 18.640976,\n",
    "    'lon' : 73.833332,\n",
    "    'cost_per_kWp' : 1840,\n",
    "    'import_cost' : 0.14,\n",
    "    'export_price' : 0.04,\n",
    "    'expected_life_yrs' : 20,\n",
    "    'roof_size_kw' : 100,\n",
    "}"
   ]
  },
  {
   "cell_type": "code",
   "execution_count": null,
   "metadata": {
    "ExecuteTime": {
     "end_time": "2020-05-12T14:10:18.365264Z",
     "start_time": "2020-05-12T14:10:06.764525Z"
    }
   },
   "outputs": [],
   "source": [
    "file = askopenfilename(initialdir='../..')"
   ]
  },
  {
   "cell_type": "code",
   "execution_count": null,
   "metadata": {
    "ExecuteTime": {
     "end_time": "2020-05-12T14:10:29.890386Z",
     "start_time": "2020-05-12T14:10:21.997509Z"
    }
   },
   "outputs": [],
   "source": [
    "curve, loads, report = api(form_data, file)"
   ]
  },
  {
   "cell_type": "code",
   "execution_count": null,
   "metadata": {},
   "outputs": [],
   "source": []
  },
  {
   "cell_type": "code",
   "execution_count": null,
   "metadata": {},
   "outputs": [],
   "source": []
  },
  {
   "cell_type": "code",
   "execution_count": null,
   "metadata": {},
   "outputs": [],
   "source": []
  },
  {
   "cell_type": "code",
   "execution_count": null,
   "metadata": {},
   "outputs": [],
   "source": []
  },
  {
   "cell_type": "code",
   "execution_count": null,
   "metadata": {
    "ExecuteTime": {
     "end_time": "2020-05-12T14:10:33.373555Z",
     "start_time": "2020-05-12T14:10:33.123141Z"
    },
    "scrolled": true
   },
   "outputs": [],
   "source": [
    "curve.plot()"
   ]
  },
  {
   "cell_type": "code",
   "execution_count": null,
   "metadata": {
    "ExecuteTime": {
     "end_time": "2020-05-12T14:10:35.278555Z",
     "start_time": "2020-05-12T14:10:34.440702Z"
    }
   },
   "outputs": [],
   "source": [
    "loads.plot(figsize=(15,3))"
   ]
  },
  {
   "cell_type": "code",
   "execution_count": null,
   "metadata": {
    "ExecuteTime": {
     "end_time": "2020-05-12T14:10:37.038964Z",
     "start_time": "2020-05-12T14:10:36.771906Z"
    }
   },
   "outputs": [],
   "source": [
    "loads.iloc[:24*7, :].plot(figsize=(15,3))"
   ]
  },
  {
   "cell_type": "code",
   "execution_count": null,
   "metadata": {
    "ExecuteTime": {
     "end_time": "2020-05-12T14:10:38.813406Z",
     "start_time": "2020-05-12T14:10:38.804648Z"
    },
    "scrolled": true
   },
   "outputs": [],
   "source": [
    "print(html2text.html2text(report))"
   ]
  },
  {
   "cell_type": "code",
   "execution_count": null,
   "metadata": {},
   "outputs": [],
   "source": []
  },
  {
   "cell_type": "code",
   "execution_count": null,
   "metadata": {},
   "outputs": [],
   "source": []
  },
  {
   "cell_type": "code",
   "execution_count": null,
   "metadata": {},
   "outputs": [],
   "source": []
  },
  {
   "cell_type": "code",
   "execution_count": null,
   "metadata": {},
   "outputs": [],
   "source": []
  },
  {
   "cell_type": "code",
   "execution_count": null,
   "metadata": {},
   "outputs": [],
   "source": []
  },
  {
   "cell_type": "markdown",
   "metadata": {},
   "source": [
    "## Local"
   ]
  },
  {
   "cell_type": "code",
   "execution_count": null,
   "metadata": {
    "ExecuteTime": {
     "end_time": "2020-04-29T21:56:14.920010Z",
     "start_time": "2020-04-29T21:56:14.913087Z"
    }
   },
   "outputs": [],
   "source": [
    "load_data_path = 'Factory_Heavy_loads_15min.csv'\n",
    "lat = 18.640976\n",
    "lon = 73.833332\n",
    "cost_per_kWp=1840\n",
    "import_cost=0.14\n",
    "export_price=0.04\n",
    "expected_life_yrs=20\n",
    "roof_size_kw=100\n",
    "# Assume south facing with 35 deg tilt angle"
   ]
  },
  {
   "cell_type": "code",
   "execution_count": null,
   "metadata": {
    "ExecuteTime": {
     "end_time": "2020-04-29T21:56:17.286247Z",
     "start_time": "2020-04-29T21:56:16.965350Z"
    }
   },
   "outputs": [],
   "source": [
    "load = orxa_PDS_import(load_data_path)\n",
    "# load.plot()"
   ]
  },
  {
   "cell_type": "code",
   "execution_count": null,
   "metadata": {
    "ExecuteTime": {
     "end_time": "2020-04-29T21:56:21.012430Z",
     "start_time": "2020-04-29T21:56:17.289424Z"
    }
   },
   "outputs": [],
   "source": [
    "generation = generation_1kw(lat=lat, lon=lon, load=load)\n",
    "# generation.plot()"
   ]
  },
  {
   "cell_type": "code",
   "execution_count": null,
   "metadata": {
    "ExecuteTime": {
     "end_time": "2020-04-29T21:56:23.894103Z",
     "start_time": "2020-04-29T21:56:21.014913Z"
    }
   },
   "outputs": [],
   "source": [
    "df_cost_curve = cost_curve(generation_1kw=generation,\n",
    "                            load=load,\n",
    "                            cost_per_kWp=cost_per_kWp,\n",
    "                            import_cost=import_cost,\n",
    "                            export_price=export_price,\n",
    "                            expected_life_yrs=expected_life_yrs,\n",
    "                            roof_size_kw=roof_size_kw)\n",
    "# df_cost_curve.plot()"
   ]
  },
  {
   "cell_type": "code",
   "execution_count": null,
   "metadata": {
    "ExecuteTime": {
     "end_time": "2020-04-29T21:56:23.902670Z",
     "start_time": "2020-04-29T21:56:23.897675Z"
    }
   },
   "outputs": [],
   "source": [
    "optimal_size, optimal_revenue = optimise(df_cost_curve)"
   ]
  },
  {
   "cell_type": "code",
   "execution_count": null,
   "metadata": {
    "ExecuteTime": {
     "end_time": "2020-04-29T21:56:24.170676Z",
     "start_time": "2020-04-29T21:56:23.907191Z"
    }
   },
   "outputs": [],
   "source": [
    "plot_curve(df_cost_curve, optimal_size, optimal_revenue)"
   ]
  },
  {
   "cell_type": "code",
   "execution_count": null,
   "metadata": {
    "ExecuteTime": {
     "end_time": "2020-04-29T21:56:24.206232Z",
     "start_time": "2020-04-29T21:56:24.172893Z"
    }
   },
   "outputs": [],
   "source": [
    "report = generate_report(generation, load, optimal_size)\n",
    "report"
   ]
  },
  {
   "cell_type": "code",
   "execution_count": null,
   "metadata": {
    "ExecuteTime": {
     "end_time": "2020-04-29T21:56:24.734186Z",
     "start_time": "2020-04-29T21:56:24.208472Z"
    }
   },
   "outputs": [],
   "source": [
    "generation.plot()"
   ]
  },
  {
   "cell_type": "code",
   "execution_count": null,
   "metadata": {
    "ExecuteTime": {
     "end_time": "2020-04-29T21:56:25.263147Z",
     "start_time": "2020-04-29T21:56:24.742572Z"
    }
   },
   "outputs": [],
   "source": [
    "load.plot()"
   ]
  },
  {
   "cell_type": "code",
   "execution_count": null,
   "metadata": {
    "ExecuteTime": {
     "end_time": "2020-04-29T21:56:26.575130Z",
     "start_time": "2020-04-29T21:56:25.267633Z"
    }
   },
   "outputs": [],
   "source": [
    "plot_loads(generation, load, optimal_size)"
   ]
  },
  {
   "cell_type": "code",
   "execution_count": null,
   "metadata": {},
   "outputs": [],
   "source": []
  },
  {
   "cell_type": "code",
   "execution_count": null,
   "metadata": {},
   "outputs": [],
   "source": []
  },
  {
   "cell_type": "code",
   "execution_count": null,
   "metadata": {},
   "outputs": [],
   "source": []
  },
  {
   "cell_type": "code",
   "execution_count": null,
   "metadata": {
    "ExecuteTime": {
     "end_time": "2020-04-29T21:56:26.597555Z",
     "start_time": "2020-04-29T21:56:26.590714Z"
    }
   },
   "outputs": [],
   "source": [
    "import matplotlib.pyplot as plt"
   ]
  },
  {
   "cell_type": "code",
   "execution_count": null,
   "metadata": {
    "ExecuteTime": {
     "end_time": "2020-04-29T21:56:26.857870Z",
     "start_time": "2020-04-29T21:56:26.601705Z"
    }
   },
   "outputs": [],
   "source": [
    "fig = plt.plot(df_cost_curve)"
   ]
  },
  {
   "cell_type": "code",
   "execution_count": null,
   "metadata": {},
   "outputs": [],
   "source": []
  },
  {
   "cell_type": "code",
   "execution_count": null,
   "metadata": {
    "ExecuteTime": {
     "end_time": "2020-04-29T21:56:26.878064Z",
     "start_time": "2020-04-29T21:56:26.861827Z"
    }
   },
   "outputs": [],
   "source": [
    "df_cost_curve"
   ]
  },
  {
   "cell_type": "code",
   "execution_count": null,
   "metadata": {
    "ExecuteTime": {
     "end_time": "2020-04-29T22:00:38.101630Z",
     "start_time": "2020-04-29T22:00:38.094831Z"
    }
   },
   "outputs": [],
   "source": [
    "df_cost_curve.columns.values"
   ]
  },
  {
   "cell_type": "code",
   "execution_count": null,
   "metadata": {
    "ExecuteTime": {
     "end_time": "2020-04-29T21:59:05.715534Z",
     "start_time": "2020-04-29T21:59:05.709589Z"
    }
   },
   "outputs": [],
   "source": [
    "list(df_cost_curve.columns)"
   ]
  },
  {
   "cell_type": "code",
   "execution_count": null,
   "metadata": {
    "ExecuteTime": {
     "end_time": "2020-04-29T22:07:41.219336Z",
     "start_time": "2020-04-29T22:07:41.039823Z"
    }
   },
   "outputs": [],
   "source": [
    "plt.figure()\n",
    "# plt.title()\n",
    "# plt.legend(*list(df_cost_curve.columns))\n",
    "# plt.legend(['a'],loc='upper left')\n",
    "plt.plot(df_cost_curve)\n",
    "plt.legend(df_cost_curve.columns)"
   ]
  },
  {
   "cell_type": "code",
   "execution_count": null,
   "metadata": {},
   "outputs": [],
   "source": []
  },
  {
   "cell_type": "code",
   "execution_count": null,
   "metadata": {},
   "outputs": [],
   "source": []
  },
  {
   "cell_type": "code",
   "execution_count": null,
   "metadata": {},
   "outputs": [],
   "source": []
  }
 ],
 "metadata": {
  "kernelspec": {
   "display_name": "Python 3",
   "language": "python",
   "name": "python3"
  },
  "language_info": {
   "codemirror_mode": {
    "name": "ipython",
    "version": 3
   },
   "file_extension": ".py",
   "mimetype": "text/x-python",
   "name": "python",
   "nbconvert_exporter": "python",
   "pygments_lexer": "ipython3",
   "version": "3.6.5"
  }
 },
 "nbformat": 4,
 "nbformat_minor": 4
}
