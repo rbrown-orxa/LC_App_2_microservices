{
 "cells": [
  {
   "cell_type": "code",
   "execution_count": null,
   "metadata": {},
   "outputs": [],
   "source": [
    "import pandas as pd\n",
    "import requests\n",
    "import json\n",
    "from dateutil import parser\n",
    "from dateutil.relativedelta import relativedelta\n",
    "from datetime import datetime\n",
    "import matplotlib.pyplot as plt\n",
    "import json\n",
    "import matplotlib\n",
    "\n",
    "try:\n",
    "    from tkinter.filedialog import askopenfilename\n",
    "except:\n",
    "    pass\n",
    "\n",
    "import html2text\n",
    "import warnings\n",
    "from timezonefinder import TimezoneFinder"
   ]
  },
  {
   "cell_type": "code",
   "execution_count": null,
   "metadata": {},
   "outputs": [],
   "source": [
    "import nbimporter\n",
    "from use_schema import apply_schema"
   ]
  },
  {
   "cell_type": "code",
   "execution_count": null,
   "metadata": {},
   "outputs": [],
   "source": [
    "%matplotlib inline"
   ]
  },
  {
   "cell_type": "markdown",
   "metadata": {},
   "source": [
    "# Functions"
   ]
  },
  {
   "cell_type": "code",
   "execution_count": null,
   "metadata": {},
   "outputs": [],
   "source": [
    "def csv_file_import(path, lat, lon):\n",
    "    df, schema = apply_schema(path)\n",
    "    units = schema['units']\n",
    "\n",
    "\n",
    "    print(f'Lat: {lat}, Lon: {lon}')\n",
    "    tf = TimezoneFinder()\n",
    "    timezone_str = tf.timezone_at(lat=lat, lng=lon)\n",
    "    assert timezone_str\n",
    "    print(f'Timezone: {timezone_str}')\n",
    "    \n",
    "    # convert local time to UTC\n",
    "    df = (df.tz_localize(\n",
    "                    timezone_str,\n",
    "                    ambiguous='NaT',\n",
    "                    nonexistent='shift_forward') #add local offset\n",
    "    #add local offset\n",
    "                .tz_convert('UTC') #convert to UTC offset\n",
    "                .tz_localize(\n",
    "                    tz=None,\n",
    "                    ambiguous='infer',\n",
    "                    nonexistent='shift_forward'\n",
    "                    )) #remove offset\n",
    "    return df, units"
   ]
  },
  {
   "cell_type": "code",
   "execution_count": null,
   "metadata": {},
   "outputs": [],
   "source": [
    "def handle_units(load, units):\n",
    "    \"\"\"\n",
    "    Accept load in a range of units.\n",
    "    Return load in kWh, sampled at 1 hour\n",
    "    \"\"\"\n",
    "    multiplier = {'kW':10**3, 'kWh':10**3, 'MW':10*6, 'MWh':10**6, 'W':1}\n",
    "    \n",
    "    if not units in multiplier:\n",
    "        raise KeyError('Could not find units of power or energy')\n",
    "\n",
    "    load = (load * multiplier[units]) / 10**3 # load now in kW\n",
    "    \n",
    "    warnings.warn('Need to fix energy integration when resampling', RuntimeWarning)\n",
    "    \n",
    "    if 'h' not in units:\n",
    "        print('Need to integrate power to get energy')\n",
    "        load = load.resample('1h').mean()\n",
    "    else:\n",
    "        load = load.resample('1h').sum()\n",
    "        \n",
    "    return load.rename(columns={units:'kWh'})"
   ]
  },
  {
   "cell_type": "code",
   "execution_count": null,
   "metadata": {},
   "outputs": [],
   "source": [
    "def api(dict_input, file):\n",
    "    # dict_input = json.loads(json_input)\n",
    "\n",
    "    assert file is not None\n",
    "    for k, v in dict_input.items():\n",
    "        assert v is not None\n",
    "\n",
    "    lat = float(dict_input['lat'])\n",
    "    lon = float(dict_input['lon'])\n",
    "    cost_per_kWp= float(dict_input['cost_per_kWp'])\n",
    "    import_cost=float(dict_input['import_cost'])\n",
    "    export_price=float(dict_input['export_price'])\n",
    "    expected_life_yrs=float(dict_input['expected_life_yrs'])\n",
    "    roof_size_m2=float(dict_input['roof_size_m2'])\n",
    "    azimuth=float(dict_input['azimuth'])\n",
    "    roofpitch=float(dict_input['roofpitch'])\n",
    "    \n",
    "    \n",
    "#     roof_size_m2 = 50\n",
    "    panel_efficiency = 0.18 # https://www.solar.com/learn/solar-panel-efficiency/\n",
    "    roof_size_kw = roof_size_m2 * panel_efficiency # STC 1000 W/m^2 @ 25 deg C\n",
    "    \n",
    "    print(f'Maximum system size according to roof dimensions: {roof_size_kw} kWp')\n",
    "\n",
    "\n",
    "#     load = orxa_PDS_import(file)\n",
    "    load, units = csv_file_import(file, lat, lon)\n",
    "    print(f'Units: {units}')\n",
    "    \n",
    "    load = handle_units(load, units)\n",
    "    \n",
    "    return load"
   ]
  },
  {
   "cell_type": "code",
   "execution_count": null,
   "metadata": {},
   "outputs": [],
   "source": []
  },
  {
   "cell_type": "code",
   "execution_count": null,
   "metadata": {},
   "outputs": [],
   "source": []
  },
  {
   "cell_type": "markdown",
   "metadata": {},
   "source": [
    "# TESTS"
   ]
  },
  {
   "cell_type": "code",
   "execution_count": null,
   "metadata": {},
   "outputs": [],
   "source": [
    "form_data = {\n",
    "    'load_data_path' : 'Factory_Heavy_loads_15min.csv',\n",
    "    'lat' : 18.640976,\n",
    "    'lon' : 73.833332,\n",
    "    'cost_per_kWp' : 1840,\n",
    "    'import_cost' : 0.14,\n",
    "    'export_price' : 0.04,\n",
    "    'expected_life_yrs' : 20,\n",
    "    'roof_size_m2' : 250,\n",
    "    'azimuth' : 180,\n",
    "    'roofpitch' : 45\n",
    "}"
   ]
  },
  {
   "cell_type": "code",
   "execution_count": null,
   "metadata": {},
   "outputs": [],
   "source": [
    "file = askopenfilename(initialdir='../..')"
   ]
  },
  {
   "cell_type": "code",
   "execution_count": null,
   "metadata": {},
   "outputs": [],
   "source": [
    "files = file"
   ]
  },
  {
   "cell_type": "code",
   "execution_count": null,
   "metadata": {},
   "outputs": [],
   "source": [
    "files"
   ]
  },
  {
   "cell_type": "code",
   "execution_count": null,
   "metadata": {},
   "outputs": [],
   "source": [
    "for file in files:\n",
    "    print(file)"
   ]
  },
  {
   "cell_type": "code",
   "execution_count": null,
   "metadata": {},
   "outputs": [],
   "source": [
    "load = api(form_data, file)"
   ]
  },
  {
   "cell_type": "code",
   "execution_count": null,
   "metadata": {},
   "outputs": [],
   "source": [
    "load"
   ]
  },
  {
   "cell_type": "code",
   "execution_count": null,
   "metadata": {},
   "outputs": [],
   "source": []
  }
 ],
 "metadata": {
  "kernelspec": {
   "display_name": "Python 3",
   "language": "python",
   "name": "python3"
  },
  "language_info": {
   "codemirror_mode": {
    "name": "ipython",
    "version": 3
   },
   "file_extension": ".py",
   "mimetype": "text/x-python",
   "name": "python",
   "nbconvert_exporter": "python",
   "pygments_lexer": "ipython3",
   "version": "3.7.6"
  }
 },
 "nbformat": 4,
 "nbformat_minor": 4
}
