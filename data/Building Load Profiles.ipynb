{
 "cells": [
  {
   "cell_type": "code",
   "execution_count": 1,
   "metadata": {},
   "outputs": [],
   "source": [
    "import pandas as pd\n",
    "import numpy as np"
   ]
  },
  {
   "cell_type": "markdown",
   "metadata": {},
   "source": [
    "### Elexon load profiles data\n",
    "#### https://ukerc.rl.ac.uk/DC/cgi-bin/edc_search.pl?GoButton=Detail&WantComp=42&WantResult=&WantText=EDC0000041\n",
    "\n",
    "Half-hourly electricity daily load profiles for standard UK profile class definitions (01 Domestic Unrestricted; 02 Domestic Economy 7; 03 Non-domestic Unrestricted; 04 Non-domestic Economy 7; 05 Non-domestic Maximum Demand 0-20% Load Factor; 06 Non-domestic Maximum Demand 20-30% Load Factor; 07 Non-domestic Maximum Demand 30-40% Load Factor; 08 Non-domestic Maximum Demand >40% Load Factor) for weekday (Wd), Saturday (Sat), and Sunday (Sun) at five different times of year (Autumn Aut, Winter Wtr, Spring Spr, High Summer HSr, Summer Smr)"
   ]
  },
  {
   "cell_type": "code",
   "execution_count": null,
   "metadata": {},
   "outputs": [],
   "source": []
  },
  {
   "cell_type": "code",
   "execution_count": 2,
   "metadata": {},
   "outputs": [
    {
     "data": {
      "text/plain": [
       "{'Unnamed: 1': {1: 'Domestic Unrestricted (single rate) ',\n",
       "  2: 'Domestic Economy 7 (two rate) ',\n",
       "  3: 'Non-Domestic Unrestricted (single rate) ',\n",
       "  4: 'Non-Domestic Non-Maximum Demand Economy 7 type (two rate) ',\n",
       "  5: 'Non-Domestic Maximum Demand Customers with Load Factor 0-20%',\n",
       "  6: 'Non-Domestic Maximum Demand Customers with Load Factor 20-30%',\n",
       "  7: 'Non-Domestic Maximum Demand Customers with Load Factor 30-40%',\n",
       "  8: 'Non-Domestic Maximum Demand Customers with Load Factor >40%'}}"
      ]
     },
     "execution_count": 2,
     "metadata": {},
     "output_type": "execute_result"
    }
   ],
   "source": [
    "url = 'https://data.ukedc.rl.ac.uk/browse/edc/efficiency/residential/LoadProfile/data/AllProfileClasses.xls'\n",
    "df = pd.read_excel(url, sheet_name='Introduction', header=5, nrows=8, usecols='A:B')\n",
    "df = df.set_index('PROFILE DESCRIPTIONS')\n",
    "df.to_dict()"
   ]
  },
  {
   "cell_type": "code",
   "execution_count": 3,
   "metadata": {},
   "outputs": [],
   "source": [
    "url = 'https://data.ukedc.rl.ac.uk/browse/edc/efficiency/residential/LoadProfile/data/AllProfileClasses.xls'\n",
    "dfs = pd.read_excel(url, sheet_name=[\n",
    "    'Profile Class 1',\n",
    "    'Profile Class 2',\n",
    "    'Profile Class 3',\n",
    "    'Profile Class 4',\n",
    "    'Profile Class 5',\n",
    "    'Profile Class 6',\n",
    "    'ProfileClass 7',\n",
    "    'Profile Class 8',\n",
    "])"
   ]
  },
  {
   "cell_type": "markdown",
   "metadata": {},
   "source": [
    "## Domestic"
   ]
  },
  {
   "cell_type": "code",
   "execution_count": 4,
   "metadata": {},
   "outputs": [
    {
     "data": {
      "text/html": [
       "<div>\n",
       "<style scoped>\n",
       "    .dataframe tbody tr th:only-of-type {\n",
       "        vertical-align: middle;\n",
       "    }\n",
       "\n",
       "    .dataframe tbody tr th {\n",
       "        vertical-align: top;\n",
       "    }\n",
       "\n",
       "    .dataframe thead th {\n",
       "        text-align: right;\n",
       "    }\n",
       "</style>\n",
       "<table border=\"1\" class=\"dataframe\">\n",
       "  <thead>\n",
       "    <tr style=\"text-align: right;\">\n",
       "      <th></th>\n",
       "      <th>Time</th>\n",
       "      <th>Aut Wd</th>\n",
       "      <th>Aut Sat</th>\n",
       "      <th>Aut Sun</th>\n",
       "      <th>Hsr Wd</th>\n",
       "      <th>Hsr Sat</th>\n",
       "      <th>Hsr Sun</th>\n",
       "      <th>Smr Wd</th>\n",
       "      <th>Smr Sat</th>\n",
       "      <th>Smr Sun</th>\n",
       "      <th>Spr Wd</th>\n",
       "      <th>Spr Sat</th>\n",
       "      <th>Spr Sun</th>\n",
       "      <th>Wtr Wd</th>\n",
       "      <th>Wtr Sat</th>\n",
       "      <th>Wtr Sun</th>\n",
       "    </tr>\n",
       "  </thead>\n",
       "  <tbody>\n",
       "    <tr>\n",
       "      <th>0</th>\n",
       "      <td>00:30:00</td>\n",
       "      <td>0.28</td>\n",
       "      <td>0.31</td>\n",
       "      <td>0.35</td>\n",
       "      <td>0.29</td>\n",
       "      <td>0.31</td>\n",
       "      <td>0.33</td>\n",
       "      <td>0.27</td>\n",
       "      <td>0.31</td>\n",
       "      <td>0.32</td>\n",
       "      <td>0.29</td>\n",
       "      <td>0.33</td>\n",
       "      <td>0.33</td>\n",
       "      <td>0.33</td>\n",
       "      <td>0.39</td>\n",
       "      <td>0.41</td>\n",
       "    </tr>\n",
       "    <tr>\n",
       "      <th>1</th>\n",
       "      <td>01:00:00</td>\n",
       "      <td>0.24</td>\n",
       "      <td>0.27</td>\n",
       "      <td>0.30</td>\n",
       "      <td>0.25</td>\n",
       "      <td>0.27</td>\n",
       "      <td>0.29</td>\n",
       "      <td>0.23</td>\n",
       "      <td>0.26</td>\n",
       "      <td>0.28</td>\n",
       "      <td>0.25</td>\n",
       "      <td>0.29</td>\n",
       "      <td>0.30</td>\n",
       "      <td>0.28</td>\n",
       "      <td>0.32</td>\n",
       "      <td>0.34</td>\n",
       "    </tr>\n",
       "    <tr>\n",
       "      <th>2</th>\n",
       "      <td>01:30:00</td>\n",
       "      <td>0.21</td>\n",
       "      <td>0.24</td>\n",
       "      <td>0.24</td>\n",
       "      <td>0.22</td>\n",
       "      <td>0.23</td>\n",
       "      <td>0.25</td>\n",
       "      <td>0.21</td>\n",
       "      <td>0.23</td>\n",
       "      <td>0.25</td>\n",
       "      <td>0.22</td>\n",
       "      <td>0.25</td>\n",
       "      <td>0.27</td>\n",
       "      <td>0.25</td>\n",
       "      <td>0.28</td>\n",
       "      <td>0.30</td>\n",
       "    </tr>\n",
       "    <tr>\n",
       "      <th>3</th>\n",
       "      <td>02:00:00</td>\n",
       "      <td>0.20</td>\n",
       "      <td>0.22</td>\n",
       "      <td>0.22</td>\n",
       "      <td>0.21</td>\n",
       "      <td>0.22</td>\n",
       "      <td>0.23</td>\n",
       "      <td>0.20</td>\n",
       "      <td>0.21</td>\n",
       "      <td>0.22</td>\n",
       "      <td>0.21</td>\n",
       "      <td>0.23</td>\n",
       "      <td>0.24</td>\n",
       "      <td>0.23</td>\n",
       "      <td>0.25</td>\n",
       "      <td>0.27</td>\n",
       "    </tr>\n",
       "    <tr>\n",
       "      <th>4</th>\n",
       "      <td>02:30:00</td>\n",
       "      <td>0.19</td>\n",
       "      <td>0.20</td>\n",
       "      <td>0.21</td>\n",
       "      <td>0.20</td>\n",
       "      <td>0.21</td>\n",
       "      <td>0.21</td>\n",
       "      <td>0.19</td>\n",
       "      <td>0.20</td>\n",
       "      <td>0.21</td>\n",
       "      <td>0.20</td>\n",
       "      <td>0.22</td>\n",
       "      <td>0.22</td>\n",
       "      <td>0.22</td>\n",
       "      <td>0.23</td>\n",
       "      <td>0.25</td>\n",
       "    </tr>\n",
       "  </tbody>\n",
       "</table>\n",
       "</div>"
      ],
      "text/plain": [
       "       Time  Aut Wd  Aut Sat  Aut Sun  Hsr Wd  Hsr Sat  Hsr Sun  Smr Wd  \\\n",
       "0  00:30:00    0.28     0.31     0.35    0.29     0.31     0.33    0.27   \n",
       "1  01:00:00    0.24     0.27     0.30    0.25     0.27     0.29    0.23   \n",
       "2  01:30:00    0.21     0.24     0.24    0.22     0.23     0.25    0.21   \n",
       "3  02:00:00    0.20     0.22     0.22    0.21     0.22     0.23    0.20   \n",
       "4  02:30:00    0.19     0.20     0.21    0.20     0.21     0.21    0.19   \n",
       "\n",
       "   Smr Sat  Smr Sun  Spr Wd  Spr Sat  Spr Sun  Wtr Wd  Wtr Sat  Wtr Sun  \n",
       "0     0.31     0.32    0.29     0.33     0.33    0.33     0.39     0.41  \n",
       "1     0.26     0.28    0.25     0.29     0.30    0.28     0.32     0.34  \n",
       "2     0.23     0.25    0.22     0.25     0.27    0.25     0.28     0.30  \n",
       "3     0.21     0.22    0.21     0.23     0.24    0.23     0.25     0.27  \n",
       "4     0.20     0.21    0.20     0.22     0.22    0.22     0.23     0.25  "
      ]
     },
     "execution_count": 4,
     "metadata": {},
     "output_type": "execute_result"
    }
   ],
   "source": [
    "df = dfs['Profile Class 1'].copy()\n",
    "df.head()"
   ]
  },
  {
   "cell_type": "code",
   "execution_count": 5,
   "metadata": {},
   "outputs": [
    {
     "data": {
      "text/plain": [
       "(48, 16)"
      ]
     },
     "execution_count": 5,
     "metadata": {},
     "output_type": "execute_result"
    }
   ],
   "source": [
    "dfs['Profile Class 1'].shape"
   ]
  },
  {
   "cell_type": "code",
   "execution_count": 6,
   "metadata": {},
   "outputs": [
    {
     "data": {
      "text/html": [
       "<div>\n",
       "<style scoped>\n",
       "    .dataframe tbody tr th:only-of-type {\n",
       "        vertical-align: middle;\n",
       "    }\n",
       "\n",
       "    .dataframe tbody tr th {\n",
       "        vertical-align: top;\n",
       "    }\n",
       "\n",
       "    .dataframe thead th {\n",
       "        text-align: right;\n",
       "    }\n",
       "</style>\n",
       "<table border=\"1\" class=\"dataframe\">\n",
       "  <thead>\n",
       "    <tr style=\"text-align: right;\">\n",
       "      <th></th>\n",
       "      <th>Aut Wd</th>\n",
       "      <th>Aut Sat</th>\n",
       "      <th>Aut Sun</th>\n",
       "      <th>Hsr Wd</th>\n",
       "      <th>Hsr Sat</th>\n",
       "      <th>Hsr Sun</th>\n",
       "      <th>Smr Wd</th>\n",
       "      <th>Smr Sat</th>\n",
       "      <th>Smr Sun</th>\n",
       "      <th>Spr Wd</th>\n",
       "      <th>Spr Sat</th>\n",
       "      <th>Spr Sun</th>\n",
       "      <th>Wtr Wd</th>\n",
       "      <th>Wtr Sat</th>\n",
       "      <th>Wtr Sun</th>\n",
       "    </tr>\n",
       "  </thead>\n",
       "  <tbody>\n",
       "    <tr>\n",
       "      <th>00:00:00</th>\n",
       "      <td>0.260</td>\n",
       "      <td>0.290</td>\n",
       "      <td>0.325</td>\n",
       "      <td>0.270</td>\n",
       "      <td>0.290</td>\n",
       "      <td>0.310</td>\n",
       "      <td>0.250</td>\n",
       "      <td>0.285</td>\n",
       "      <td>0.300</td>\n",
       "      <td>0.270</td>\n",
       "      <td>0.310</td>\n",
       "      <td>0.315</td>\n",
       "      <td>0.305</td>\n",
       "      <td>0.355</td>\n",
       "      <td>0.375</td>\n",
       "    </tr>\n",
       "    <tr>\n",
       "      <th>01:00:00</th>\n",
       "      <td>0.205</td>\n",
       "      <td>0.230</td>\n",
       "      <td>0.230</td>\n",
       "      <td>0.215</td>\n",
       "      <td>0.225</td>\n",
       "      <td>0.240</td>\n",
       "      <td>0.205</td>\n",
       "      <td>0.220</td>\n",
       "      <td>0.235</td>\n",
       "      <td>0.215</td>\n",
       "      <td>0.240</td>\n",
       "      <td>0.255</td>\n",
       "      <td>0.240</td>\n",
       "      <td>0.265</td>\n",
       "      <td>0.285</td>\n",
       "    </tr>\n",
       "    <tr>\n",
       "      <th>02:00:00</th>\n",
       "      <td>0.190</td>\n",
       "      <td>0.195</td>\n",
       "      <td>0.205</td>\n",
       "      <td>0.195</td>\n",
       "      <td>0.205</td>\n",
       "      <td>0.205</td>\n",
       "      <td>0.190</td>\n",
       "      <td>0.195</td>\n",
       "      <td>0.205</td>\n",
       "      <td>0.195</td>\n",
       "      <td>0.210</td>\n",
       "      <td>0.215</td>\n",
       "      <td>0.215</td>\n",
       "      <td>0.225</td>\n",
       "      <td>0.240</td>\n",
       "    </tr>\n",
       "    <tr>\n",
       "      <th>03:00:00</th>\n",
       "      <td>0.180</td>\n",
       "      <td>0.190</td>\n",
       "      <td>0.190</td>\n",
       "      <td>0.190</td>\n",
       "      <td>0.195</td>\n",
       "      <td>0.200</td>\n",
       "      <td>0.180</td>\n",
       "      <td>0.190</td>\n",
       "      <td>0.190</td>\n",
       "      <td>0.190</td>\n",
       "      <td>0.190</td>\n",
       "      <td>0.195</td>\n",
       "      <td>0.205</td>\n",
       "      <td>0.210</td>\n",
       "      <td>0.215</td>\n",
       "    </tr>\n",
       "    <tr>\n",
       "      <th>04:00:00</th>\n",
       "      <td>0.190</td>\n",
       "      <td>0.190</td>\n",
       "      <td>0.185</td>\n",
       "      <td>0.190</td>\n",
       "      <td>0.195</td>\n",
       "      <td>0.195</td>\n",
       "      <td>0.180</td>\n",
       "      <td>0.190</td>\n",
       "      <td>0.190</td>\n",
       "      <td>0.190</td>\n",
       "      <td>0.195</td>\n",
       "      <td>0.190</td>\n",
       "      <td>0.205</td>\n",
       "      <td>0.210</td>\n",
       "      <td>0.210</td>\n",
       "    </tr>\n",
       "  </tbody>\n",
       "</table>\n",
       "</div>"
      ],
      "text/plain": [
       "          Aut Wd  Aut Sat  Aut Sun  Hsr Wd  Hsr Sat  Hsr Sun  Smr Wd  Smr Sat  \\\n",
       "00:00:00   0.260    0.290    0.325   0.270    0.290    0.310   0.250    0.285   \n",
       "01:00:00   0.205    0.230    0.230   0.215    0.225    0.240   0.205    0.220   \n",
       "02:00:00   0.190    0.195    0.205   0.195    0.205    0.205   0.190    0.195   \n",
       "03:00:00   0.180    0.190    0.190   0.190    0.195    0.200   0.180    0.190   \n",
       "04:00:00   0.190    0.190    0.185   0.190    0.195    0.195   0.180    0.190   \n",
       "\n",
       "          Smr Sun  Spr Wd  Spr Sat  Spr Sun  Wtr Wd  Wtr Sat  Wtr Sun  \n",
       "00:00:00    0.300   0.270    0.310    0.315   0.305    0.355    0.375  \n",
       "01:00:00    0.235   0.215    0.240    0.255   0.240    0.265    0.285  \n",
       "02:00:00    0.205   0.195    0.210    0.215   0.215    0.225    0.240  \n",
       "03:00:00    0.190   0.190    0.190    0.195   0.205    0.210    0.215  \n",
       "04:00:00    0.190   0.190    0.195    0.190   0.205    0.210    0.210  "
      ]
     },
     "execution_count": 6,
     "metadata": {},
     "output_type": "execute_result"
    }
   ],
   "source": [
    "df.index = pd.timedelta_range(start='00:00:00', periods=48, freq='30min')\n",
    "df = df.drop(columns=['Time'])\n",
    "df = df.resample('1H').mean()\n",
    "df.head()"
   ]
  },
  {
   "cell_type": "markdown",
   "metadata": {},
   "source": [
    "### Spring"
   ]
  },
  {
   "cell_type": "code",
   "execution_count": 7,
   "metadata": {},
   "outputs": [],
   "source": [
    "weekdays = np.tile( df['Spr Wd'].values, 5 )\n",
    "sat = df['Spr Sat'].values\n",
    "sun = df['Spr Sun'].values\n",
    "spring_week = np.concatenate( [weekdays, sat, sun] )\n",
    "spring = np.tile( spring_week, 6 )"
   ]
  },
  {
   "cell_type": "markdown",
   "metadata": {},
   "source": [
    "### Summer"
   ]
  },
  {
   "cell_type": "code",
   "execution_count": 8,
   "metadata": {},
   "outputs": [],
   "source": [
    "weekdays = np.tile( df['Smr Wd'].values, 5 )\n",
    "sat = df['Smr Sat'].values\n",
    "sun = df['Smr Sun'].values\n",
    "summer_week = np.concatenate( [weekdays, sat, sun] )\n",
    "summer = np.tile( summer_week, 10 )"
   ]
  },
  {
   "cell_type": "markdown",
   "metadata": {},
   "source": [
    "### High Summer"
   ]
  },
  {
   "cell_type": "code",
   "execution_count": 9,
   "metadata": {},
   "outputs": [],
   "source": [
    "weekdays = np.tile( df['Hsr Wd'].values, 5 )\n",
    "sat = df['Hsr Sat'].values\n",
    "sun = df['Hsr Sun'].values\n",
    "high_summer_week = np.concatenate( [weekdays, sat, sun] )\n",
    "high_summer = np.tile( high_summer_week, 7 )"
   ]
  },
  {
   "cell_type": "markdown",
   "metadata": {},
   "source": [
    "### Autumn"
   ]
  },
  {
   "cell_type": "code",
   "execution_count": 10,
   "metadata": {},
   "outputs": [],
   "source": [
    "weekdays = np.tile( df['Aut Wd'].values, 5 )\n",
    "sat = df['Aut Sat'].values\n",
    "sun = df['Aut Sun'].values\n",
    "autumn_week = np.concatenate( [weekdays, sat, sun] )\n",
    "autumn = np.tile( autumn_week, 7 )"
   ]
  },
  {
   "cell_type": "markdown",
   "metadata": {},
   "source": [
    "### Winter"
   ]
  },
  {
   "cell_type": "code",
   "execution_count": 11,
   "metadata": {},
   "outputs": [],
   "source": [
    "weekdays = np.tile( df['Wtr Wd'].values, 5 )\n",
    "sat = df['Wtr Sat'].values\n",
    "sun = df['Wtr Sun'].values\n",
    "winter_week = np.concatenate( [weekdays, sat, sun] )\n",
    "winter = np.tile( winter_week, 22 )"
   ]
  },
  {
   "cell_type": "markdown",
   "metadata": {},
   "source": [
    "### Year"
   ]
  },
  {
   "cell_type": "code",
   "execution_count": 12,
   "metadata": {},
   "outputs": [
    {
     "data": {
      "text/plain": [
       "8736"
      ]
     },
     "execution_count": 12,
     "metadata": {},
     "output_type": "execute_result"
    }
   ],
   "source": [
    "year_from_spring = np.concatenate([ spring, summer, high_summer, autumn, winter ])\n",
    "len(year_from_spring)"
   ]
  },
  {
   "cell_type": "code",
   "execution_count": 13,
   "metadata": {},
   "outputs": [
    {
     "data": {
      "text/plain": [
       "8736"
      ]
     },
     "execution_count": 13,
     "metadata": {},
     "output_type": "execute_result"
    }
   ],
   "source": [
    "# Spring starts on 29th March -> ~12th week of year\n",
    "WEEK = 24*7\n",
    "index = [ (hour % (WEEK*52)) for hour in range( (12-1)*WEEK, (52+12-1)*WEEK ) ]\n",
    "len(index)"
   ]
  },
  {
   "cell_type": "code",
   "execution_count": 14,
   "metadata": {},
   "outputs": [
    {
     "data": {
      "text/html": [
       "<div>\n",
       "<style scoped>\n",
       "    .dataframe tbody tr th:only-of-type {\n",
       "        vertical-align: middle;\n",
       "    }\n",
       "\n",
       "    .dataframe tbody tr th {\n",
       "        vertical-align: top;\n",
       "    }\n",
       "\n",
       "    .dataframe thead th {\n",
       "        text-align: right;\n",
       "    }\n",
       "</style>\n",
       "<table border=\"1\" class=\"dataframe\">\n",
       "  <thead>\n",
       "    <tr style=\"text-align: right;\">\n",
       "      <th></th>\n",
       "      <th>kW</th>\n",
       "    </tr>\n",
       "    <tr>\n",
       "      <th>hour</th>\n",
       "      <th></th>\n",
       "    </tr>\n",
       "  </thead>\n",
       "  <tbody>\n",
       "    <tr>\n",
       "      <th>1848</th>\n",
       "      <td>0.270</td>\n",
       "    </tr>\n",
       "    <tr>\n",
       "      <th>1849</th>\n",
       "      <td>0.215</td>\n",
       "    </tr>\n",
       "    <tr>\n",
       "      <th>1850</th>\n",
       "      <td>0.195</td>\n",
       "    </tr>\n",
       "    <tr>\n",
       "      <th>1851</th>\n",
       "      <td>0.190</td>\n",
       "    </tr>\n",
       "    <tr>\n",
       "      <th>1852</th>\n",
       "      <td>0.190</td>\n",
       "    </tr>\n",
       "    <tr>\n",
       "      <th>...</th>\n",
       "      <td>...</td>\n",
       "    </tr>\n",
       "    <tr>\n",
       "      <th>1843</th>\n",
       "      <td>0.865</td>\n",
       "    </tr>\n",
       "    <tr>\n",
       "      <th>1844</th>\n",
       "      <td>0.800</td>\n",
       "    </tr>\n",
       "    <tr>\n",
       "      <th>1845</th>\n",
       "      <td>0.745</td>\n",
       "    </tr>\n",
       "    <tr>\n",
       "      <th>1846</th>\n",
       "      <td>0.635</td>\n",
       "    </tr>\n",
       "    <tr>\n",
       "      <th>1847</th>\n",
       "      <td>0.460</td>\n",
       "    </tr>\n",
       "  </tbody>\n",
       "</table>\n",
       "<p>8736 rows × 1 columns</p>\n",
       "</div>"
      ],
      "text/plain": [
       "         kW\n",
       "hour       \n",
       "1848  0.270\n",
       "1849  0.215\n",
       "1850  0.195\n",
       "1851  0.190\n",
       "1852  0.190\n",
       "...     ...\n",
       "1843  0.865\n",
       "1844  0.800\n",
       "1845  0.745\n",
       "1846  0.635\n",
       "1847  0.460\n",
       "\n",
       "[8736 rows x 1 columns]"
      ]
     },
     "execution_count": 14,
     "metadata": {},
     "output_type": "execute_result"
    }
   ],
   "source": [
    "df = pd.DataFrame(year_from_spring, index=index, columns=['kW'])\n",
    "df.index.name = 'hour'\n",
    "df"
   ]
  },
  {
   "cell_type": "code",
   "execution_count": 15,
   "metadata": {},
   "outputs": [
    {
     "data": {
      "text/html": [
       "<div>\n",
       "<style scoped>\n",
       "    .dataframe tbody tr th:only-of-type {\n",
       "        vertical-align: middle;\n",
       "    }\n",
       "\n",
       "    .dataframe tbody tr th {\n",
       "        vertical-align: top;\n",
       "    }\n",
       "\n",
       "    .dataframe thead th {\n",
       "        text-align: right;\n",
       "    }\n",
       "</style>\n",
       "<table border=\"1\" class=\"dataframe\">\n",
       "  <thead>\n",
       "    <tr style=\"text-align: right;\">\n",
       "      <th></th>\n",
       "      <th>kW</th>\n",
       "    </tr>\n",
       "    <tr>\n",
       "      <th>hour</th>\n",
       "      <th></th>\n",
       "    </tr>\n",
       "  </thead>\n",
       "  <tbody>\n",
       "    <tr>\n",
       "      <th>0</th>\n",
       "      <td>0.305</td>\n",
       "    </tr>\n",
       "    <tr>\n",
       "      <th>1</th>\n",
       "      <td>0.240</td>\n",
       "    </tr>\n",
       "    <tr>\n",
       "      <th>2</th>\n",
       "      <td>0.215</td>\n",
       "    </tr>\n",
       "    <tr>\n",
       "      <th>3</th>\n",
       "      <td>0.205</td>\n",
       "    </tr>\n",
       "    <tr>\n",
       "      <th>4</th>\n",
       "      <td>0.205</td>\n",
       "    </tr>\n",
       "    <tr>\n",
       "      <th>...</th>\n",
       "      <td>...</td>\n",
       "    </tr>\n",
       "    <tr>\n",
       "      <th>8731</th>\n",
       "      <td>0.865</td>\n",
       "    </tr>\n",
       "    <tr>\n",
       "      <th>8732</th>\n",
       "      <td>0.800</td>\n",
       "    </tr>\n",
       "    <tr>\n",
       "      <th>8733</th>\n",
       "      <td>0.745</td>\n",
       "    </tr>\n",
       "    <tr>\n",
       "      <th>8734</th>\n",
       "      <td>0.635</td>\n",
       "    </tr>\n",
       "    <tr>\n",
       "      <th>8735</th>\n",
       "      <td>0.460</td>\n",
       "    </tr>\n",
       "  </tbody>\n",
       "</table>\n",
       "<p>8736 rows × 1 columns</p>\n",
       "</div>"
      ],
      "text/plain": [
       "         kW\n",
       "hour       \n",
       "0     0.305\n",
       "1     0.240\n",
       "2     0.215\n",
       "3     0.205\n",
       "4     0.205\n",
       "...     ...\n",
       "8731  0.865\n",
       "8732  0.800\n",
       "8733  0.745\n",
       "8734  0.635\n",
       "8735  0.460\n",
       "\n",
       "[8736 rows x 1 columns]"
      ]
     },
     "execution_count": 15,
     "metadata": {},
     "output_type": "execute_result"
    }
   ],
   "source": [
    "df = df.sort_index()\n",
    "df"
   ]
  },
  {
   "cell_type": "code",
   "execution_count": 16,
   "metadata": {},
   "outputs": [
    {
     "data": {
      "text/plain": [
       "<matplotlib.axes._subplots.AxesSubplot at 0x7fbcbb550450>"
      ]
     },
     "execution_count": 16,
     "metadata": {},
     "output_type": "execute_result"
    },
    {
     "data": {
      "image/png": "[encoded data removed]",
      "text/plain": [
       "<Figure size 432x288 with 1 Axes>"
      ]
     },
     "metadata": {
      "needs_background": "light"
     },
     "output_type": "display_data"
    }
   ],
   "source": [
    "df[:24*7].plot()"
   ]
  },
  {
   "cell_type": "markdown",
   "metadata": {},
   "source": [
    "### Trend"
   ]
  },
  {
   "cell_type": "code",
   "execution_count": 17,
   "metadata": {},
   "outputs": [
    {
     "data": {
      "image/png": "[encoded data removed]",
      "text/plain": [
       "<Figure size 432x288 with 1 Axes>"
      ]
     },
     "metadata": {
      "needs_background": "light"
     },
     "output_type": "display_data"
    }
   ],
   "source": [
    "monthly_trend = ( df.groupby(df.index // (len(df)//12)).mean() )\n",
    "monthly_trend.index.name = 'month'\n",
    "ax = monthly_trend.plot.bar(title='Average domestic building daily power\\n Grouped by month of year')"
   ]
  },
  {
   "cell_type": "markdown",
   "metadata": {},
   "source": [
    "### Normalised"
   ]
  },
  {
   "cell_type": "code",
   "execution_count": 18,
   "metadata": {},
   "outputs": [
    {
     "data": {
      "text/html": [
       "<div>\n",
       "<style scoped>\n",
       "    .dataframe tbody tr th:only-of-type {\n",
       "        vertical-align: middle;\n",
       "    }\n",
       "\n",
       "    .dataframe tbody tr th {\n",
       "        vertical-align: top;\n",
       "    }\n",
       "\n",
       "    .dataframe thead th {\n",
       "        text-align: right;\n",
       "    }\n",
       "</style>\n",
       "<table border=\"1\" class=\"dataframe\">\n",
       "  <thead>\n",
       "    <tr style=\"text-align: right;\">\n",
       "      <th></th>\n",
       "      <th>kW</th>\n",
       "    </tr>\n",
       "    <tr>\n",
       "      <th>hour</th>\n",
       "      <th></th>\n",
       "    </tr>\n",
       "  </thead>\n",
       "  <tbody>\n",
       "    <tr>\n",
       "      <th>0</th>\n",
       "      <td>0.000078</td>\n",
       "    </tr>\n",
       "    <tr>\n",
       "      <th>1</th>\n",
       "      <td>0.000061</td>\n",
       "    </tr>\n",
       "    <tr>\n",
       "      <th>2</th>\n",
       "      <td>0.000055</td>\n",
       "    </tr>\n",
       "    <tr>\n",
       "      <th>3</th>\n",
       "      <td>0.000053</td>\n",
       "    </tr>\n",
       "    <tr>\n",
       "      <th>4</th>\n",
       "      <td>0.000053</td>\n",
       "    </tr>\n",
       "  </tbody>\n",
       "</table>\n",
       "</div>"
      ],
      "text/plain": [
       "            kW\n",
       "hour          \n",
       "0     0.000078\n",
       "1     0.000061\n",
       "2     0.000055\n",
       "3     0.000053\n",
       "4     0.000053"
      ]
     },
     "execution_count": 18,
     "metadata": {},
     "output_type": "execute_result"
    }
   ],
   "source": [
    "norm = df / df.sum()\n",
    "norm.head()"
   ]
  },
  {
   "cell_type": "code",
   "execution_count": 19,
   "metadata": {},
   "outputs": [
    {
     "data": {
      "text/plain": [
       "kW    1.0\n",
       "dtype: float64"
      ]
     },
     "execution_count": 19,
     "metadata": {},
     "output_type": "execute_result"
    }
   ],
   "source": [
    "norm.sum()"
   ]
  },
  {
   "cell_type": "code",
   "execution_count": 20,
   "metadata": {},
   "outputs": [
    {
     "data": {
      "image/png": "[encoded data removed]",
      "text/plain": [
       "<Figure size 1080x216 with 1 Axes>"
      ]
     },
     "metadata": {
      "needs_background": "light"
     },
     "output_type": "display_data"
    }
   ],
   "source": [
    "# Example of how to scale to a known annual electricity consumption in kWh\n",
    "annual_kWh = 5000\n",
    "scaled = norm * annual_kWh\n",
    "ax = scaled[:24*30].plot(\n",
    "    title=f'First month of domestic load profile\\nScaled to: {float(scaled.sum())} kWh per year',\n",
    "    figsize=(15,3))"
   ]
  },
  {
   "cell_type": "code",
   "execution_count": 21,
   "metadata": {},
   "outputs": [],
   "source": [
    "domestic = norm"
   ]
  },
  {
   "cell_type": "code",
   "execution_count": null,
   "metadata": {},
   "outputs": [],
   "source": []
  },
  {
   "cell_type": "code",
   "execution_count": null,
   "metadata": {},
   "outputs": [],
   "source": []
  },
  {
   "cell_type": "markdown",
   "metadata": {},
   "source": [
    "## Non-Domestic"
   ]
  },
  {
   "cell_type": "code",
   "execution_count": 22,
   "metadata": {},
   "outputs": [
    {
     "data": {
      "text/html": [
       "<div>\n",
       "<style scoped>\n",
       "    .dataframe tbody tr th:only-of-type {\n",
       "        vertical-align: middle;\n",
       "    }\n",
       "\n",
       "    .dataframe tbody tr th {\n",
       "        vertical-align: top;\n",
       "    }\n",
       "\n",
       "    .dataframe thead th {\n",
       "        text-align: right;\n",
       "    }\n",
       "</style>\n",
       "<table border=\"1\" class=\"dataframe\">\n",
       "  <thead>\n",
       "    <tr style=\"text-align: right;\">\n",
       "      <th></th>\n",
       "      <th>Time</th>\n",
       "      <th>Aut Wd</th>\n",
       "      <th>Aut Sat</th>\n",
       "      <th>Aut Sun</th>\n",
       "      <th>Hsr Wd</th>\n",
       "      <th>Hsr Sat</th>\n",
       "      <th>Hsr Sun</th>\n",
       "      <th>Smr Wd</th>\n",
       "      <th>Smr Sat</th>\n",
       "      <th>Smr Sun</th>\n",
       "      <th>Spr Wd</th>\n",
       "      <th>Spr Sat</th>\n",
       "      <th>Spr Sun</th>\n",
       "      <th>Wtr Wd</th>\n",
       "      <th>Wtr Sat</th>\n",
       "      <th>Wtr Sun</th>\n",
       "    </tr>\n",
       "  </thead>\n",
       "  <tbody>\n",
       "    <tr>\n",
       "      <th>0</th>\n",
       "      <td>00:30:00</td>\n",
       "      <td>0.60</td>\n",
       "      <td>0.65</td>\n",
       "      <td>0.68</td>\n",
       "      <td>0.63</td>\n",
       "      <td>0.68</td>\n",
       "      <td>0.67</td>\n",
       "      <td>0.62</td>\n",
       "      <td>0.68</td>\n",
       "      <td>0.68</td>\n",
       "      <td>0.64</td>\n",
       "      <td>0.66</td>\n",
       "      <td>0.70</td>\n",
       "      <td>0.70</td>\n",
       "      <td>0.71</td>\n",
       "      <td>0.73</td>\n",
       "    </tr>\n",
       "    <tr>\n",
       "      <th>1</th>\n",
       "      <td>01:00:00</td>\n",
       "      <td>0.57</td>\n",
       "      <td>0.61</td>\n",
       "      <td>0.65</td>\n",
       "      <td>0.59</td>\n",
       "      <td>0.63</td>\n",
       "      <td>0.63</td>\n",
       "      <td>0.59</td>\n",
       "      <td>0.64</td>\n",
       "      <td>0.64</td>\n",
       "      <td>0.60</td>\n",
       "      <td>0.61</td>\n",
       "      <td>0.63</td>\n",
       "      <td>0.77</td>\n",
       "      <td>0.77</td>\n",
       "      <td>0.79</td>\n",
       "    </tr>\n",
       "    <tr>\n",
       "      <th>2</th>\n",
       "      <td>01:30:00</td>\n",
       "      <td>0.56</td>\n",
       "      <td>0.60</td>\n",
       "      <td>0.62</td>\n",
       "      <td>0.57</td>\n",
       "      <td>0.62</td>\n",
       "      <td>0.61</td>\n",
       "      <td>0.58</td>\n",
       "      <td>0.61</td>\n",
       "      <td>0.60</td>\n",
       "      <td>0.60</td>\n",
       "      <td>0.59</td>\n",
       "      <td>0.62</td>\n",
       "      <td>0.78</td>\n",
       "      <td>0.78</td>\n",
       "      <td>0.79</td>\n",
       "    </tr>\n",
       "    <tr>\n",
       "      <th>3</th>\n",
       "      <td>02:00:00</td>\n",
       "      <td>0.55</td>\n",
       "      <td>0.57</td>\n",
       "      <td>0.59</td>\n",
       "      <td>0.56</td>\n",
       "      <td>0.60</td>\n",
       "      <td>0.58</td>\n",
       "      <td>0.58</td>\n",
       "      <td>0.61</td>\n",
       "      <td>0.59</td>\n",
       "      <td>0.64</td>\n",
       "      <td>0.63</td>\n",
       "      <td>0.64</td>\n",
       "      <td>0.76</td>\n",
       "      <td>0.76</td>\n",
       "      <td>0.76</td>\n",
       "    </tr>\n",
       "    <tr>\n",
       "      <th>4</th>\n",
       "      <td>02:30:00</td>\n",
       "      <td>0.54</td>\n",
       "      <td>0.56</td>\n",
       "      <td>0.57</td>\n",
       "      <td>0.56</td>\n",
       "      <td>0.57</td>\n",
       "      <td>0.57</td>\n",
       "      <td>0.57</td>\n",
       "      <td>0.59</td>\n",
       "      <td>0.57</td>\n",
       "      <td>0.63</td>\n",
       "      <td>0.62</td>\n",
       "      <td>0.65</td>\n",
       "      <td>0.76</td>\n",
       "      <td>0.75</td>\n",
       "      <td>0.74</td>\n",
       "    </tr>\n",
       "  </tbody>\n",
       "</table>\n",
       "</div>"
      ],
      "text/plain": [
       "       Time  Aut Wd  Aut Sat  Aut Sun  Hsr Wd  Hsr Sat  Hsr Sun  Smr Wd  \\\n",
       "0  00:30:00    0.60     0.65     0.68    0.63     0.68     0.67    0.62   \n",
       "1  01:00:00    0.57     0.61     0.65    0.59     0.63     0.63    0.59   \n",
       "2  01:30:00    0.56     0.60     0.62    0.57     0.62     0.61    0.58   \n",
       "3  02:00:00    0.55     0.57     0.59    0.56     0.60     0.58    0.58   \n",
       "4  02:30:00    0.54     0.56     0.57    0.56     0.57     0.57    0.57   \n",
       "\n",
       "   Smr Sat  Smr Sun  Spr Wd  Spr Sat  Spr Sun  Wtr Wd  Wtr Sat  Wtr Sun  \n",
       "0     0.68     0.68    0.64     0.66     0.70    0.70     0.71     0.73  \n",
       "1     0.64     0.64    0.60     0.61     0.63    0.77     0.77     0.79  \n",
       "2     0.61     0.60    0.60     0.59     0.62    0.78     0.78     0.79  \n",
       "3     0.61     0.59    0.64     0.63     0.64    0.76     0.76     0.76  \n",
       "4     0.59     0.57    0.63     0.62     0.65    0.76     0.75     0.74  "
      ]
     },
     "execution_count": 22,
     "metadata": {},
     "output_type": "execute_result"
    }
   ],
   "source": [
    "df = dfs['Profile Class 3'].copy()\n",
    "df.head()"
   ]
  },
  {
   "cell_type": "code",
   "execution_count": 23,
   "metadata": {},
   "outputs": [
    {
     "data": {
      "text/plain": [
       "(48, 16)"
      ]
     },
     "execution_count": 23,
     "metadata": {},
     "output_type": "execute_result"
    }
   ],
   "source": [
    "dfs['Profile Class 1'].shape"
   ]
  },
  {
   "cell_type": "code",
   "execution_count": 24,
   "metadata": {},
   "outputs": [
    {
     "data": {
      "text/html": [
       "<div>\n",
       "<style scoped>\n",
       "    .dataframe tbody tr th:only-of-type {\n",
       "        vertical-align: middle;\n",
       "    }\n",
       "\n",
       "    .dataframe tbody tr th {\n",
       "        vertical-align: top;\n",
       "    }\n",
       "\n",
       "    .dataframe thead th {\n",
       "        text-align: right;\n",
       "    }\n",
       "</style>\n",
       "<table border=\"1\" class=\"dataframe\">\n",
       "  <thead>\n",
       "    <tr style=\"text-align: right;\">\n",
       "      <th></th>\n",
       "      <th>Aut Wd</th>\n",
       "      <th>Aut Sat</th>\n",
       "      <th>Aut Sun</th>\n",
       "      <th>Hsr Wd</th>\n",
       "      <th>Hsr Sat</th>\n",
       "      <th>Hsr Sun</th>\n",
       "      <th>Smr Wd</th>\n",
       "      <th>Smr Sat</th>\n",
       "      <th>Smr Sun</th>\n",
       "      <th>Spr Wd</th>\n",
       "      <th>Spr Sat</th>\n",
       "      <th>Spr Sun</th>\n",
       "      <th>Wtr Wd</th>\n",
       "      <th>Wtr Sat</th>\n",
       "      <th>Wtr Sun</th>\n",
       "    </tr>\n",
       "  </thead>\n",
       "  <tbody>\n",
       "    <tr>\n",
       "      <th>00:00:00</th>\n",
       "      <td>0.585</td>\n",
       "      <td>0.630</td>\n",
       "      <td>0.665</td>\n",
       "      <td>0.610</td>\n",
       "      <td>0.655</td>\n",
       "      <td>0.650</td>\n",
       "      <td>0.605</td>\n",
       "      <td>0.660</td>\n",
       "      <td>0.660</td>\n",
       "      <td>0.620</td>\n",
       "      <td>0.635</td>\n",
       "      <td>0.665</td>\n",
       "      <td>0.735</td>\n",
       "      <td>0.740</td>\n",
       "      <td>0.760</td>\n",
       "    </tr>\n",
       "    <tr>\n",
       "      <th>01:00:00</th>\n",
       "      <td>0.555</td>\n",
       "      <td>0.585</td>\n",
       "      <td>0.605</td>\n",
       "      <td>0.565</td>\n",
       "      <td>0.610</td>\n",
       "      <td>0.595</td>\n",
       "      <td>0.580</td>\n",
       "      <td>0.610</td>\n",
       "      <td>0.595</td>\n",
       "      <td>0.620</td>\n",
       "      <td>0.610</td>\n",
       "      <td>0.630</td>\n",
       "      <td>0.770</td>\n",
       "      <td>0.770</td>\n",
       "      <td>0.775</td>\n",
       "    </tr>\n",
       "    <tr>\n",
       "      <th>02:00:00</th>\n",
       "      <td>0.540</td>\n",
       "      <td>0.555</td>\n",
       "      <td>0.560</td>\n",
       "      <td>0.555</td>\n",
       "      <td>0.570</td>\n",
       "      <td>0.565</td>\n",
       "      <td>0.565</td>\n",
       "      <td>0.590</td>\n",
       "      <td>0.560</td>\n",
       "      <td>0.625</td>\n",
       "      <td>0.620</td>\n",
       "      <td>0.640</td>\n",
       "      <td>0.755</td>\n",
       "      <td>0.750</td>\n",
       "      <td>0.735</td>\n",
       "    </tr>\n",
       "    <tr>\n",
       "      <th>03:00:00</th>\n",
       "      <td>0.540</td>\n",
       "      <td>0.550</td>\n",
       "      <td>0.535</td>\n",
       "      <td>0.550</td>\n",
       "      <td>0.575</td>\n",
       "      <td>0.560</td>\n",
       "      <td>0.560</td>\n",
       "      <td>0.575</td>\n",
       "      <td>0.550</td>\n",
       "      <td>0.620</td>\n",
       "      <td>0.595</td>\n",
       "      <td>0.605</td>\n",
       "      <td>0.750</td>\n",
       "      <td>0.745</td>\n",
       "      <td>0.725</td>\n",
       "    </tr>\n",
       "    <tr>\n",
       "      <th>04:00:00</th>\n",
       "      <td>0.560</td>\n",
       "      <td>0.550</td>\n",
       "      <td>0.535</td>\n",
       "      <td>0.560</td>\n",
       "      <td>0.575</td>\n",
       "      <td>0.555</td>\n",
       "      <td>0.580</td>\n",
       "      <td>0.575</td>\n",
       "      <td>0.545</td>\n",
       "      <td>0.625</td>\n",
       "      <td>0.600</td>\n",
       "      <td>0.605</td>\n",
       "      <td>0.780</td>\n",
       "      <td>0.760</td>\n",
       "      <td>0.715</td>\n",
       "    </tr>\n",
       "  </tbody>\n",
       "</table>\n",
       "</div>"
      ],
      "text/plain": [
       "          Aut Wd  Aut Sat  Aut Sun  Hsr Wd  Hsr Sat  Hsr Sun  Smr Wd  Smr Sat  \\\n",
       "00:00:00   0.585    0.630    0.665   0.610    0.655    0.650   0.605    0.660   \n",
       "01:00:00   0.555    0.585    0.605   0.565    0.610    0.595   0.580    0.610   \n",
       "02:00:00   0.540    0.555    0.560   0.555    0.570    0.565   0.565    0.590   \n",
       "03:00:00   0.540    0.550    0.535   0.550    0.575    0.560   0.560    0.575   \n",
       "04:00:00   0.560    0.550    0.535   0.560    0.575    0.555   0.580    0.575   \n",
       "\n",
       "          Smr Sun  Spr Wd  Spr Sat  Spr Sun  Wtr Wd  Wtr Sat  Wtr Sun  \n",
       "00:00:00    0.660   0.620    0.635    0.665   0.735    0.740    0.760  \n",
       "01:00:00    0.595   0.620    0.610    0.630   0.770    0.770    0.775  \n",
       "02:00:00    0.560   0.625    0.620    0.640   0.755    0.750    0.735  \n",
       "03:00:00    0.550   0.620    0.595    0.605   0.750    0.745    0.725  \n",
       "04:00:00    0.545   0.625    0.600    0.605   0.780    0.760    0.715  "
      ]
     },
     "execution_count": 24,
     "metadata": {},
     "output_type": "execute_result"
    }
   ],
   "source": [
    "df.index = pd.timedelta_range(start='00:00:00', periods=48, freq='30min')\n",
    "df = df.drop(columns=['Time'])\n",
    "df = df.resample('1H').mean()\n",
    "df.head()"
   ]
  },
  {
   "cell_type": "markdown",
   "metadata": {},
   "source": [
    "### Spring"
   ]
  },
  {
   "cell_type": "code",
   "execution_count": 25,
   "metadata": {},
   "outputs": [],
   "source": [
    "weekdays = np.tile( df['Spr Wd'].values, 5 )\n",
    "sat = df['Spr Sat'].values\n",
    "sun = df['Spr Sun'].values\n",
    "spring_week = np.concatenate( [weekdays, sat, sun] )\n",
    "spring = np.tile( spring_week, 6 )"
   ]
  },
  {
   "cell_type": "markdown",
   "metadata": {},
   "source": [
    "### Summer"
   ]
  },
  {
   "cell_type": "code",
   "execution_count": 26,
   "metadata": {},
   "outputs": [],
   "source": [
    "weekdays = np.tile( df['Smr Wd'].values, 5 )\n",
    "sat = df['Smr Sat'].values\n",
    "sun = df['Smr Sun'].values\n",
    "summer_week = np.concatenate( [weekdays, sat, sun] )\n",
    "summer = np.tile( summer_week, 10 )"
   ]
  },
  {
   "cell_type": "markdown",
   "metadata": {},
   "source": [
    "### High Summer"
   ]
  },
  {
   "cell_type": "code",
   "execution_count": 27,
   "metadata": {},
   "outputs": [],
   "source": [
    "weekdays = np.tile( df['Hsr Wd'].values, 5 )\n",
    "sat = df['Hsr Sat'].values\n",
    "sun = df['Hsr Sun'].values\n",
    "high_summer_week = np.concatenate( [weekdays, sat, sun] )\n",
    "high_summer = np.tile( high_summer_week, 7 )"
   ]
  },
  {
   "cell_type": "markdown",
   "metadata": {},
   "source": [
    "### Autumn"
   ]
  },
  {
   "cell_type": "code",
   "execution_count": 28,
   "metadata": {},
   "outputs": [],
   "source": [
    "weekdays = np.tile( df['Aut Wd'].values, 5 )\n",
    "sat = df['Aut Sat'].values\n",
    "sun = df['Aut Sun'].values\n",
    "autumn_week = np.concatenate( [weekdays, sat, sun] )\n",
    "autumn = np.tile( autumn_week, 7 )"
   ]
  },
  {
   "cell_type": "markdown",
   "metadata": {},
   "source": [
    "### Winter"
   ]
  },
  {
   "cell_type": "code",
   "execution_count": 29,
   "metadata": {},
   "outputs": [],
   "source": [
    "weekdays = np.tile( df['Wtr Wd'].values, 5 )\n",
    "sat = df['Wtr Sat'].values\n",
    "sun = df['Wtr Sun'].values\n",
    "winter_week = np.concatenate( [weekdays, sat, sun] )\n",
    "winter = np.tile( winter_week, 22 )"
   ]
  },
  {
   "cell_type": "markdown",
   "metadata": {},
   "source": [
    "### Year"
   ]
  },
  {
   "cell_type": "code",
   "execution_count": 30,
   "metadata": {},
   "outputs": [
    {
     "data": {
      "text/plain": [
       "8736"
      ]
     },
     "execution_count": 30,
     "metadata": {},
     "output_type": "execute_result"
    }
   ],
   "source": [
    "year_from_spring = np.concatenate([ spring, summer, high_summer, autumn, winter ])\n",
    "len(year_from_spring)"
   ]
  },
  {
   "cell_type": "code",
   "execution_count": 31,
   "metadata": {},
   "outputs": [
    {
     "data": {
      "text/plain": [
       "8736"
      ]
     },
     "execution_count": 31,
     "metadata": {},
     "output_type": "execute_result"
    }
   ],
   "source": [
    "# Spring starts on 29th March -> ~12th week of year\n",
    "WEEK = 24*7\n",
    "index = [ (hour % (WEEK*52)) for hour in range( (12-1)*WEEK, (52+12-1)*WEEK ) ]\n",
    "len(index)"
   ]
  },
  {
   "cell_type": "code",
   "execution_count": 32,
   "metadata": {},
   "outputs": [
    {
     "data": {
      "text/html": [
       "<div>\n",
       "<style scoped>\n",
       "    .dataframe tbody tr th:only-of-type {\n",
       "        vertical-align: middle;\n",
       "    }\n",
       "\n",
       "    .dataframe tbody tr th {\n",
       "        vertical-align: top;\n",
       "    }\n",
       "\n",
       "    .dataframe thead th {\n",
       "        text-align: right;\n",
       "    }\n",
       "</style>\n",
       "<table border=\"1\" class=\"dataframe\">\n",
       "  <thead>\n",
       "    <tr style=\"text-align: right;\">\n",
       "      <th></th>\n",
       "      <th>kW</th>\n",
       "    </tr>\n",
       "    <tr>\n",
       "      <th>hour</th>\n",
       "      <th></th>\n",
       "    </tr>\n",
       "  </thead>\n",
       "  <tbody>\n",
       "    <tr>\n",
       "      <th>1848</th>\n",
       "      <td>0.620</td>\n",
       "    </tr>\n",
       "    <tr>\n",
       "      <th>1849</th>\n",
       "      <td>0.620</td>\n",
       "    </tr>\n",
       "    <tr>\n",
       "      <th>1850</th>\n",
       "      <td>0.625</td>\n",
       "    </tr>\n",
       "    <tr>\n",
       "      <th>1851</th>\n",
       "      <td>0.620</td>\n",
       "    </tr>\n",
       "    <tr>\n",
       "      <th>1852</th>\n",
       "      <td>0.625</td>\n",
       "    </tr>\n",
       "    <tr>\n",
       "      <th>...</th>\n",
       "      <td>...</td>\n",
       "    </tr>\n",
       "    <tr>\n",
       "      <th>1843</th>\n",
       "      <td>1.030</td>\n",
       "    </tr>\n",
       "    <tr>\n",
       "      <th>1844</th>\n",
       "      <td>0.945</td>\n",
       "    </tr>\n",
       "    <tr>\n",
       "      <th>1845</th>\n",
       "      <td>0.885</td>\n",
       "    </tr>\n",
       "    <tr>\n",
       "      <th>1846</th>\n",
       "      <td>0.810</td>\n",
       "    </tr>\n",
       "    <tr>\n",
       "      <th>1847</th>\n",
       "      <td>0.740</td>\n",
       "    </tr>\n",
       "  </tbody>\n",
       "</table>\n",
       "<p>8736 rows × 1 columns</p>\n",
       "</div>"
      ],
      "text/plain": [
       "         kW\n",
       "hour       \n",
       "1848  0.620\n",
       "1849  0.620\n",
       "1850  0.625\n",
       "1851  0.620\n",
       "1852  0.625\n",
       "...     ...\n",
       "1843  1.030\n",
       "1844  0.945\n",
       "1845  0.885\n",
       "1846  0.810\n",
       "1847  0.740\n",
       "\n",
       "[8736 rows x 1 columns]"
      ]
     },
     "execution_count": 32,
     "metadata": {},
     "output_type": "execute_result"
    }
   ],
   "source": [
    "df = pd.DataFrame(year_from_spring, index=index, columns=['kW'])\n",
    "df.index.name = 'hour'\n",
    "df"
   ]
  },
  {
   "cell_type": "code",
   "execution_count": 33,
   "metadata": {},
   "outputs": [
    {
     "data": {
      "text/html": [
       "<div>\n",
       "<style scoped>\n",
       "    .dataframe tbody tr th:only-of-type {\n",
       "        vertical-align: middle;\n",
       "    }\n",
       "\n",
       "    .dataframe tbody tr th {\n",
       "        vertical-align: top;\n",
       "    }\n",
       "\n",
       "    .dataframe thead th {\n",
       "        text-align: right;\n",
       "    }\n",
       "</style>\n",
       "<table border=\"1\" class=\"dataframe\">\n",
       "  <thead>\n",
       "    <tr style=\"text-align: right;\">\n",
       "      <th></th>\n",
       "      <th>kW</th>\n",
       "    </tr>\n",
       "    <tr>\n",
       "      <th>hour</th>\n",
       "      <th></th>\n",
       "    </tr>\n",
       "  </thead>\n",
       "  <tbody>\n",
       "    <tr>\n",
       "      <th>0</th>\n",
       "      <td>0.735</td>\n",
       "    </tr>\n",
       "    <tr>\n",
       "      <th>1</th>\n",
       "      <td>0.770</td>\n",
       "    </tr>\n",
       "    <tr>\n",
       "      <th>2</th>\n",
       "      <td>0.755</td>\n",
       "    </tr>\n",
       "    <tr>\n",
       "      <th>3</th>\n",
       "      <td>0.750</td>\n",
       "    </tr>\n",
       "    <tr>\n",
       "      <th>4</th>\n",
       "      <td>0.780</td>\n",
       "    </tr>\n",
       "    <tr>\n",
       "      <th>...</th>\n",
       "      <td>...</td>\n",
       "    </tr>\n",
       "    <tr>\n",
       "      <th>8731</th>\n",
       "      <td>1.030</td>\n",
       "    </tr>\n",
       "    <tr>\n",
       "      <th>8732</th>\n",
       "      <td>0.945</td>\n",
       "    </tr>\n",
       "    <tr>\n",
       "      <th>8733</th>\n",
       "      <td>0.885</td>\n",
       "    </tr>\n",
       "    <tr>\n",
       "      <th>8734</th>\n",
       "      <td>0.810</td>\n",
       "    </tr>\n",
       "    <tr>\n",
       "      <th>8735</th>\n",
       "      <td>0.740</td>\n",
       "    </tr>\n",
       "  </tbody>\n",
       "</table>\n",
       "<p>8736 rows × 1 columns</p>\n",
       "</div>"
      ],
      "text/plain": [
       "         kW\n",
       "hour       \n",
       "0     0.735\n",
       "1     0.770\n",
       "2     0.755\n",
       "3     0.750\n",
       "4     0.780\n",
       "...     ...\n",
       "8731  1.030\n",
       "8732  0.945\n",
       "8733  0.885\n",
       "8734  0.810\n",
       "8735  0.740\n",
       "\n",
       "[8736 rows x 1 columns]"
      ]
     },
     "execution_count": 33,
     "metadata": {},
     "output_type": "execute_result"
    }
   ],
   "source": [
    "df = df.sort_index()\n",
    "df"
   ]
  },
  {
   "cell_type": "code",
   "execution_count": 34,
   "metadata": {},
   "outputs": [
    {
     "data": {
      "text/plain": [
       "<matplotlib.axes._subplots.AxesSubplot at 0x7fbcbb9d1c50>"
      ]
     },
     "execution_count": 34,
     "metadata": {},
     "output_type": "execute_result"
    },
    {
     "data": {
      "image/png": "[encoded data removed]",
      "text/plain": [
       "<Figure size 432x288 with 1 Axes>"
      ]
     },
     "metadata": {
      "needs_background": "light"
     },
     "output_type": "display_data"
    }
   ],
   "source": [
    "df[:24*7].plot()"
   ]
  },
  {
   "cell_type": "markdown",
   "metadata": {},
   "source": [
    "### Trend"
   ]
  },
  {
   "cell_type": "code",
   "execution_count": 35,
   "metadata": {},
   "outputs": [
    {
     "data": {
      "image/png": "[encoded data removed]",
      "text/plain": [
       "<Figure size 432x288 with 1 Axes>"
      ]
     },
     "metadata": {
      "needs_background": "light"
     },
     "output_type": "display_data"
    }
   ],
   "source": [
    "monthly_trend = ( df.groupby(df.index // (len(df)//12)).mean() )\n",
    "monthly_trend.index.name = 'month'\n",
    "ax = monthly_trend.plot.bar(title='Average non-domestic building daily power\\n Grouped by month of year')"
   ]
  },
  {
   "cell_type": "markdown",
   "metadata": {},
   "source": [
    "### Normalised"
   ]
  },
  {
   "cell_type": "code",
   "execution_count": 36,
   "metadata": {},
   "outputs": [
    {
     "data": {
      "text/html": [
       "<div>\n",
       "<style scoped>\n",
       "    .dataframe tbody tr th:only-of-type {\n",
       "        vertical-align: middle;\n",
       "    }\n",
       "\n",
       "    .dataframe tbody tr th {\n",
       "        vertical-align: top;\n",
       "    }\n",
       "\n",
       "    .dataframe thead th {\n",
       "        text-align: right;\n",
       "    }\n",
       "</style>\n",
       "<table border=\"1\" class=\"dataframe\">\n",
       "  <thead>\n",
       "    <tr style=\"text-align: right;\">\n",
       "      <th></th>\n",
       "      <th>kW</th>\n",
       "    </tr>\n",
       "    <tr>\n",
       "      <th>hour</th>\n",
       "      <th></th>\n",
       "    </tr>\n",
       "  </thead>\n",
       "  <tbody>\n",
       "    <tr>\n",
       "      <th>0</th>\n",
       "      <td>0.000054</td>\n",
       "    </tr>\n",
       "    <tr>\n",
       "      <th>1</th>\n",
       "      <td>0.000057</td>\n",
       "    </tr>\n",
       "    <tr>\n",
       "      <th>2</th>\n",
       "      <td>0.000056</td>\n",
       "    </tr>\n",
       "    <tr>\n",
       "      <th>3</th>\n",
       "      <td>0.000056</td>\n",
       "    </tr>\n",
       "    <tr>\n",
       "      <th>4</th>\n",
       "      <td>0.000058</td>\n",
       "    </tr>\n",
       "  </tbody>\n",
       "</table>\n",
       "</div>"
      ],
      "text/plain": [
       "            kW\n",
       "hour          \n",
       "0     0.000054\n",
       "1     0.000057\n",
       "2     0.000056\n",
       "3     0.000056\n",
       "4     0.000058"
      ]
     },
     "execution_count": 36,
     "metadata": {},
     "output_type": "execute_result"
    }
   ],
   "source": [
    "norm = df / df.sum()\n",
    "norm.head()"
   ]
  },
  {
   "cell_type": "code",
   "execution_count": 37,
   "metadata": {},
   "outputs": [
    {
     "data": {
      "text/plain": [
       "kW    1.0\n",
       "dtype: float64"
      ]
     },
     "execution_count": 37,
     "metadata": {},
     "output_type": "execute_result"
    }
   ],
   "source": [
    "norm.sum()"
   ]
  },
  {
   "cell_type": "code",
   "execution_count": 38,
   "metadata": {},
   "outputs": [
    {
     "data": {
      "image/png": "[encoded data removed]",
      "text/plain": [
       "<Figure size 1080x216 with 1 Axes>"
      ]
     },
     "metadata": {
      "needs_background": "light"
     },
     "output_type": "display_data"
    }
   ],
   "source": [
    "# Example of how to scale to a known annual electricity consumption in kWh\n",
    "annual_kWh = 10_000\n",
    "scaled = norm * annual_kWh\n",
    "ax = scaled[:24*30].plot(\n",
    "    title=f'First month of non-domestic load profile\\nScaled to: {int(round(scaled.sum(), 0))} kWh per year',\n",
    "    figsize=(15,3))"
   ]
  },
  {
   "cell_type": "code",
   "execution_count": 39,
   "metadata": {},
   "outputs": [],
   "source": [
    "non_domestic = norm"
   ]
  },
  {
   "cell_type": "code",
   "execution_count": null,
   "metadata": {},
   "outputs": [],
   "source": []
  },
  {
   "cell_type": "code",
   "execution_count": null,
   "metadata": {},
   "outputs": [],
   "source": []
  },
  {
   "cell_type": "markdown",
   "metadata": {},
   "source": [
    "# Merge"
   ]
  },
  {
   "cell_type": "code",
   "execution_count": 57,
   "metadata": {},
   "outputs": [
    {
     "data": {
      "text/html": [
       "<div>\n",
       "<style scoped>\n",
       "    .dataframe tbody tr th:only-of-type {\n",
       "        vertical-align: middle;\n",
       "    }\n",
       "\n",
       "    .dataframe tbody tr th {\n",
       "        vertical-align: top;\n",
       "    }\n",
       "\n",
       "    .dataframe thead th {\n",
       "        text-align: right;\n",
       "    }\n",
       "</style>\n",
       "<table border=\"1\" class=\"dataframe\">\n",
       "  <thead>\n",
       "    <tr style=\"text-align: right;\">\n",
       "      <th></th>\n",
       "      <th>domestic_kW</th>\n",
       "      <th>non_domestic_kW</th>\n",
       "    </tr>\n",
       "    <tr>\n",
       "      <th>hour</th>\n",
       "      <th></th>\n",
       "      <th></th>\n",
       "    </tr>\n",
       "  </thead>\n",
       "  <tbody>\n",
       "    <tr>\n",
       "      <th>0</th>\n",
       "      <td>0.000078</td>\n",
       "      <td>0.000054</td>\n",
       "    </tr>\n",
       "    <tr>\n",
       "      <th>1</th>\n",
       "      <td>0.000061</td>\n",
       "      <td>0.000057</td>\n",
       "    </tr>\n",
       "    <tr>\n",
       "      <th>2</th>\n",
       "      <td>0.000055</td>\n",
       "      <td>0.000056</td>\n",
       "    </tr>\n",
       "    <tr>\n",
       "      <th>3</th>\n",
       "      <td>0.000053</td>\n",
       "      <td>0.000056</td>\n",
       "    </tr>\n",
       "    <tr>\n",
       "      <th>4</th>\n",
       "      <td>0.000053</td>\n",
       "      <td>0.000058</td>\n",
       "    </tr>\n",
       "    <tr>\n",
       "      <th>...</th>\n",
       "      <td>...</td>\n",
       "      <td>...</td>\n",
       "    </tr>\n",
       "    <tr>\n",
       "      <th>8731</th>\n",
       "      <td>0.000222</td>\n",
       "      <td>0.000076</td>\n",
       "    </tr>\n",
       "    <tr>\n",
       "      <th>8732</th>\n",
       "      <td>0.000205</td>\n",
       "      <td>0.000070</td>\n",
       "    </tr>\n",
       "    <tr>\n",
       "      <th>8733</th>\n",
       "      <td>0.000191</td>\n",
       "      <td>0.000066</td>\n",
       "    </tr>\n",
       "    <tr>\n",
       "      <th>8734</th>\n",
       "      <td>0.000163</td>\n",
       "      <td>0.000060</td>\n",
       "    </tr>\n",
       "    <tr>\n",
       "      <th>8735</th>\n",
       "      <td>0.000118</td>\n",
       "      <td>0.000055</td>\n",
       "    </tr>\n",
       "  </tbody>\n",
       "</table>\n",
       "<p>8736 rows × 2 columns</p>\n",
       "</div>"
      ],
      "text/plain": [
       "      domestic_kW  non_domestic_kW\n",
       "hour                              \n",
       "0        0.000078         0.000054\n",
       "1        0.000061         0.000057\n",
       "2        0.000055         0.000056\n",
       "3        0.000053         0.000056\n",
       "4        0.000053         0.000058\n",
       "...           ...              ...\n",
       "8731     0.000222         0.000076\n",
       "8732     0.000205         0.000070\n",
       "8733     0.000191         0.000066\n",
       "8734     0.000163         0.000060\n",
       "8735     0.000118         0.000055\n",
       "\n",
       "[8736 rows x 2 columns]"
      ]
     },
     "execution_count": 57,
     "metadata": {},
     "output_type": "execute_result"
    }
   ],
   "source": [
    "df = pd.DataFrame( [domestic.kW, non_domestic.kW] ).T\n",
    "df.columns = ['domestic_kW', 'non_domestic_kW']\n",
    "df"
   ]
  },
  {
   "cell_type": "code",
   "execution_count": 58,
   "metadata": {},
   "outputs": [
    {
     "data": {
      "image/png": "[encoded data removed]",
      "text/plain": [
       "<Figure size 1080x216 with 1 Axes>"
      ]
     },
     "metadata": {
      "needs_background": "light"
     },
     "output_type": "display_data"
    }
   ],
   "source": [
    "ax = df[:24*7].plot(figsize=(15,3),\n",
    "                    title='First week of annual hourly building load profiles \\n' + \\\n",
    "                           'Normalised to integrate to 1.0 kWh per year')"
   ]
  },
  {
   "cell_type": "code",
   "execution_count": 60,
   "metadata": {},
   "outputs": [],
   "source": [
    "df.to_csv('cleaned/building_profiles.csv', index=False)"
   ]
  },
  {
   "cell_type": "code",
   "execution_count": null,
   "metadata": {},
   "outputs": [],
   "source": []
  },
  {
   "cell_type": "code",
   "execution_count": null,
   "metadata": {},
   "outputs": [],
   "source": []
  },
  {
   "cell_type": "code",
   "execution_count": null,
   "metadata": {},
   "outputs": [],
   "source": []
  },
  {
   "cell_type": "code",
   "execution_count": null,
   "metadata": {},
   "outputs": [],
   "source": []
  },
  {
   "cell_type": "code",
   "execution_count": null,
   "metadata": {},
   "outputs": [],
   "source": []
  }
 ],
 "metadata": {
  "kernelspec": {
   "display_name": "Python 3",
   "language": "python",
   "name": "python3"
  },
  "language_info": {
   "codemirror_mode": {
    "name": "ipython",
    "version": 3
   },
   "file_extension": ".py",
   "mimetype": "text/x-python",
   "name": "python",
   "nbconvert_exporter": "python",
   "pygments_lexer": "ipython3",
   "version": "3.7.6"
  }
 },
 "nbformat": 4,
 "nbformat_minor": 4
}
